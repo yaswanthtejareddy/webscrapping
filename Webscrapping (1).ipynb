{
 "cells": [
  {
   "cell_type": "code",
   "execution_count": 1,
   "id": "15abaf24",
   "metadata": {},
   "outputs": [],
   "source": [
    "import requests"
   ]
  },
  {
   "cell_type": "code",
   "execution_count": 2,
   "id": "85ac2b1d",
   "metadata": {},
   "outputs": [],
   "source": [
    "topics_url = \"https://github.com/topics/beautiful-soup\""
   ]
  },
  {
   "cell_type": "code",
   "execution_count": 3,
   "id": "ee3ddb97",
   "metadata": {},
   "outputs": [],
   "source": [
    "response = requests.get(topics_url)"
   ]
  },
  {
   "cell_type": "code",
   "execution_count": 4,
   "id": "2a34826c",
   "metadata": {},
   "outputs": [
    {
     "data": {
      "text/plain": [
       "requests.models.Response"
      ]
     },
     "execution_count": 4,
     "metadata": {},
     "output_type": "execute_result"
    }
   ],
   "source": [
    "type(response)"
   ]
  },
  {
   "cell_type": "code",
   "execution_count": 5,
   "id": "ac7c6926",
   "metadata": {},
   "outputs": [
    {
     "data": {
      "text/plain": [
       "200"
      ]
     },
     "execution_count": 5,
     "metadata": {},
     "output_type": "execute_result"
    }
   ],
   "source": [
    "response.status_code"
   ]
  },
  {
   "cell_type": "code",
   "execution_count": 6,
   "id": "40714798",
   "metadata": {},
   "outputs": [],
   "source": [
    "page_contents = response.text"
   ]
  },
  {
   "cell_type": "code",
   "execution_count": 7,
   "id": "4a0e41bd",
   "metadata": {},
   "outputs": [
    {
     "data": {
      "text/plain": [
       "625318"
      ]
     },
     "execution_count": 7,
     "metadata": {},
     "output_type": "execute_result"
    }
   ],
   "source": [
    "len(page_contents)"
   ]
  },
  {
   "cell_type": "code",
   "execution_count": 8,
   "id": "5c7f7971",
   "metadata": {},
   "outputs": [
    {
     "data": {
      "text/plain": [
       "'\\n\\n<!DOCTYPE html>\\n<html lang=\"en\" data-color-mode=\"auto\" data-light-theme=\"light\" data-dark-theme=\"dark\" data-a11y-animated-images=\"system\">\\n  <head>\\n    <meta charset=\"utf-8\">\\n  <link rel=\"dns-prefetch\" href=\"https://github.githubassets.com\">\\n  <link rel=\"dns-prefetch\" href=\"https://avatars.githubusercontent.com\">\\n  <link rel=\"dns-prefetch\" href=\"https://github-cloud.s3.amazonaws.com\">\\n  <link rel=\"dns-prefetch\" href=\"https://user-images.githubusercontent.com/\">\\n  <link rel=\"preconnect\" href=\"https://github.githubassets.com\" crossorigin>\\n  <link rel=\"preconnect\" href=\"https://avatars.githubusercontent.com\">\\n\\n\\n\\n  <link crossorigin=\"anonymous\" media=\"all\" integrity=\"sha512-UXiu4O52iBFkqt6Kx5t+pqHYP2/LWWIw9+l5ia74TWw+xPzpH44BFfAQp7yzCe0XFGZa72Xiqyml6tox1KkUjw==\" rel=\"stylesheet\" href=\"https://github.githubassets.com/assets/light-5178aee0ee76.css\" /><link crossorigin=\"anonymous\" media=\"all\" integrity=\"sha512-IX1PnI5wWBz8Kgb1JI0f2QFa/WuRQQHJHe0vkKinQzsxRlNb4b8NgODX5htSZVAAkA1O6Vch+RRlDTI8j'"
      ]
     },
     "execution_count": 8,
     "metadata": {},
     "output_type": "execute_result"
    }
   ],
   "source": [
    "page_contents[:1000]"
   ]
  },
  {
   "cell_type": "code",
   "execution_count": 9,
   "id": "9c684d40",
   "metadata": {},
   "outputs": [],
   "source": [
    "with open('beautiful-soup-topics.html', 'w', encoding=\"utf-8\") as file:\n",
    "    file.write(page_contents)"
   ]
  },
  {
   "cell_type": "code",
   "execution_count": 10,
   "id": "1cfc7bb2",
   "metadata": {},
   "outputs": [
    {
     "name": "stdout",
     "output_type": "stream",
     "text": [
      "Requirement already satisfied: jovian in c:\\users\\yaswanthreddy\\appdata\\local\\programs\\python\\python310\\lib\\site-packages (0.2.41)\n",
      "Requirement already satisfied: requests in c:\\users\\yaswanthreddy\\appdata\\local\\programs\\python\\python310\\lib\\site-packages (from jovian) (2.28.1)\n",
      "Requirement already satisfied: click in c:\\users\\yaswanthreddy\\appdata\\local\\programs\\python\\python310\\lib\\site-packages (from jovian) (8.1.3)\n",
      "Requirement already satisfied: uuid in c:\\users\\yaswanthreddy\\appdata\\local\\programs\\python\\python310\\lib\\site-packages (from jovian) (1.30)\n",
      "Requirement already satisfied: pyyaml in c:\\users\\yaswanthreddy\\appdata\\local\\programs\\python\\python310\\lib\\site-packages (from jovian) (6.0)\n",
      "Requirement already satisfied: colorama in c:\\users\\yaswanthreddy\\appdata\\local\\programs\\python\\python310\\lib\\site-packages (from click->jovian) (0.4.5)\n",
      "Requirement already satisfied: charset-normalizer<3,>=2 in c:\\users\\yaswanthreddy\\appdata\\local\\programs\\python\\python310\\lib\\site-packages (from requests->jovian) (2.1.0)\n",
      "Requirement already satisfied: certifi>=2017.4.17 in c:\\users\\yaswanthreddy\\appdata\\local\\programs\\python\\python310\\lib\\site-packages (from requests->jovian) (2022.6.15)\n",
      "Requirement already satisfied: urllib3<1.27,>=1.21.1 in c:\\users\\yaswanthreddy\\appdata\\local\\programs\\python\\python310\\lib\\site-packages (from requests->jovian) (1.26.11)\n",
      "Requirement already satisfied: idna<4,>=2.5 in c:\\users\\yaswanthreddy\\appdata\\local\\programs\\python\\python310\\lib\\site-packages (from requests->jovian) (3.3)\n",
      "Note: you may need to restart the kernel to use updated packages.\n"
     ]
    }
   ],
   "source": [
    "pip install jovian"
   ]
  },
  {
   "cell_type": "code",
   "execution_count": 11,
   "id": "daaa8d7d",
   "metadata": {},
   "outputs": [],
   "source": [
    "import jovian"
   ]
  },
  {
   "cell_type": "code",
   "execution_count": 12,
   "id": "f0027b5f",
   "metadata": {},
   "outputs": [
    {
     "data": {
      "application/javascript": [
       "window.require && require([\"base/js/namespace\"],function(Jupyter){Jupyter.notebook.save_checkpoint()})"
      ],
      "text/plain": [
       "<IPython.core.display.Javascript object>"
      ]
     },
     "metadata": {},
     "output_type": "display_data"
    },
    {
     "name": "stdout",
     "output_type": "stream",
     "text": [
      "[jovian] Updating notebook \"karriyaswanthtejareddy/python-web-scraping-and-rest-api\" on https://jovian.ai/\u001b[0m\n",
      "[jovian] Committed successfully! https://jovian.ai/karriyaswanthtejareddy/python-web-scraping-and-rest-api\u001b[0m\n"
     ]
    },
    {
     "data": {
      "text/plain": [
       "'https://jovian.ai/karriyaswanthtejareddy/python-web-scraping-and-rest-api'"
      ]
     },
     "execution_count": 12,
     "metadata": {},
     "output_type": "execute_result"
    }
   ],
   "source": [
    "jovian.commit(project='python-web-scraping-and-rest-api')"
   ]
  },
  {
   "cell_type": "code",
   "execution_count": 13,
   "id": "9befc811",
   "metadata": {},
   "outputs": [
    {
     "data": {
      "application/javascript": [
       "window.require && require([\"base/js/namespace\"],function(Jupyter){Jupyter.notebook.save_checkpoint()})"
      ],
      "text/plain": [
       "<IPython.core.display.Javascript object>"
      ]
     },
     "metadata": {},
     "output_type": "display_data"
    },
    {
     "name": "stdout",
     "output_type": "stream",
     "text": [
      "[jovian] Updating notebook \"karriyaswanthtejareddy/python-web-scraping-and-rest-api\" on https://jovian.ai/\u001b[0m\n",
      "[jovian] Committed successfully! https://jovian.ai/karriyaswanthtejareddy/python-web-scraping-and-rest-api\u001b[0m\n"
     ]
    },
    {
     "data": {
      "text/plain": [
       "'https://jovian.ai/karriyaswanthtejareddy/python-web-scraping-and-rest-api'"
      ]
     },
     "execution_count": 13,
     "metadata": {},
     "output_type": "execute_result"
    }
   ],
   "source": [
    "jovian.commit()"
   ]
  },
  {
   "cell_type": "code",
   "execution_count": 14,
   "id": "f6276e71",
   "metadata": {},
   "outputs": [],
   "source": [
    "from bs4 import BeautifulSoup"
   ]
  },
  {
   "cell_type": "code",
   "execution_count": 15,
   "id": "11656ec2",
   "metadata": {},
   "outputs": [],
   "source": [
    "?BeautifulSoup"
   ]
  },
  {
   "cell_type": "code",
   "execution_count": 16,
   "id": "d491d263",
   "metadata": {},
   "outputs": [],
   "source": [
    "with open('beautiful-soup-topics.html', 'rb') as f:\n",
    "    html_source = f.read()"
   ]
  },
  {
   "cell_type": "code",
   "execution_count": 17,
   "id": "4a9f2c95",
   "metadata": {},
   "outputs": [
    {
     "data": {
      "text/plain": [
       "b'\\r\\n\\r\\n<!DOCTYPE html>\\r\\n<html lang=\"en\" data-color-mode=\"auto\" data-light-theme=\"light\" data-dark-theme=\"dark\" data-a11y-animated-images=\"system\">\\r\\n  <head>\\r\\n    <meta charset=\"utf-8\">\\r\\n  <link rel=\"dns-prefetch\" href=\"https://github.githubassets.com\">\\r\\n  <link rel=\"dns-prefetch\" href=\"https://avatars.githubusercontent.com\">\\r\\n  <link rel=\"dns-prefetch\" href=\"https://github-cloud.s3.amazonaws.com\">\\r\\n  <link rel=\"dns-prefetch\" href=\"https://user-images.githubusercontent.com/\">\\r\\n  <link rel=\"preconnect\" href=\"https://github.githubassets.com\" crossorigin>\\r\\n  <link rel=\"preconnect\" href=\"https://avatars.githubusercontent.com\">\\r\\n\\r\\n\\r\\n\\r\\n  <link crossorigin=\"anonymous\" media=\"all\" integrity=\"sha512-UXiu4O52iBFkqt6Kx5t+pqHYP2/LWWIw9+l5ia74TWw+xPzpH44BFfAQp7yzCe0XFGZa72Xiqyml6tox1KkUjw==\" rel=\"stylesheet\" href=\"https://github.githubassets.com/assets/light-5178aee0ee76.css\" /><link crossorigin=\"anonymous\" media=\"all\" integrity=\"sha512-IX1PnI5wWBz8Kgb1JI0f2QFa/WuRQQHJHe0vkKinQzsxRlNb4b8NgODX5htSZVAAkA'"
      ]
     },
     "execution_count": 17,
     "metadata": {},
     "output_type": "execute_result"
    }
   ],
   "source": [
    "html_source[:1000]"
   ]
  },
  {
   "cell_type": "code",
   "execution_count": 18,
   "id": "79ee0ba4",
   "metadata": {},
   "outputs": [],
   "source": [
    "doc = BeautifulSoup(html_source, 'html.parser')"
   ]
  },
  {
   "cell_type": "code",
   "execution_count": 19,
   "id": "aa665140",
   "metadata": {},
   "outputs": [
    {
     "data": {
      "text/plain": [
       "bs4.BeautifulSoup"
      ]
     },
     "execution_count": 19,
     "metadata": {},
     "output_type": "execute_result"
    }
   ],
   "source": [
    "type(doc)"
   ]
  },
  {
   "cell_type": "code",
   "execution_count": 20,
   "id": "968b9107",
   "metadata": {},
   "outputs": [],
   "source": [
    "title_tag = doc.title"
   ]
  },
  {
   "cell_type": "code",
   "execution_count": 21,
   "id": "4c722729",
   "metadata": {},
   "outputs": [
    {
     "data": {
      "text/plain": [
       "<title>beautiful-soup · GitHub Topics · GitHub</title>"
      ]
     },
     "execution_count": 21,
     "metadata": {},
     "output_type": "execute_result"
    }
   ],
   "source": [
    "title_tag"
   ]
  },
  {
   "cell_type": "code",
   "execution_count": 22,
   "id": "4bd31eaa",
   "metadata": {},
   "outputs": [
    {
     "data": {
      "text/plain": [
       "bs4.element.Tag"
      ]
     },
     "execution_count": 22,
     "metadata": {},
     "output_type": "execute_result"
    }
   ],
   "source": [
    "type(title_tag)"
   ]
  },
  {
   "cell_type": "code",
   "execution_count": 23,
   "id": "0ff832a3",
   "metadata": {},
   "outputs": [
    {
     "data": {
      "text/plain": [
       "'title'"
      ]
     },
     "execution_count": 23,
     "metadata": {},
     "output_type": "execute_result"
    }
   ],
   "source": [
    "title_tag.name"
   ]
  },
  {
   "cell_type": "code",
   "execution_count": 24,
   "id": "e4ca425f",
   "metadata": {},
   "outputs": [
    {
     "data": {
      "text/plain": [
       "bs4.element.Tag"
      ]
     },
     "execution_count": 24,
     "metadata": {},
     "output_type": "execute_result"
    }
   ],
   "source": [
    "type(title_tag)"
   ]
  },
  {
   "cell_type": "code",
   "execution_count": 25,
   "id": "e2961b43",
   "metadata": {},
   "outputs": [
    {
     "data": {
      "text/plain": [
       "'title'"
      ]
     },
     "execution_count": 25,
     "metadata": {},
     "output_type": "execute_result"
    }
   ],
   "source": [
    "title_tag.name"
   ]
  },
  {
   "cell_type": "code",
   "execution_count": 26,
   "id": "16153c51",
   "metadata": {},
   "outputs": [
    {
     "data": {
      "text/plain": [
       "'beautiful-soup · GitHub Topics · GitHub'"
      ]
     },
     "execution_count": 26,
     "metadata": {},
     "output_type": "execute_result"
    }
   ],
   "source": [
    "title_tag.text"
   ]
  },
  {
   "cell_type": "code",
   "execution_count": 27,
   "id": "c448ac21",
   "metadata": {},
   "outputs": [],
   "source": [
    "first_link = doc.a"
   ]
  },
  {
   "cell_type": "code",
   "execution_count": 28,
   "id": "3e306d70",
   "metadata": {},
   "outputs": [
    {
     "data": {
      "text/plain": [
       "<a class=\"px-2 py-4 color-bg-accent-emphasis color-fg-on-emphasis show-on-focus js-skip-to-content\" href=\"#start-of-content\">Skip to content</a>"
      ]
     },
     "execution_count": 28,
     "metadata": {},
     "output_type": "execute_result"
    }
   ],
   "source": [
    "first_link"
   ]
  },
  {
   "cell_type": "code",
   "execution_count": 29,
   "id": "8eb77550",
   "metadata": {},
   "outputs": [
    {
     "data": {
      "text/plain": [
       "'Skip to content'"
      ]
     },
     "execution_count": 29,
     "metadata": {},
     "output_type": "execute_result"
    }
   ],
   "source": [
    "first_link.text"
   ]
  },
  {
   "cell_type": "code",
   "execution_count": 30,
   "id": "3179c750",
   "metadata": {},
   "outputs": [],
   "source": [
    "all_link_tags = doc.find_all('a')"
   ]
  },
  {
   "cell_type": "code",
   "execution_count": 31,
   "id": "be77e165",
   "metadata": {},
   "outputs": [
    {
     "data": {
      "text/plain": [
       "589"
      ]
     },
     "execution_count": 31,
     "metadata": {},
     "output_type": "execute_result"
    }
   ],
   "source": [
    "len(all_link_tags)"
   ]
  },
  {
   "cell_type": "code",
   "execution_count": 32,
   "id": "5337edd2",
   "metadata": {},
   "outputs": [
    {
     "data": {
      "text/plain": [
       "[<a class=\"px-2 py-4 color-bg-accent-emphasis color-fg-on-emphasis show-on-focus js-skip-to-content\" href=\"#start-of-content\">Skip to content</a>,\n",
       " <a aria-label=\"Homepage\" class=\"mr-4 color-fg-inherit\" data-ga-click=\"(Logged out) Header, go to homepage, icon:logo-wordmark\" href=\"https://github.com/\">\n",
       " <svg aria-hidden=\"true\" class=\"octicon octicon-mark-github\" data-view-component=\"true\" height=\"32\" version=\"1.1\" viewbox=\"0 0 16 16\" width=\"32\">\n",
       " <path d=\"M8 0C3.58 0 0 3.58 0 8c0 3.54 2.29 6.53 5.47 7.59.4.07.55-.17.55-.38 0-.19-.01-.82-.01-1.49-2.01.37-2.53-.49-2.69-.94-.09-.23-.48-.94-.82-1.13-.28-.15-.68-.52-.01-.53.63-.01 1.08.58 1.23.82.72 1.21 1.87.87 2.33.66.07-.52.28-.87.51-1.07-1.78-.2-3.64-.89-3.64-3.95 0-.87.31-1.59.82-2.15-.08-.2-.36-1.02.08-2.12 0 0 .67-.21 2.2.82.64-.18 1.32-.27 2-.27.68 0 1.36.09 2 .27 1.53-1.04 2.2-.82 2.2-.82.44 1.1.16 1.92.08 2.12.51.56.82 1.27.82 2.15 0 3.07-1.87 3.75-3.65 3.95.29.25.54.73.54 1.48 0 1.07-.01 1.93-.01 2.2 0 .21.15.46.55.38A8.013 8.013 0 0016 8c0-4.42-3.58-8-8-8z\" fill-rule=\"evenodd\"></path>\n",
       " </svg>\n",
       " </a>,\n",
       " <a class=\"d-inline-block d-lg-none f5 no-underline border color-border-default rounded-2 px-2 py-1 mr-3 mr-sm-5 color-fg-inherit\" data-hydro-click='{\"event_type\":\"authentication.click\",\"payload\":{\"location_in_page\":\"site header\",\"repository_id\":null,\"auth_type\":\"SIGN_UP\",\"originating_url\":\"https://github.com/topics/beautiful-soup\",\"user_id\":null}}' data-hydro-click-hmac=\"21eb04f769060c5ccca2f811ca9f7b46c8fd88ffe043bf2bd47ba83e2c3f08f4\" href=\"/signup?ref_cta=Sign+up&amp;ref_loc=header+logged+out&amp;ref_page=%2Ftopics%2Fbeautiful-soup&amp;source=header\">\n",
       "               Sign up\n",
       "             </a>]"
      ]
     },
     "execution_count": 32,
     "metadata": {},
     "output_type": "execute_result"
    }
   ],
   "source": [
    "all_link_tags[:3]"
   ]
  },
  {
   "cell_type": "code",
   "execution_count": 33,
   "id": "ce0f48c7",
   "metadata": {},
   "outputs": [
    {
     "data": {
      "text/plain": [
       "<a class=\"px-2 py-4 color-bg-accent-emphasis color-fg-on-emphasis show-on-focus js-skip-to-content\" href=\"#start-of-content\">Skip to content</a>"
      ]
     },
     "execution_count": 33,
     "metadata": {},
     "output_type": "execute_result"
    }
   ],
   "source": [
    "\n",
    "\n",
    "first_link"
   ]
  },
  {
   "cell_type": "code",
   "execution_count": 34,
   "id": "3ed4096f",
   "metadata": {},
   "outputs": [
    {
     "data": {
      "text/plain": [
       "'#start-of-content'"
      ]
     },
     "execution_count": 34,
     "metadata": {},
     "output_type": "execute_result"
    }
   ],
   "source": [
    "first_link['href']"
   ]
  },
  {
   "cell_type": "code",
   "execution_count": 35,
   "id": "76ab77fb",
   "metadata": {},
   "outputs": [
    {
     "data": {
      "text/plain": [
       "['px-2',\n",
       " 'py-4',\n",
       " 'color-bg-accent-emphasis',\n",
       " 'color-fg-on-emphasis',\n",
       " 'show-on-focus',\n",
       " 'js-skip-to-content']"
      ]
     },
     "execution_count": 35,
     "metadata": {},
     "output_type": "execute_result"
    }
   ],
   "source": [
    "first_link['class']\n"
   ]
  },
  {
   "cell_type": "code",
   "execution_count": 36,
   "id": "bc973374",
   "metadata": {},
   "outputs": [
    {
     "data": {
      "text/plain": [
       "{'href': '#start-of-content',\n",
       " 'class': ['px-2',\n",
       "  'py-4',\n",
       "  'color-bg-accent-emphasis',\n",
       "  'color-fg-on-emphasis',\n",
       "  'show-on-focus',\n",
       "  'js-skip-to-content']}"
      ]
     },
     "execution_count": 36,
     "metadata": {},
     "output_type": "execute_result"
    }
   ],
   "source": [
    "first_link.attrs"
   ]
  },
  {
   "cell_type": "code",
   "execution_count": 37,
   "id": "5f1ce721",
   "metadata": {},
   "outputs": [
    {
     "data": {
      "text/plain": [
       "[]"
      ]
     },
     "execution_count": 37,
     "metadata": {},
     "output_type": "execute_result"
    }
   ],
   "source": [
    "doc.find_all('img', { 'alt': 'trivialfis'})"
   ]
  },
  {
   "cell_type": "code",
   "execution_count": 38,
   "id": "35bcfcb7",
   "metadata": {},
   "outputs": [],
   "source": [
    "matching_tags = doc.find_all(class_='HeaderMenu-link')"
   ]
  },
  {
   "cell_type": "code",
   "execution_count": 39,
   "id": "3ab7fae3",
   "metadata": {},
   "outputs": [
    {
     "data": {
      "text/plain": [
       "[<summary class=\"HeaderMenu-summary HeaderMenu-link px-0 py-3 border-0 no-wrap d-block d-lg-inline-block\">\n",
       "         Product\n",
       "         <svg class=\"icon-chevon-down-mktg position-absolute position-lg-relative\" fill=\"none\" viewbox=\"0 0 14 8\" x=\"0\" xml:space=\"preserve\" y=\"0\"><path d=\"M1,1l6.2,6L13,1\"></path></svg>\n",
       " </summary>,\n",
       " <a class=\"HeaderMenu-link no-underline py-3 d-block d-lg-inline-block\" data-analytics-event='{\"category\":\"Header menu top item (logged out)\",\"action\":\"click to go to Team\",\"label\":\"ref_page:/topics/beautiful-soup;ref_cta:Team;\"}' href=\"/team\">Team</a>,\n",
       " <a class=\"HeaderMenu-link no-underline py-3 d-block d-lg-inline-block\" data-analytics-event='{\"category\":\"Header menu top item (logged out)\",\"action\":\"click to go to Enterprise\",\"label\":\"ref_page:/topics/beautiful-soup;ref_cta:Enterprise;\"}' href=\"/enterprise\">Enterprise</a>,\n",
       " <summary class=\"HeaderMenu-summary HeaderMenu-link px-0 py-3 border-0 no-wrap d-block d-lg-inline-block\">\n",
       "         Explore\n",
       "         <svg class=\"icon-chevon-down-mktg position-absolute position-lg-relative\" fill=\"none\" viewbox=\"0 0 14 8\" x=\"0\" xml:space=\"preserve\" y=\"0\"><path d=\"M1,1l6.2,6L13,1\"></path></svg>\n",
       " </summary>,\n",
       " <a class=\"HeaderMenu-link no-underline py-3 d-block d-lg-inline-block\" data-analytics-event='{\"category\":\"Header menu top item (logged out)\",\"action\":\"click to go to Marketplace\",\"label\":\"ref_page:/topics/beautiful-soup;ref_cta:Marketplace;\"}' href=\"/marketplace\">Marketplace</a>,\n",
       " <summary class=\"HeaderMenu-summary HeaderMenu-link px-0 py-3 border-0 no-wrap d-block d-lg-inline-block\">\n",
       "         Pricing\n",
       "         <svg class=\"icon-chevon-down-mktg position-absolute position-lg-relative\" fill=\"none\" viewbox=\"0 0 14 8\" x=\"0\" xml:space=\"preserve\" y=\"0\"><path d=\"M1,1l6.2,6L13,1\"></path></svg>\n",
       " </summary>,\n",
       " <a class=\"HeaderMenu-link flex-shrink-0 no-underline\" data-ga-click=\"(Logged out) Header, clicked Sign in, text:sign-in\" data-hydro-click='{\"event_type\":\"authentication.click\",\"payload\":{\"location_in_page\":\"site header menu\",\"repository_id\":null,\"auth_type\":\"SIGN_UP\",\"originating_url\":\"https://github.com/topics/beautiful-soup\",\"user_id\":null}}' data-hydro-click-hmac=\"2eb5d749c862af7a19cc856539801f8fb34346d234e96c0e911e0e45920ac106\" href=\"/login?return_to=https%3A%2F%2Fgithub.com%2Ftopics%2Fbeautiful-soup\">\n",
       "             Sign in\n",
       "           </a>,\n",
       " <a class=\"HeaderMenu-link flex-shrink-0 d-inline-block no-underline border color-border-default rounded px-2 py-1\" data-analytics-event='{\"category\":\"Sign up\",\"action\":\"click to sign up for account\",\"label\":\"ref_page:/topics/beautiful-soup;ref_cta:Sign up;ref_loc:header logged out\"}' data-hydro-click='{\"event_type\":\"authentication.click\",\"payload\":{\"location_in_page\":\"site header menu\",\"repository_id\":null,\"auth_type\":\"SIGN_UP\",\"originating_url\":\"https://github.com/topics/beautiful-soup\",\"user_id\":null}}' data-hydro-click-hmac=\"2eb5d749c862af7a19cc856539801f8fb34346d234e96c0e911e0e45920ac106\" href=\"/signup?ref_cta=Sign+up&amp;ref_loc=header+logged+out&amp;ref_page=%2Ftopics%2Fbeautiful-soup&amp;source=header\">\n",
       "             Sign up\n",
       "           </a>]"
      ]
     },
     "execution_count": 39,
     "metadata": {},
     "output_type": "execute_result"
    }
   ],
   "source": [
    "matching_tags"
   ]
  },
  {
   "cell_type": "code",
   "execution_count": 40,
   "id": "ba892dd6",
   "metadata": {},
   "outputs": [],
   "source": [
    "header_link_tags = doc.find_all('a', class_='HeaderMenu-link')"
   ]
  },
  {
   "cell_type": "code",
   "execution_count": 41,
   "id": "c89ae7c6",
   "metadata": {},
   "outputs": [
    {
     "data": {
      "text/plain": [
       "[<a class=\"HeaderMenu-link no-underline py-3 d-block d-lg-inline-block\" data-analytics-event='{\"category\":\"Header menu top item (logged out)\",\"action\":\"click to go to Team\",\"label\":\"ref_page:/topics/beautiful-soup;ref_cta:Team;\"}' href=\"/team\">Team</a>,\n",
       " <a class=\"HeaderMenu-link no-underline py-3 d-block d-lg-inline-block\" data-analytics-event='{\"category\":\"Header menu top item (logged out)\",\"action\":\"click to go to Enterprise\",\"label\":\"ref_page:/topics/beautiful-soup;ref_cta:Enterprise;\"}' href=\"/enterprise\">Enterprise</a>,\n",
       " <a class=\"HeaderMenu-link no-underline py-3 d-block d-lg-inline-block\" data-analytics-event='{\"category\":\"Header menu top item (logged out)\",\"action\":\"click to go to Marketplace\",\"label\":\"ref_page:/topics/beautiful-soup;ref_cta:Marketplace;\"}' href=\"/marketplace\">Marketplace</a>,\n",
       " <a class=\"HeaderMenu-link flex-shrink-0 no-underline\" data-ga-click=\"(Logged out) Header, clicked Sign in, text:sign-in\" data-hydro-click='{\"event_type\":\"authentication.click\",\"payload\":{\"location_in_page\":\"site header menu\",\"repository_id\":null,\"auth_type\":\"SIGN_UP\",\"originating_url\":\"https://github.com/topics/beautiful-soup\",\"user_id\":null}}' data-hydro-click-hmac=\"2eb5d749c862af7a19cc856539801f8fb34346d234e96c0e911e0e45920ac106\" href=\"/login?return_to=https%3A%2F%2Fgithub.com%2Ftopics%2Fbeautiful-soup\">\n",
       "             Sign in\n",
       "           </a>,\n",
       " <a class=\"HeaderMenu-link flex-shrink-0 d-inline-block no-underline border color-border-default rounded px-2 py-1\" data-analytics-event='{\"category\":\"Sign up\",\"action\":\"click to sign up for account\",\"label\":\"ref_page:/topics/beautiful-soup;ref_cta:Sign up;ref_loc:header logged out\"}' data-hydro-click='{\"event_type\":\"authentication.click\",\"payload\":{\"location_in_page\":\"site header menu\",\"repository_id\":null,\"auth_type\":\"SIGN_UP\",\"originating_url\":\"https://github.com/topics/beautiful-soup\",\"user_id\":null}}' data-hydro-click-hmac=\"2eb5d749c862af7a19cc856539801f8fb34346d234e96c0e911e0e45920ac106\" href=\"/signup?ref_cta=Sign+up&amp;ref_loc=header+logged+out&amp;ref_page=%2Ftopics%2Fbeautiful-soup&amp;source=header\">\n",
       "             Sign up\n",
       "           </a>]"
      ]
     },
     "execution_count": 41,
     "metadata": {},
     "output_type": "execute_result"
    }
   ],
   "source": [
    "header_link_tags"
   ]
  },
  {
   "cell_type": "code",
   "execution_count": 42,
   "id": "d404bc7f",
   "metadata": {},
   "outputs": [
    {
     "data": {
      "text/plain": [
       "'/team'"
      ]
     },
     "execution_count": 42,
     "metadata": {},
     "output_type": "execute_result"
    }
   ],
   "source": [
    "header_link_tags[0]['href']"
   ]
  },
  {
   "cell_type": "code",
   "execution_count": 43,
   "id": "4876dd85",
   "metadata": {},
   "outputs": [
    {
     "data": {
      "text/plain": [
       "[{'title': 'Team', 'url': 'https://github.com/team'},\n",
       " {'title': 'Enterprise', 'url': 'https://github.com/enterprise'},\n",
       " {'title': 'Marketplace', 'url': 'https://github.com/marketplace'},\n",
       " {'title': 'Sign in',\n",
       "  'url': 'https://github.com/login?return_to=https%3A%2F%2Fgithub.com%2Ftopics%2Fbeautiful-soup'},\n",
       " {'title': 'Sign up',\n",
       "  'url': 'https://github.com/signup?ref_cta=Sign+up&ref_loc=header+logged+out&ref_page=%2Ftopics%2Fbeautiful-soup&source=header'}]"
      ]
     },
     "execution_count": 43,
     "metadata": {},
     "output_type": "execute_result"
    }
   ],
   "source": [
    "header_links = []\n",
    "base_url = 'https://github.com'\n",
    "\n",
    "for tag in header_link_tags:\n",
    "    header_links.append({ 'title': tag.text.strip(), 'url': base_url + tag['href']})\n",
    "    \n",
    "header_links"
   ]
  },
  {
   "cell_type": "code",
   "execution_count": 44,
   "id": "dc23f031",
   "metadata": {},
   "outputs": [],
   "source": [
    "sample_html = \"\"\"\n",
    "<html>\n",
    "    <body>\n",
    "        <ul class=\"top-list\">\n",
    "            <li>Item 1</li>\n",
    "            <li>Item 2</li>\n",
    "            <li>\n",
    "                <ul>\n",
    "                    <li>Item 3.1</li>\n",
    "                    <li>Item 3.2</li>\n",
    "                    <li>Item 3.3</li>\n",
    "                </ul> \n",
    "            </li>\n",
    "        </ul>\n",
    "    </body>\n",
    "</html>\"\"\""
   ]
  },
  {
   "cell_type": "code",
   "execution_count": 45,
   "id": "4da8493f",
   "metadata": {},
   "outputs": [],
   "source": [
    "sample_doc = BeautifulSoup(sample_html)"
   ]
  },
  {
   "cell_type": "code",
   "execution_count": 46,
   "id": "37eb3ac2",
   "metadata": {},
   "outputs": [],
   "source": [
    "list_tag = sample_doc.find('ul', class_='top-list')"
   ]
  },
  {
   "cell_type": "code",
   "execution_count": 47,
   "id": "c5f1383d",
   "metadata": {},
   "outputs": [],
   "source": [
    "list_item_tags = list_tag.find_all('li', recursive=False)"
   ]
  },
  {
   "cell_type": "code",
   "execution_count": 48,
   "id": "1bbe6cf3",
   "metadata": {},
   "outputs": [
    {
     "data": {
      "text/plain": [
       "[<li>Item 1</li>,\n",
       " <li>Item 2</li>,\n",
       " <li>\n",
       " <ul>\n",
       " <li>Item 3.1</li>\n",
       " <li>Item 3.2</li>\n",
       " <li>Item 3.3</li>\n",
       " </ul>\n",
       " </li>]"
      ]
     },
     "execution_count": 48,
     "metadata": {},
     "output_type": "execute_result"
    }
   ],
   "source": [
    "list_item_tags"
   ]
  },
  {
   "cell_type": "code",
   "execution_count": 49,
   "id": "de0e071a",
   "metadata": {},
   "outputs": [
    {
     "data": {
      "text/plain": [
       "[<li>Item 1</li>,\n",
       " <li>Item 2</li>,\n",
       " <li>\n",
       " <ul>\n",
       " <li>Item 3.1</li>\n",
       " <li>Item 3.2</li>\n",
       " <li>Item 3.3</li>\n",
       " </ul>\n",
       " </li>,\n",
       " <li>Item 3.1</li>,\n",
       " <li>Item 3.2</li>,\n",
       " <li>Item 3.3</li>]"
      ]
     },
     "execution_count": 49,
     "metadata": {},
     "output_type": "execute_result"
    }
   ],
   "source": [
    "list_tag.find_all('li')"
   ]
  },
  {
   "cell_type": "code",
   "execution_count": 50,
   "id": "d658a0df",
   "metadata": {},
   "outputs": [
    {
     "data": {
      "application/javascript": [
       "window.require && require([\"base/js/namespace\"],function(Jupyter){Jupyter.notebook.save_checkpoint()})"
      ],
      "text/plain": [
       "<IPython.core.display.Javascript object>"
      ]
     },
     "metadata": {},
     "output_type": "display_data"
    },
    {
     "name": "stdout",
     "output_type": "stream",
     "text": [
      "[jovian] Updating notebook \"karriyaswanthtejareddy/python-web-scraping-and-rest-api\" on https://jovian.ai/\u001b[0m\n",
      "[jovian] Committed successfully! https://jovian.ai/karriyaswanthtejareddy/python-web-scraping-and-rest-api\u001b[0m\n"
     ]
    },
    {
     "data": {
      "text/plain": [
       "'https://jovian.ai/karriyaswanthtejareddy/python-web-scraping-and-rest-api'"
      ]
     },
     "execution_count": 50,
     "metadata": {},
     "output_type": "execute_result"
    }
   ],
   "source": [
    "jovian.commit()"
   ]
  },
  {
   "cell_type": "code",
   "execution_count": 51,
   "id": "7f2e4618",
   "metadata": {},
   "outputs": [],
   "source": [
    "def get_topic_page(topic):\n",
    "    # Construct the URL\n",
    "    topic_repos_url = 'https://github.com/topics/' + topic\n",
    "    \n",
    "    # Get the HTML page content using requests\n",
    "    response = requests.get(topic_repos_url)\n",
    "    \n",
    "    # Ensure that the reponse is valid\n",
    "    if response.status_code != 200:\n",
    "        print('Status code:', response.status_code)\n",
    "        raise Exception('Failed to fetch web page ' + topic_repos_url)\n",
    "    \n",
    "    # Construct a beautiful soup document\n",
    "    doc = BeautifulSoup(response.text)\n",
    "    \n",
    "    return doc"
   ]
  },
  {
   "cell_type": "code",
   "execution_count": 52,
   "id": "65bab6f9",
   "metadata": {},
   "outputs": [],
   "source": [
    "doc = get_topic_page('beautiful-soup')"
   ]
  },
  {
   "cell_type": "code",
   "execution_count": 53,
   "id": "dc0aeb6c",
   "metadata": {},
   "outputs": [
    {
     "data": {
      "text/plain": [
       "'beautiful-soup · GitHub Topics · GitHub'"
      ]
     },
     "execution_count": 53,
     "metadata": {},
     "output_type": "execute_result"
    }
   ],
   "source": [
    "doc.title.text"
   ]
  },
  {
   "cell_type": "code",
   "execution_count": 54,
   "id": "adcf1b80",
   "metadata": {},
   "outputs": [],
   "source": [
    "doc2 = get_topic_page('data-analysis')"
   ]
  },
  {
   "cell_type": "code",
   "execution_count": 55,
   "id": "f486eb44",
   "metadata": {},
   "outputs": [
    {
     "data": {
      "text/plain": [
       "'data-analysis · GitHub Topics · GitHub'"
      ]
     },
     "execution_count": 55,
     "metadata": {},
     "output_type": "execute_result"
    }
   ],
   "source": [
    "doc2.title.text"
   ]
  },
  {
   "cell_type": "code",
   "execution_count": 56,
   "id": "3d5734b2",
   "metadata": {},
   "outputs": [],
   "source": [
    "article_tags = doc.find_all('article', class_='border rounded color-shadow-small color-bg-subtle my-4')"
   ]
  },
  {
   "cell_type": "code",
   "execution_count": 57,
   "id": "26ea4926",
   "metadata": {},
   "outputs": [
    {
     "data": {
      "text/plain": [
       "30"
      ]
     },
     "execution_count": 57,
     "metadata": {},
     "output_type": "execute_result"
    }
   ],
   "source": [
    "len(article_tags)"
   ]
  },
  {
   "cell_type": "code",
   "execution_count": 58,
   "id": "cd1cd45d",
   "metadata": {},
   "outputs": [],
   "source": [
    "article_tag = article_tags[4]"
   ]
  },
  {
   "cell_type": "code",
   "execution_count": 59,
   "id": "320cfa7a",
   "metadata": {},
   "outputs": [
    {
     "data": {
      "text/plain": [
       "<h3 class=\"f3 color-fg-muted text-normal lh-condensed\">\n",
       "<a data-ga-click=\"Explore, go to repository owner, location:explore feed\" data-hydro-click='{\"event_type\":\"explore.click\",\"payload\":{\"click_context\":\"REPOSITORY_CARD\",\"click_target\":\"OWNER\",\"click_visual_representation\":\"REPOSITORY_OWNER_HEADING\",\"actor_id\":null,\"record_id\":1242285,\"originating_url\":\"https://github.com/topics/beautiful-soup\",\"user_id\":null}}' data-hydro-click-hmac=\"4e985effe4f05c78d6ab8a09949a42c66e75717b982db244256ea85f7def2111\" data-turbo=\"false\" data-view-component=\"true\" href=\"/SylvainDe\">\n",
       "            SylvainDe\n",
       "</a>          /\n",
       "          <a class=\"text-bold wb-break-word\" data-ga-click=\"Explore, go to repository, location:explore feed\" data-hydro-click='{\"event_type\":\"explore.click\",\"payload\":{\"click_context\":\"REPOSITORY_CARD\",\"click_target\":\"REPOSITORY\",\"click_visual_representation\":\"REPOSITORY_NAME_HEADING\",\"actor_id\":null,\"record_id\":22544574,\"originating_url\":\"https://github.com/topics/beautiful-soup\",\"user_id\":null}}' data-hydro-click-hmac=\"1c8f8936801dade2e7acad877687e3ce8503c361648a926fc48d8f229974e33b\" data-turbo=\"false\" data-view-component=\"true\" href=\"/SylvainDe/ComicBookMaker\">\n",
       "            ComicBookMaker\n",
       "</a> </h3>"
      ]
     },
     "execution_count": 59,
     "metadata": {},
     "output_type": "execute_result"
    }
   ],
   "source": [
    "h3_tag = article_tag.find('h3')\n",
    "h3_tag"
   ]
  },
  {
   "cell_type": "code",
   "execution_count": 60,
   "id": "8a1a0c34",
   "metadata": {},
   "outputs": [],
   "source": [
    "a_tags = h3_tag.find_all('a', recursive=False)"
   ]
  },
  {
   "cell_type": "code",
   "execution_count": 61,
   "id": "09e52223",
   "metadata": {},
   "outputs": [
    {
     "data": {
      "text/plain": [
       "'\\n            SylvainDe\\n'"
      ]
     },
     "execution_count": 61,
     "metadata": {},
     "output_type": "execute_result"
    }
   ],
   "source": [
    "username = a_tags[0].text\n",
    "username"
   ]
  },
  {
   "cell_type": "code",
   "execution_count": 62,
   "id": "bdebb222",
   "metadata": {},
   "outputs": [
    {
     "data": {
      "text/plain": [
       "'SylvainDe'"
      ]
     },
     "execution_count": 62,
     "metadata": {},
     "output_type": "execute_result"
    }
   ],
   "source": [
    "username = a_tags[0].text.strip()\n",
    "username"
   ]
  },
  {
   "cell_type": "code",
   "execution_count": 63,
   "id": "4f6c1b40",
   "metadata": {},
   "outputs": [
    {
     "data": {
      "text/plain": [
       "'ComicBookMaker'"
      ]
     },
     "execution_count": 63,
     "metadata": {},
     "output_type": "execute_result"
    }
   ],
   "source": [
    "repo_name = a_tags[1].text.strip()\n",
    "repo_name"
   ]
  },
  {
   "cell_type": "code",
   "execution_count": 64,
   "id": "7e33e783",
   "metadata": {},
   "outputs": [
    {
     "data": {
      "text/plain": [
       "'/SylvainDe/ComicBookMaker'"
      ]
     },
     "execution_count": 64,
     "metadata": {},
     "output_type": "execute_result"
    }
   ],
   "source": [
    "repo_path = a_tags[1]['href'].strip()\n",
    "repo_path"
   ]
  },
  {
   "cell_type": "code",
   "execution_count": 65,
   "id": "a7d87182",
   "metadata": {},
   "outputs": [
    {
     "data": {
      "text/plain": [
       "'https://github.com/SylvainDe/ComicBookMaker'"
      ]
     },
     "execution_count": 65,
     "metadata": {},
     "output_type": "execute_result"
    }
   ],
   "source": [
    "base_url = 'https://github.com'\n",
    "repo_url = base_url + repo_path \n",
    "repo_url"
   ]
  },
  {
   "cell_type": "code",
   "execution_count": 66,
   "id": "b4d3a5d7",
   "metadata": {},
   "outputs": [
    {
     "data": {
      "text/plain": [
       "<article class=\"border rounded color-shadow-small color-bg-subtle my-4\">\n",
       "<div class=\"px-3\">\n",
       "<div class=\"d-flex flex-justify-between my-3\">\n",
       "<div class=\"d-flex flex-auto\">\n",
       "<span style=\"margin-top:2px\">\n",
       "<svg aria-hidden=\"true\" class=\"octicon octicon-repo color-fg-muted mr-2\" data-view-component=\"true\" height=\"16\" version=\"1.1\" viewbox=\"0 0 16 16\" width=\"16\">\n",
       "<path d=\"M2 2.5A2.5 2.5 0 014.5 0h8.75a.75.75 0 01.75.75v12.5a.75.75 0 01-.75.75h-2.5a.75.75 0 110-1.5h1.75v-2h-8a1 1 0 00-.714 1.7.75.75 0 01-1.072 1.05A2.495 2.495 0 012 11.5v-9zm10.5-1V9h-8c-.356 0-.694.074-1 .208V2.5a1 1 0 011-1h8zM5 12.25v3.25a.25.25 0 00.4.2l1.45-1.087a.25.25 0 01.3 0L8.6 15.7a.25.25 0 00.4-.2v-3.25a.25.25 0 00-.25-.25h-3.5a.25.25 0 00-.25.25z\" fill-rule=\"evenodd\"></path>\n",
       "</svg>\n",
       "</span>\n",
       "<h3 class=\"f3 color-fg-muted text-normal lh-condensed\">\n",
       "<a data-ga-click=\"Explore, go to repository owner, location:explore feed\" data-hydro-click='{\"event_type\":\"explore.click\",\"payload\":{\"click_context\":\"REPOSITORY_CARD\",\"click_target\":\"OWNER\",\"click_visual_representation\":\"REPOSITORY_OWNER_HEADING\",\"actor_id\":null,\"record_id\":1242285,\"originating_url\":\"https://github.com/topics/beautiful-soup\",\"user_id\":null}}' data-hydro-click-hmac=\"4e985effe4f05c78d6ab8a09949a42c66e75717b982db244256ea85f7def2111\" data-turbo=\"false\" data-view-component=\"true\" href=\"/SylvainDe\">\n",
       "            SylvainDe\n",
       "</a>          /\n",
       "          <a class=\"text-bold wb-break-word\" data-ga-click=\"Explore, go to repository, location:explore feed\" data-hydro-click='{\"event_type\":\"explore.click\",\"payload\":{\"click_context\":\"REPOSITORY_CARD\",\"click_target\":\"REPOSITORY\",\"click_visual_representation\":\"REPOSITORY_NAME_HEADING\",\"actor_id\":null,\"record_id\":22544574,\"originating_url\":\"https://github.com/topics/beautiful-soup\",\"user_id\":null}}' data-hydro-click-hmac=\"1c8f8936801dade2e7acad877687e3ce8503c361648a926fc48d8f229974e33b\" data-turbo=\"false\" data-view-component=\"true\" href=\"/SylvainDe/ComicBookMaker\">\n",
       "            ComicBookMaker\n",
       "</a> </h3>\n",
       "</div>\n",
       "<div class=\"d-flex flex-items-center ml-3\">\n",
       "<div class=\"BtnGroup d-flex\" data-view-component=\"true\">\n",
       "<a aria-label=\"You must be signed in to star a repository\" class=\"tooltipped tooltipped-s btn-sm btn BtnGroup-item color-bg-default\" data-hydro-click='{\"event_type\":\"authentication.click\",\"payload\":{\"location_in_page\":\"star button\",\"repository_id\":22544574,\"auth_type\":\"LOG_IN\",\"originating_url\":\"https://github.com/topics/beautiful-soup\",\"user_id\":null}}' data-hydro-click-hmac=\"6450c12cb120d835969d0d20ec4861c007b4c91804679186183457b2bdcaa44b\" data-view-component=\"true\" href=\"/login?return_to=%2FSylvainDe%2FComicBookMaker\" rel=\"nofollow\"> <svg aria-hidden=\"true\" class=\"octicon octicon-star v-align-text-bottom d-inline-block mr-2\" data-view-component=\"true\" height=\"16\" version=\"1.1\" viewbox=\"0 0 16 16\" width=\"16\">\n",
       "<path d=\"M8 .25a.75.75 0 01.673.418l1.882 3.815 4.21.612a.75.75 0 01.416 1.279l-3.046 2.97.719 4.192a.75.75 0 01-1.088.791L8 12.347l-3.766 1.98a.75.75 0 01-1.088-.79l.72-4.194L.818 6.374a.75.75 0 01.416-1.28l4.21-.611L7.327.668A.75.75 0 018 .25zm0 2.445L6.615 5.5a.75.75 0 01-.564.41l-3.097.45 2.24 2.184a.75.75 0 01.216.664l-.528 3.084 2.769-1.456a.75.75 0 01.698 0l2.77 1.456-.53-3.084a.75.75 0 01.216-.664l2.24-2.183-3.096-.45a.75.75 0 01-.564-.41L8 2.694v.001z\" fill-rule=\"evenodd\"></path>\n",
       "</svg><span class=\"d-inline\" data-view-component=\"true\">\n",
       "          Star\n",
       "</span> <span aria-label=\"31 users starred this repository\" class=\"Counter js-social-count\" data-pjax-replace=\"true\" data-plural-suffix=\"users starred this repository\" data-singular-suffix=\"user starred this repository\" data-turbo-replace=\"true\" data-view-component=\"true\" id=\"repo-stars-counter-star\" title=\"31\">31</span>\n",
       "</a> <button aria-label=\"You must be signed in to add this repository to a list\" class=\"btn-sm btn BtnGroup-item px-2\" data-view-component=\"true\" disabled=\"disabled\" type=\"button\"> <svg aria-hidden=\"true\" class=\"octicon octicon-triangle-down\" data-view-component=\"true\" height=\"16\" version=\"1.1\" viewbox=\"0 0 16 16\" width=\"16\">\n",
       "<path d=\"M4.427 7.427l3.396 3.396a.25.25 0 00.354 0l3.396-3.396A.25.25 0 0011.396 7H4.604a.25.25 0 00-.177.427z\"></path>\n",
       "</svg>\n",
       "</button></div>\n",
       "</div>\n",
       "</div>\n",
       "</div>\n",
       "<nav aria-label=\"Repository menu\" class=\"tabnav px-3 mb-0\" data-view-component=\"true\">\n",
       "<ul class=\"tabnav-tabs\" data-view-component=\"true\">\n",
       "<li class=\"d-inline-flex\" data-view-component=\"true\">\n",
       "<a aria-current=\"true\" class=\"tabnav-tab f6 px-2 py-1\" data-ga-click=\"Explore, go to repository, location:explore feed\" data-hydro-click='{\"event_type\":\"explore.click\",\"payload\":{\"click_context\":\"REPOSITORY_CARD\",\"click_target\":\"REPOSITORY\",\"click_visual_representation\":\"CODE_TAB\",\"actor_id\":null,\"record_id\":22544574,\"originating_url\":\"https://github.com/topics/beautiful-soup\",\"user_id\":null}}' data-hydro-click-hmac=\"176af4525587b219facc73988f290e5a66954930c41cf4316a95b2cdecc00693\" data-turbo=\"false\" data-view-component=\"true\" href=\"/SylvainDe/ComicBookMaker\" id=\"code-tab-22544574\">\n",
       "<svg aria-hidden=\"true\" class=\"octicon octicon-code color-fg-default\" data-view-component=\"true\" height=\"16\" version=\"1.1\" viewbox=\"0 0 16 16\" width=\"16\">\n",
       "<path d=\"M4.72 3.22a.75.75 0 011.06 1.06L2.06 8l3.72 3.72a.75.75 0 11-1.06 1.06L.47 8.53a.75.75 0 010-1.06l4.25-4.25zm6.56 0a.75.75 0 10-1.06 1.06L13.94 8l-3.72 3.72a.75.75 0 101.06 1.06l4.25-4.25a.75.75 0 000-1.06l-4.25-4.25z\" fill-rule=\"evenodd\"></path>\n",
       "</svg> Code\n",
       "\n",
       "    \n",
       "</a></li>\n",
       "<li class=\"d-inline-flex\" data-view-component=\"true\">\n",
       "<a class=\"tabnav-tab f6 px-2 py-1\" data-ga-click=\"Explore, go to repository issues, location:explore feed\" data-hydro-click='{\"event_type\":\"explore.click\",\"payload\":{\"click_context\":\"REPOSITORY_CARD\",\"click_target\":\"REPOSITORY_ISSUES\",\"click_visual_representation\":\"ISSUES_TAB\",\"actor_id\":null,\"record_id\":22544574,\"originating_url\":\"https://github.com/topics/beautiful-soup\",\"user_id\":null}}' data-hydro-click-hmac=\"3842961125e3f9df9937cba092c8981bd00f9647be9f21bd4d7d4a34ba48a4a6\" data-turbo=\"false\" data-view-component=\"true\" href=\"/SylvainDe/ComicBookMaker/issues\" id=\"issues-tab-22544574\">\n",
       "<svg aria-hidden=\"true\" class=\"octicon octicon-issue-opened color-gray-light\" height=\"16\" version=\"1.1\" viewbox=\"0 0 16 16\" width=\"16\"><path d=\"M8 9.5a1.5 1.5 0 100-3 1.5 1.5 0 000 3z\"></path><path d=\"M8 0a8 8 0 100 16A8 8 0 008 0zM1.5 8a6.5 6.5 0 1113 0 6.5 6.5 0 01-13 0z\" fill-rule=\"evenodd\"></path></svg> Issues\n",
       "\n",
       "    \n",
       "</a></li>\n",
       "<li class=\"d-inline-flex\" data-view-component=\"true\">\n",
       "<a class=\"tabnav-tab f6 px-2 py-1\" data-ga-click=\"Explore, go to repository pulls, location:explore feed\" data-hydro-click='{\"event_type\":\"explore.click\",\"payload\":{\"click_context\":\"REPOSITORY_CARD\",\"click_target\":\"REPOSITORY_PULL_REQUESTS\",\"click_visual_representation\":\"PULL_REQUESTS_TAB\",\"actor_id\":null,\"record_id\":22544574,\"originating_url\":\"https://github.com/topics/beautiful-soup\",\"user_id\":null}}' data-hydro-click-hmac=\"e6ff71f42bfe1b6ba610c301301c729559a1de7ff3a04975faa37774cdb16f07\" data-turbo=\"false\" data-view-component=\"true\" href=\"/SylvainDe/ComicBookMaker/pulls\" id=\"pull-requests-tab-22544574\">\n",
       "<svg aria-hidden=\"true\" class=\"octicon octicon-git-pull-request color-fg-muted\" data-view-component=\"true\" height=\"16\" version=\"1.1\" viewbox=\"0 0 16 16\" width=\"16\">\n",
       "<path d=\"M7.177 3.073L9.573.677A.25.25 0 0110 .854v4.792a.25.25 0 01-.427.177L7.177 3.427a.25.25 0 010-.354zM3.75 2.5a.75.75 0 100 1.5.75.75 0 000-1.5zm-2.25.75a2.25 2.25 0 113 2.122v5.256a2.251 2.251 0 11-1.5 0V5.372A2.25 2.25 0 011.5 3.25zM11 2.5h-1V4h1a1 1 0 011 1v5.628a2.251 2.251 0 101.5 0V5A2.5 2.5 0 0011 2.5zm1 10.25a.75.75 0 111.5 0 .75.75 0 01-1.5 0zM3.75 12a.75.75 0 100 1.5.75.75 0 000-1.5z\" fill-rule=\"evenodd\"></path>\n",
       "</svg> Pull requests\n",
       "\n",
       "    \n",
       "</a></li>\n",
       "</ul>\n",
       "</nav>\n",
       "<div class=\"color-bg-default rounded-bottom-2\">\n",
       "<div class=\"px-3 pt-3\">\n",
       "<p class=\"color-fg-muted mb-0\"><div>Script to fetch webcomics and use them to create ebooks.</div></p>\n",
       "</div>\n",
       "<div class=\"d-flex flex-wrap border-bottom color-border-muted px-3 pt-2 pb-2\">\n",
       "<a class=\"topic-tag topic-tag-link f6 mb-2\" data-ga-click=\"Explore, go to topic, location:explore feed repository\" data-hydro-click='{\"event_type\":\"explore.click\",\"payload\":{\"click_context\":\"REPOSITORY_CARD\",\"click_target\":\"TOPIC\",\"click_visual_representation\":\"TOPIC_TAG\",\"actor_id\":null,\"record_id\":84,\"originating_url\":\"https://github.com/topics/beautiful-soup\",\"user_id\":null}}' data-hydro-click-hmac=\"1dba9e20772c5571a51af4e25ab2accc078a2e280e5fc152bd9f5f29f34a2fe6\" data-view-component=\"true\" href=\"/topics/python\" title=\"Topic: python\">\n",
       "              python\n",
       "</a> <a class=\"topic-tag topic-tag-link f6 mb-2\" data-ga-click=\"Explore, go to topic, location:explore feed repository\" data-hydro-click='{\"event_type\":\"explore.click\",\"payload\":{\"click_context\":\"REPOSITORY_CARD\",\"click_target\":\"TOPIC\",\"click_visual_representation\":\"TOPIC_TAG\",\"actor_id\":null,\"record_id\":13190,\"originating_url\":\"https://github.com/topics/beautiful-soup\",\"user_id\":null}}' data-hydro-click-hmac=\"a916e07f6fe4194b0ea1de19dbad0240570e17112302764ac93ad5675b5230d9\" data-view-component=\"true\" href=\"/topics/tumblr\" title=\"Topic: tumblr\">\n",
       "              tumblr\n",
       "</a> <a class=\"topic-tag topic-tag-link f6 mb-2\" data-ga-click=\"Explore, go to topic, location:explore feed repository\" data-hydro-click='{\"event_type\":\"explore.click\",\"payload\":{\"click_context\":\"REPOSITORY_CARD\",\"click_target\":\"TOPIC\",\"click_visual_representation\":\"TOPIC_TAG\",\"actor_id\":null,\"record_id\":14109,\"originating_url\":\"https://github.com/topics/beautiful-soup\",\"user_id\":null}}' data-hydro-click-hmac=\"f870893b36e669d743e04242f026ead4bfff8e8c9927e189ff241a45a109c8ba\" data-view-component=\"true\" href=\"/topics/web-crawler\" title=\"Topic: web-crawler\">\n",
       "              web-crawler\n",
       "</a> <a class=\"topic-tag topic-tag-link f6 mb-2\" data-ga-click=\"Explore, go to topic, location:explore feed repository\" data-hydro-click='{\"event_type\":\"explore.click\",\"payload\":{\"click_context\":\"REPOSITORY_CARD\",\"click_target\":\"TOPIC\",\"click_visual_representation\":\"TOPIC_TAG\",\"actor_id\":null,\"record_id\":17249,\"originating_url\":\"https://github.com/topics/beautiful-soup\",\"user_id\":null}}' data-hydro-click-hmac=\"fe9c932859a5333aca81081764f253dd6fc4f1aca2f31de4c7fd4e5ff483a906\" data-view-component=\"true\" href=\"/topics/comic\" title=\"Topic: comic\">\n",
       "              comic\n",
       "</a> <a class=\"topic-tag topic-tag-link f6 mb-2\" data-ga-click=\"Explore, go to topic, location:explore feed repository\" data-hydro-click='{\"event_type\":\"explore.click\",\"payload\":{\"click_context\":\"REPOSITORY_CARD\",\"click_target\":\"TOPIC\",\"click_visual_representation\":\"TOPIC_TAG\",\"actor_id\":null,\"record_id\":17260,\"originating_url\":\"https://github.com/topics/beautiful-soup\",\"user_id\":null}}' data-hydro-click-hmac=\"60e0cb6ed39ea699a81f89b6e71f9f6176ef15f5a8d9b49cd7a58a2e99f1b1d0\" data-view-component=\"true\" href=\"/topics/webcomic\" title=\"Topic: webcomic\">\n",
       "              webcomic\n",
       "</a> <a class=\"topic-tag topic-tag-link f6 mb-2\" data-ga-click=\"Explore, go to topic, location:explore feed repository\" data-hydro-click='{\"event_type\":\"explore.click\",\"payload\":{\"click_context\":\"REPOSITORY_CARD\",\"click_target\":\"TOPIC\",\"click_visual_representation\":\"TOPIC_TAG\",\"actor_id\":null,\"record_id\":20655,\"originating_url\":\"https://github.com/topics/beautiful-soup\",\"user_id\":null}}' data-hydro-click-hmac=\"bc7473159405151432f4eec13d62cdd9ff2437ad86089d08ebd89073b9208267\" data-view-component=\"true\" href=\"/topics/ebook\" title=\"Topic: ebook\">\n",
       "              ebook\n",
       "</a> <a class=\"topic-tag topic-tag-link f6 mb-2\" data-ga-click=\"Explore, go to topic, location:explore feed repository\" data-hydro-click='{\"event_type\":\"explore.click\",\"payload\":{\"click_context\":\"REPOSITORY_CARD\",\"click_target\":\"TOPIC\",\"click_visual_representation\":\"TOPIC_TAG\",\"actor_id\":null,\"record_id\":22377,\"originating_url\":\"https://github.com/topics/beautiful-soup\",\"user_id\":null}}' data-hydro-click-hmac=\"c73caa9879667f3aaa999f80f5435075d123802c5d8e7caed1564a566f453e34\" data-view-component=\"true\" href=\"/topics/beautiful-soup\" title=\"Topic: beautiful-soup\">\n",
       "              beautiful-soup\n",
       "</a> <a class=\"topic-tag topic-tag-link f6 mb-2\" data-ga-click=\"Explore, go to topic, location:explore feed repository\" data-hydro-click='{\"event_type\":\"explore.click\",\"payload\":{\"click_context\":\"REPOSITORY_CARD\",\"click_target\":\"TOPIC\",\"click_visual_representation\":\"TOPIC_TAG\",\"actor_id\":null,\"record_id\":23016,\"originating_url\":\"https://github.com/topics/beautiful-soup\",\"user_id\":null}}' data-hydro-click-hmac=\"b4d29bd686783e969e56c97b95273003e19db79f62590cd7f30dd30e17207f77\" data-view-component=\"true\" href=\"/topics/comics\" title=\"Topic: comics\">\n",
       "              comics\n",
       "</a> <a class=\"topic-tag topic-tag-link f6 mb-2\" data-ga-click=\"Explore, go to topic, location:explore feed repository\" data-hydro-click='{\"event_type\":\"explore.click\",\"payload\":{\"click_context\":\"REPOSITORY_CARD\",\"click_target\":\"TOPIC\",\"click_visual_representation\":\"TOPIC_TAG\",\"actor_id\":null,\"record_id\":23680,\"originating_url\":\"https://github.com/topics/beautiful-soup\",\"user_id\":null}}' data-hydro-click-hmac=\"02c43c2349b0944ad8769c18227e79d27ea00ede8beb2e58d74d85a567cba13e\" data-view-component=\"true\" href=\"/topics/mobi\" title=\"Topic: mobi\">\n",
       "              mobi\n",
       "</a> <a class=\"topic-tag topic-tag-link f6 mb-2\" data-ga-click=\"Explore, go to topic, location:explore feed repository\" data-hydro-click='{\"event_type\":\"explore.click\",\"payload\":{\"click_context\":\"REPOSITORY_CARD\",\"click_target\":\"TOPIC\",\"click_visual_representation\":\"TOPIC_TAG\",\"actor_id\":null,\"record_id\":45206,\"originating_url\":\"https://github.com/topics/beautiful-soup\",\"user_id\":null}}' data-hydro-click-hmac=\"41a5e0343ba045aa864548e3e7d9d55e4da514fa827ebb04cdb9853409caf827\" data-view-component=\"true\" href=\"/topics/comic-downloader\" title=\"Topic: comic-downloader\">\n",
       "              comic-downloader\n",
       "</a> <a class=\"topic-tag topic-tag-link f6 mb-2\" data-ga-click=\"Explore, go to topic, location:explore feed repository\" data-hydro-click='{\"event_type\":\"explore.click\",\"payload\":{\"click_context\":\"REPOSITORY_CARD\",\"click_target\":\"TOPIC\",\"click_visual_representation\":\"TOPIC_TAG\",\"actor_id\":null,\"record_id\":45540,\"originating_url\":\"https://github.com/topics/beautiful-soup\",\"user_id\":null}}' data-hydro-click-hmac=\"cbf740b6cdfe8fb0eccc138b119d5dbbaa1f21fa18b0f994100d0d89dcec671b\" data-view-component=\"true\" href=\"/topics/download-comic\" title=\"Topic: download-comic\">\n",
       "              download-comic\n",
       "</a> <a class=\"topic-tag topic-tag-link f6 mb-2\" data-ga-click=\"Explore, go to topic, location:explore feed repository\" data-hydro-click='{\"event_type\":\"explore.click\",\"payload\":{\"click_context\":\"REPOSITORY_CARD\",\"click_target\":\"TOPIC\",\"click_visual_representation\":\"TOPIC_TAG\",\"actor_id\":null,\"record_id\":59963,\"originating_url\":\"https://github.com/topics/beautiful-soup\",\"user_id\":null}}' data-hydro-click-hmac=\"dae1a0159e4f5ca2461252214b2ac37dadff3b7c54d591702309084d4af15bcc\" data-view-component=\"true\" href=\"/topics/kindle\" title=\"Topic: kindle\">\n",
       "              kindle\n",
       "</a> <a class=\"topic-tag topic-tag-link f6 mb-2\" data-ga-click=\"Explore, go to topic, location:explore feed repository\" data-hydro-click='{\"event_type\":\"explore.click\",\"payload\":{\"click_context\":\"REPOSITORY_CARD\",\"click_target\":\"TOPIC\",\"click_visual_representation\":\"TOPIC_TAG\",\"actor_id\":null,\"record_id\":74654,\"originating_url\":\"https://github.com/topics/beautiful-soup\",\"user_id\":null}}' data-hydro-click-hmac=\"820511a0706fde59bb17e46819338453261a3e1bdfc8519c3de5cb6513beafd9\" data-view-component=\"true\" href=\"/topics/beautifulsoup\" title=\"Topic: beautifulsoup\">\n",
       "              beautifulsoup\n",
       "</a> <a class=\"topic-tag topic-tag-link f6 mb-2\" data-ga-click=\"Explore, go to topic, location:explore feed repository\" data-hydro-click='{\"event_type\":\"explore.click\",\"payload\":{\"click_context\":\"REPOSITORY_CARD\",\"click_target\":\"TOPIC\",\"click_visual_representation\":\"TOPIC_TAG\",\"actor_id\":null,\"record_id\":109679,\"originating_url\":\"https://github.com/topics/beautiful-soup\",\"user_id\":null}}' data-hydro-click-hmac=\"10dad503373b0eb6f29590209002a2d01ea2a31b68f2025481ce30a360e730ae\" data-view-component=\"true\" href=\"/topics/mister\" title=\"Topic: mister\">\n",
       "              mister\n",
       "</a> <a class=\"topic-tag topic-tag-link f6 mb-2\" data-ga-click=\"Explore, go to topic, location:explore feed repository\" data-hydro-click='{\"event_type\":\"explore.click\",\"payload\":{\"click_context\":\"REPOSITORY_CARD\",\"click_target\":\"TOPIC\",\"click_visual_representation\":\"TOPIC_TAG\",\"actor_id\":null,\"record_id\":109680,\"originating_url\":\"https://github.com/topics/beautiful-soup\",\"user_id\":null}}' data-hydro-click-hmac=\"d42fe1ee2a6fd6fa8867e40ec0d1b79711a7e92819a32ff9750d44c3082fde5c\" data-view-component=\"true\" href=\"/topics/tale\" title=\"Topic: tale\">\n",
       "              tale\n",
       "</a> <a class=\"topic-tag topic-tag-link f6 mb-2\" data-ga-click=\"Explore, go to topic, location:explore feed repository\" data-hydro-click='{\"event_type\":\"explore.click\",\"payload\":{\"click_context\":\"REPOSITORY_CARD\",\"click_target\":\"TOPIC\",\"click_visual_representation\":\"TOPIC_TAG\",\"actor_id\":null,\"record_id\":109683,\"originating_url\":\"https://github.com/topics/beautiful-soup\",\"user_id\":null}}' data-hydro-click-hmac=\"50274ce64b2deea762bf5187c4399669d41f2541b5a5b7553091ca430189c5b3\" data-view-component=\"true\" href=\"/topics/fowl-language-comics\" title=\"Topic: fowl-language-comics\">\n",
       "              fowl-language-comics\n",
       "</a> <a class=\"topic-tag topic-tag-link f6 mb-2\" data-ga-click=\"Explore, go to topic, location:explore feed repository\" data-hydro-click='{\"event_type\":\"explore.click\",\"payload\":{\"click_context\":\"REPOSITORY_CARD\",\"click_target\":\"TOPIC\",\"click_visual_representation\":\"TOPIC_TAG\",\"actor_id\":null,\"record_id\":109684,\"originating_url\":\"https://github.com/topics/beautiful-soup\",\"user_id\":null}}' data-hydro-click-hmac=\"90227399e45c73f35cdb6fa1c77e15eb77cf2432a381a7bdd4968dec1fa1e857\" data-view-component=\"true\" href=\"/topics/lifeline\" title=\"Topic: lifeline\">\n",
       "              lifeline\n",
       "</a> <a class=\"topic-tag topic-tag-link f6 mb-2\" data-ga-click=\"Explore, go to topic, location:explore feed repository\" data-hydro-click='{\"event_type\":\"explore.click\",\"payload\":{\"click_context\":\"REPOSITORY_CARD\",\"click_target\":\"TOPIC\",\"click_visual_representation\":\"TOPIC_TAG\",\"actor_id\":null,\"record_id\":109689,\"originating_url\":\"https://github.com/topics/beautiful-soup\",\"user_id\":null}}' data-hydro-click-hmac=\"441322c600c7bfbcc3c2971cba45d4e82bfbf1e43c96e92ea5bc12618fa6d62a\" data-view-component=\"true\" href=\"/topics/unearthed-comics\" title=\"Topic: unearthed-comics\">\n",
       "              unearthed-comics\n",
       "</a> <a class=\"topic-tag topic-tag-link f6 mb-2\" data-ga-click=\"Explore, go to topic, location:explore feed repository\" data-hydro-click='{\"event_type\":\"explore.click\",\"payload\":{\"click_context\":\"REPOSITORY_CARD\",\"click_target\":\"TOPIC\",\"click_visual_representation\":\"TOPIC_TAG\",\"actor_id\":null,\"record_id\":109690,\"originating_url\":\"https://github.com/topics/beautiful-soup\",\"user_id\":null}}' data-hydro-click-hmac=\"219974273574de363752e2ab05dba133eb6d8cdb1b5710108db1490cd21ad645\" data-view-component=\"true\" href=\"/topics/foxtrot\" title=\"Topic: foxtrot\">\n",
       "              foxtrot\n",
       "</a> </div>\n",
       "<div class=\"p-3\">\n",
       "<ul class=\"d-flex f6 list-style-none color-fg-muted\">\n",
       "<li class=\"mr-4\">\n",
       "              Updated\n",
       "              <relative-time class=\"no-wrap\" datetime=\"2021-06-28T17:11:22Z\">Jun 28, 2021</relative-time>\n",
       "</li>\n",
       "<li class=\"mr-4\">\n",
       "<span class=\"f6 my-1 ml-0\">\n",
       "<span class=\"repo-language-color\" style=\"background-color: #3572A5\"></span>\n",
       "<span itemprop=\"programmingLanguage\">Python</span>\n",
       "</span>\n",
       "</li>\n",
       "</ul>\n",
       "</div>\n",
       "</div>\n",
       "</article>"
      ]
     },
     "execution_count": 66,
     "metadata": {},
     "output_type": "execute_result"
    }
   ],
   "source": [
    "article_tags[4]"
   ]
  },
  {
   "cell_type": "code",
   "execution_count": 67,
   "id": "adf1fc49",
   "metadata": {},
   "outputs": [],
   "source": [
    "a_star_tag = article_tags[4].find('span', class_='Counter js-social-count')"
   ]
  },
  {
   "cell_type": "code",
   "execution_count": 68,
   "id": "cc681e27",
   "metadata": {},
   "outputs": [
    {
     "data": {
      "text/plain": [
       "<span aria-label=\"31 users starred this repository\" class=\"Counter js-social-count\" data-pjax-replace=\"true\" data-plural-suffix=\"users starred this repository\" data-singular-suffix=\"user starred this repository\" data-turbo-replace=\"true\" data-view-component=\"true\" id=\"repo-stars-counter-star\" title=\"31\">31</span>"
      ]
     },
     "execution_count": 68,
     "metadata": {},
     "output_type": "execute_result"
    }
   ],
   "source": [
    "a_star_tag"
   ]
  },
  {
   "cell_type": "code",
   "execution_count": 69,
   "id": "8467d7b3",
   "metadata": {},
   "outputs": [
    {
     "data": {
      "text/plain": [
       "'31'"
      ]
     },
     "execution_count": 69,
     "metadata": {},
     "output_type": "execute_result"
    }
   ],
   "source": [
    "a_star_tag.text.strip()"
   ]
  },
  {
   "cell_type": "code",
   "execution_count": 70,
   "id": "f2d7f131",
   "metadata": {},
   "outputs": [],
   "source": [
    "def parse_star_count(stars_str):\n",
    "    stars_str = stars_str.strip()\n",
    "    if stars_str[-1] == 'k':\n",
    "        return int(float(stars_str[:-1]) * 1000)\n",
    "    else:\n",
    "        return int(stars_str)"
   ]
  },
  {
   "cell_type": "code",
   "execution_count": 71,
   "id": "560ef39e",
   "metadata": {},
   "outputs": [
    {
     "data": {
      "text/plain": [
       "29"
      ]
     },
     "execution_count": 71,
     "metadata": {},
     "output_type": "execute_result"
    }
   ],
   "source": [
    "parse_star_count('29')"
   ]
  },
  {
   "cell_type": "code",
   "execution_count": 72,
   "id": "e6f63315",
   "metadata": {},
   "outputs": [
    {
     "data": {
      "text/plain": [
       "999"
      ]
     },
     "execution_count": 72,
     "metadata": {},
     "output_type": "execute_result"
    }
   ],
   "source": [
    "parse_star_count('999')"
   ]
  },
  {
   "cell_type": "code",
   "execution_count": 73,
   "id": "a1625710",
   "metadata": {},
   "outputs": [],
   "source": [
    "star_count = parse_star_count(a_star_tag.text.strip())"
   ]
  },
  {
   "cell_type": "code",
   "execution_count": 74,
   "id": "f745dbc4",
   "metadata": {},
   "outputs": [
    {
     "data": {
      "text/plain": [
       "31"
      ]
     },
     "execution_count": 74,
     "metadata": {},
     "output_type": "execute_result"
    }
   ],
   "source": [
    "star_count"
   ]
  },
  {
   "cell_type": "code",
   "execution_count": 75,
   "id": "0e5089fa",
   "metadata": {},
   "outputs": [
    {
     "name": "stdout",
     "output_type": "stream",
     "text": [
      "Repository name: ComicBookMaker\n",
      "Owner's username: SylvainDe\n",
      "Stars: 31\n",
      "Repository URL: https://github.com/SylvainDe/ComicBookMaker\n"
     ]
    }
   ],
   "source": [
    "print('Repository name:', repo_name)\n",
    "print(\"Owner's username:\", username)\n",
    "print('Stars:', star_count)\n",
    "print('Repository URL:', repo_url)"
   ]
  },
  {
   "cell_type": "code",
   "execution_count": 76,
   "id": "6d89bf1e",
   "metadata": {},
   "outputs": [],
   "source": [
    "def parse_repository(article_tag):\n",
    "    \n",
    "    \n",
    "    # <a> tags containing username, repository name and URL\n",
    "    \n",
    "    \n",
    "    a_tags = article_tag.h3.find_all('a')\n",
    "    \n",
    "    \n",
    "    # Owner's username\n",
    "    \n",
    "    \n",
    "    username = a_tags[0].text.strip()\n",
    "    \n",
    "    \n",
    "    # Repository name\n",
    "    \n",
    "    \n",
    "    repo_name = a_tags[1].text.strip()\n",
    "    \n",
    "    \n",
    "    # Repository URL\n",
    "    \n",
    "    \n",
    "    repo_url = base_url + a_tags[1]['href'].strip()\n",
    "    \n",
    "    \n",
    "    # Star count\n",
    "    \n",
    "    \n",
    "    stars_tag = article_tag.find('span', class_='Counter js-social-count')\n",
    "    star_count = parse_star_count(stars_tag.text.strip())\n",
    "    \n",
    "    \n",
    "    # Return a dictionary\n",
    "    \n",
    "    return {\n",
    "        'repository_name': repo_name,\n",
    "        'owner_username': username,        \n",
    "        'stars': star_count,\n",
    "        'repository_url': repo_url\n",
    "    }"
   ]
  },
  {
   "cell_type": "code",
   "execution_count": 77,
   "id": "7f1f5e63",
   "metadata": {},
   "outputs": [
    {
     "data": {
      "text/plain": [
       "{'repository_name': 'short-jokes-dataset',\n",
       " 'owner_username': 'amoudgl',\n",
       " 'stars': 230,\n",
       " 'repository_url': 'https://github.com/amoudgl/short-jokes-dataset'}"
      ]
     },
     "execution_count": 77,
     "metadata": {},
     "output_type": "execute_result"
    }
   ],
   "source": [
    "parse_repository(article_tags[0])"
   ]
  },
  {
   "cell_type": "code",
   "execution_count": 78,
   "id": "b205c967",
   "metadata": {},
   "outputs": [
    {
     "data": {
      "text/plain": [
       "{'repository_name': 'Scraping-Dynamic-JavaScript-Ajax-Websites-With-BeautifulSoup',\n",
       " 'owner_username': 'oxylabs',\n",
       " 'stars': 10,\n",
       " 'repository_url': 'https://github.com/oxylabs/Scraping-Dynamic-JavaScript-Ajax-Websites-With-BeautifulSoup'}"
      ]
     },
     "execution_count": 78,
     "metadata": {},
     "output_type": "execute_result"
    }
   ],
   "source": [
    "parse_repository(article_tags[10])"
   ]
  },
  {
   "cell_type": "code",
   "execution_count": 79,
   "id": "a943d567",
   "metadata": {},
   "outputs": [],
   "source": [
    "top_repositories = [parse_repository(tag) for tag in article_tags]"
   ]
  },
  {
   "cell_type": "code",
   "execution_count": 80,
   "id": "dc63b9c7",
   "metadata": {},
   "outputs": [
    {
     "data": {
      "text/plain": [
       "30"
      ]
     },
     "execution_count": 80,
     "metadata": {},
     "output_type": "execute_result"
    }
   ],
   "source": [
    "len(top_repositories)"
   ]
  },
  {
   "cell_type": "code",
   "execution_count": 81,
   "id": "766c6a5b",
   "metadata": {},
   "outputs": [
    {
     "data": {
      "text/plain": [
       "[{'repository_name': 'short-jokes-dataset',\n",
       "  'owner_username': 'amoudgl',\n",
       "  'stars': 230,\n",
       "  'repository_url': 'https://github.com/amoudgl/short-jokes-dataset'},\n",
       " {'repository_name': 'trump-lies',\n",
       "  'owner_username': 'justmarkham',\n",
       "  'stars': 222,\n",
       "  'repository_url': 'https://github.com/justmarkham/trump-lies'},\n",
       " {'repository_name': 'Novel-crawler',\n",
       "  'owner_username': 'ling7334',\n",
       "  'stars': 71,\n",
       "  'repository_url': 'https://github.com/ling7334/Novel-crawler'},\n",
       " {'repository_name': 'RapLyrics-Scraper',\n",
       "  'owner_username': 'fpaupier',\n",
       "  'stars': 39,\n",
       "  'repository_url': 'https://github.com/fpaupier/RapLyrics-Scraper'},\n",
       " {'repository_name': 'ComicBookMaker',\n",
       "  'owner_username': 'SylvainDe',\n",
       "  'stars': 31,\n",
       "  'repository_url': 'https://github.com/SylvainDe/ComicBookMaker'}]"
      ]
     },
     "execution_count": 81,
     "metadata": {},
     "output_type": "execute_result"
    }
   ],
   "source": [
    "top_repositories[:5]"
   ]
  },
  {
   "cell_type": "code",
   "execution_count": 82,
   "id": "bc873c0c",
   "metadata": {},
   "outputs": [],
   "source": [
    "def get_top_repositories(doc):\n",
    "    article_tags = doc.find_all('article', class_='border rounded color-shadow-small color-bg-subtle my-4')\n",
    "    topic_repos = [parse_repository(tag) for tag in article_tags]\n",
    "    return topic_repos"
   ]
  },
  {
   "cell_type": "code",
   "execution_count": 83,
   "id": "ffba523b",
   "metadata": {},
   "outputs": [
    {
     "data": {
      "text/plain": [
       "[{'repository_name': 'short-jokes-dataset',\n",
       "  'owner_username': 'amoudgl',\n",
       "  'stars': 230,\n",
       "  'repository_url': 'https://github.com/amoudgl/short-jokes-dataset'},\n",
       " {'repository_name': 'trump-lies',\n",
       "  'owner_username': 'justmarkham',\n",
       "  'stars': 222,\n",
       "  'repository_url': 'https://github.com/justmarkham/trump-lies'},\n",
       " {'repository_name': 'Novel-crawler',\n",
       "  'owner_username': 'ling7334',\n",
       "  'stars': 71,\n",
       "  'repository_url': 'https://github.com/ling7334/Novel-crawler'},\n",
       " {'repository_name': 'RapLyrics-Scraper',\n",
       "  'owner_username': 'fpaupier',\n",
       "  'stars': 39,\n",
       "  'repository_url': 'https://github.com/fpaupier/RapLyrics-Scraper'},\n",
       " {'repository_name': 'ComicBookMaker',\n",
       "  'owner_username': 'SylvainDe',\n",
       "  'stars': 31,\n",
       "  'repository_url': 'https://github.com/SylvainDe/ComicBookMaker'}]"
      ]
     },
     "execution_count": 83,
     "metadata": {},
     "output_type": "execute_result"
    }
   ],
   "source": [
    "topic_page_BS = get_topic_page('beautiful-soup')\n",
    "top_repos_BS = get_top_repositories(topic_page_BS)\n",
    "top_repos_BS[:5]"
   ]
  },
  {
   "cell_type": "code",
   "execution_count": 84,
   "id": "1e01546c",
   "metadata": {},
   "outputs": [
    {
     "data": {
      "text/plain": [
       "[{'repository_name': 'scikit-learn',\n",
       "  'owner_username': 'scikit-learn',\n",
       "  'stars': 50900,\n",
       "  'repository_url': 'https://github.com/scikit-learn/scikit-learn'},\n",
       " {'repository_name': 'superset',\n",
       "  'owner_username': 'apache',\n",
       "  'stars': 47300,\n",
       "  'repository_url': 'https://github.com/apache/superset'},\n",
       " {'repository_name': 'pandas',\n",
       "  'owner_username': 'pandas-dev',\n",
       "  'stars': 34700,\n",
       "  'repository_url': 'https://github.com/pandas-dev/pandas'},\n",
       " {'repository_name': 'metabase',\n",
       "  'owner_username': 'metabase',\n",
       "  'stars': 29300,\n",
       "  'repository_url': 'https://github.com/metabase/metabase'},\n",
       " {'repository_name': 'AI-Expert-Roadmap',\n",
       "  'owner_username': 'AMAI-GmbH',\n",
       "  'stars': 21100,\n",
       "  'repository_url': 'https://github.com/AMAI-GmbH/AI-Expert-Roadmap'}]"
      ]
     },
     "execution_count": 84,
     "metadata": {},
     "output_type": "execute_result"
    }
   ],
   "source": [
    "topic_page_da = get_topic_page('data-analysis')\n",
    "top_repos_da = get_top_repositories(topic_page_da)\n",
    "top_repos_da[:5]"
   ]
  },
  {
   "cell_type": "code",
   "execution_count": 85,
   "id": "ca472886",
   "metadata": {},
   "outputs": [
    {
     "data": {
      "text/plain": [
       "[{'repository_name': 'system-design-primer',\n",
       "  'owner_username': 'donnemartin',\n",
       "  'stars': 191000,\n",
       "  'repository_url': 'https://github.com/donnemartin/system-design-primer'},\n",
       " {'repository_name': 'tensorflow',\n",
       "  'owner_username': 'tensorflow',\n",
       "  'stars': 167000,\n",
       "  'repository_url': 'https://github.com/tensorflow/tensorflow'},\n",
       " {'repository_name': 'CS-Notes',\n",
       "  'owner_username': 'CyC2018',\n",
       "  'stars': 155000,\n",
       "  'repository_url': 'https://github.com/CyC2018/CS-Notes'},\n",
       " {'repository_name': 'Python',\n",
       "  'owner_username': 'TheAlgorithms',\n",
       "  'stars': 141000,\n",
       "  'repository_url': 'https://github.com/TheAlgorithms/Python'},\n",
       " {'repository_name': 'awesome-python',\n",
       "  'owner_username': 'vinta',\n",
       "  'stars': 136000,\n",
       "  'repository_url': 'https://github.com/vinta/awesome-python'}]"
      ]
     },
     "execution_count": 85,
     "metadata": {},
     "output_type": "execute_result"
    }
   ],
   "source": [
    "get_top_repositories(get_topic_page('python'))[:5]"
   ]
  },
  {
   "cell_type": "code",
   "execution_count": 86,
   "id": "324692f3",
   "metadata": {},
   "outputs": [
    {
     "data": {
      "application/javascript": [
       "window.require && require([\"base/js/namespace\"],function(Jupyter){Jupyter.notebook.save_checkpoint()})"
      ],
      "text/plain": [
       "<IPython.core.display.Javascript object>"
      ]
     },
     "metadata": {},
     "output_type": "display_data"
    },
    {
     "name": "stdout",
     "output_type": "stream",
     "text": [
      "[jovian] Updating notebook \"karriyaswanthtejareddy/python-web-scraping-and-rest-api\" on https://jovian.ai/\u001b[0m\n",
      "[jovian] Committed successfully! https://jovian.ai/karriyaswanthtejareddy/python-web-scraping-and-rest-api\u001b[0m\n"
     ]
    },
    {
     "data": {
      "text/plain": [
       "'https://jovian.ai/karriyaswanthtejareddy/python-web-scraping-and-rest-api'"
      ]
     },
     "execution_count": 86,
     "metadata": {},
     "output_type": "execute_result"
    }
   ],
   "source": [
    "jovian.commit()"
   ]
  },
  {
   "cell_type": "code",
   "execution_count": 87,
   "id": "004b5b31",
   "metadata": {},
   "outputs": [],
   "source": [
    "# WRITING INFORAMATION INTO A CSV FORMAT"
   ]
  },
  {
   "cell_type": "code",
   "execution_count": null,
   "id": "b9812477",
   "metadata": {},
   "outputs": [],
   "source": []
  },
  {
   "cell_type": "code",
   "execution_count": 88,
   "id": "84dd2922",
   "metadata": {},
   "outputs": [],
   "source": [
    "def write_csv(items, path):\n",
    "    # Open the file in write mode\n",
    "    with open(path, 'w') as f:\n",
    "        # Return if there's nothing to write\n",
    "        if len(items) == 0:\n",
    "            return\n",
    "        \n",
    "        # Write the headers in the first line\n",
    "        headers = list(items[0].keys())\n",
    "        f.write(','.join(headers) + '\\n')\n",
    "        \n",
    "        # Write one item per line\n",
    "        for item in items:\n",
    "            values = []\n",
    "            for header in headers:\n",
    "                values.append(str(item.get(header, \"\")))\n",
    "            f.write(','.join(values) + \"\\n\")"
   ]
  },
  {
   "cell_type": "code",
   "execution_count": 89,
   "id": "d2dd1177",
   "metadata": {},
   "outputs": [
    {
     "data": {
      "text/plain": [
       "30"
      ]
     },
     "execution_count": 89,
     "metadata": {},
     "output_type": "execute_result"
    }
   ],
   "source": [
    "len(top_repos_BS)"
   ]
  },
  {
   "cell_type": "code",
   "execution_count": 90,
   "id": "f207e92f",
   "metadata": {},
   "outputs": [
    {
     "data": {
      "text/plain": [
       "[{'repository_name': 'short-jokes-dataset',\n",
       "  'owner_username': 'amoudgl',\n",
       "  'stars': 230,\n",
       "  'repository_url': 'https://github.com/amoudgl/short-jokes-dataset'},\n",
       " {'repository_name': 'trump-lies',\n",
       "  'owner_username': 'justmarkham',\n",
       "  'stars': 222,\n",
       "  'repository_url': 'https://github.com/justmarkham/trump-lies'},\n",
       " {'repository_name': 'Novel-crawler',\n",
       "  'owner_username': 'ling7334',\n",
       "  'stars': 71,\n",
       "  'repository_url': 'https://github.com/ling7334/Novel-crawler'}]"
      ]
     },
     "execution_count": 90,
     "metadata": {},
     "output_type": "execute_result"
    }
   ],
   "source": [
    "top_repos_BS[:3]"
   ]
  },
  {
   "cell_type": "code",
   "execution_count": 91,
   "id": "1dc55c77",
   "metadata": {},
   "outputs": [],
   "source": [
    "write_csv(top_repositories, 'beautiful-soup.csv')"
   ]
  },
  {
   "cell_type": "code",
   "execution_count": 92,
   "id": "164c7321",
   "metadata": {},
   "outputs": [
    {
     "name": "stdout",
     "output_type": "stream",
     "text": [
      "repository_name,owner_username,stars,repository_url\n",
      "short-jokes-dataset,amoudgl,230,https://github.com/amoudgl/short-jokes-dataset\n",
      "trump-lies,justmarkham,222,https://github.com/justmarkham/trump-lies\n",
      "Novel-crawler,ling7334,71,https://github.com/ling7334/Novel-crawler\n",
      "RapLyrics-Scraper,fpaupier,39,https://github.com/fpaupier/RapLyrics-Scraper\n",
      "ComicBookMaker,SylvainDe,31,https://github.com/SylvainDe/ComicBookMaker\n",
      "webscraping,mahmudahsan,23,https://github.com/mahmudahsan/webscraping\n",
      "kick-off-web-scraping-python-selenium-beautifulsoup,devrohaan,20,https://github.com/devrohaan/kick-off-web-scraping-python-selenium-beautifulsoup\n",
      "tagalog-dictionary-scraper,raymelon,14,https://github.com/raymelon/tagalog-dictionary-scraper\n",
      "100-Days-of-Python,LearnEarn-Fun,9,https://github.com/LearnEarn-Fun/100-Days-of-Python\n",
      "Daily-Prayer-Time-API,abdulrcs,8,https://github.com/abdulrcs/Daily-Prayer-Time-API\n",
      "Scraping-Dynamic-JavaScript-Ajax-Websites-With-BeautifulSoup,oxylabs,10,https://github.com/oxylabs/Scraping-Dynamic-JavaScript-Ajax-Websites-With-BeautifulSoup\n",
      "web-scraper,MLArtist,8,https://github.com/MLArtist/web-scraper\n",
      "dataset-indian-companies,mratanusarkar,6,https://github.com/mratanusarkar/dataset-indian-companies\n",
      "MoodleTracker,sahilbansal17,5,https://github.com/sahilbansal17/MoodleTracker\n",
      "impress-writer,CSEC-NITH,4,https://github.com/CSEC-NITH/impress-writer\n",
      "vlr.gg-scraper,aritropaul,6,https://github.com/aritropaul/vlr.gg-scraper\n",
      "LinkCheck,aadibajpai,3,https://github.com/aadibajpai/LinkCheck\n",
      "lyrics_classification,lenaromanenko,2,https://github.com/lenaromanenko/lyrics_classification\n",
      "Scrapping-drugs-dot-com,m0-k1,2,https://github.com/m0-k1/Scrapping-drugs-dot-com\n",
      "GuitarTabs,SylvainDe,2,https://github.com/SylvainDe/GuitarTabs\n",
      "WebScraperAllMusic,AntoData,2,https://github.com/AntoData/WebScraperAllMusic\n",
      "python-scraping,zhubaiyuan,3,https://github.com/zhubaiyuan/python-scraping\n",
      "Web-Scrapping-using-BeautifulSoup2,ankitnayan12,2,https://github.com/ankitnayan12/Web-Scrapping-using-BeautifulSoup2\n",
      "AnimalCrossing_PopularityData,ErikaJacobs,2,https://github.com/ErikaJacobs/AnimalCrossing_PopularityData\n",
      "Text-Processing-ETL-and-Machine-Learning-for-Newslines,it21208,3,https://github.com/it21208/Text-Processing-ETL-and-Machine-Learning-for-Newslines\n",
      "covid-19-command-line-utility,Swaraj-Deep,2,https://github.com/Swaraj-Deep/covid-19-command-line-utility\n",
      "googledorker,ishan-saha,2,https://github.com/ishan-saha/googledorker\n",
      "Flipkart_Review_Scrapper,devil-cyber,1,https://github.com/devil-cyber/Flipkart_Review_Scrapper\n",
      "Web-Scrapers,sumanismcse,1,https://github.com/sumanismcse/Web-Scrapers\n",
      "URL_Categorization,Deepshikha05,1,https://github.com/Deepshikha05/URL_Categorization\n",
      "\n"
     ]
    }
   ],
   "source": [
    "with open('beautiful-soup.csv', 'r') as f:\n",
    "    print(f.read())"
   ]
  },
  {
   "cell_type": "code",
   "execution_count": 93,
   "id": "b0c17fd0",
   "metadata": {},
   "outputs": [],
   "source": [
    "import requests\n",
    "from bs4 import BeautifulSoup\n",
    "base_url = 'https://gitub.com'\n",
    "\n",
    "def scrape_topic_repositories(topic, path=None):\n",
    "    \"\"\"Get the top repositories for a topic and write them to a CSV file\"\"\"\n",
    "    if path is None:\n",
    "        path = topic + '.csv'\n",
    "    topic_page_doc = get_topic_page(topic)\n",
    "    topic_repositories = get_top_repositories(topic_page_doc)\n",
    "    write_csv(topic_repositories, path)\n",
    "    print('Top repositories for topic \"{}\" written to file \"{}\"'.format(topic, path))\n",
    "    return path\n",
    "\n",
    "def get_top_repositories(doc):\n",
    "    \"\"\"Parse the top repositories for a topic given a Beautiful Soup document\"\"\"\n",
    "    article_tags = doc.find_all('article', class_='border rounded color-shadow-small color-bg-subtle my-4')\n",
    "    topic_repos = [parse_repository(tag) for tag in article_tags]\n",
    "    return topic_repos\n",
    "\n",
    "def get_topic_page(topic):\n",
    "    \"\"\"Get the web page containing the top repositories for a topic as a Beautiful Soup document\"\"\"\n",
    "    topic_repos_url = 'https://github.com/topics/' + topic\n",
    "    response = requests.get(topic_repos_url)\n",
    "    if response.status_code != 200:\n",
    "        print('Status code:', response.status_code)\n",
    "        raise Exception('Failed to fetch web page ' + topic_repos_url)\n",
    "    return BeautifulSoup(response.text)    \n",
    "\n",
    "def parse_repository(article_tag):\n",
    "    \"\"\"Parse information about a repository from an <article> tag\"\"\"\n",
    "    a_tags = article_tag.h3.find_all('a')\n",
    "    username = a_tags[0].text.strip()\n",
    "    repo_name = a_tags[1].text.strip()\n",
    "    repo_url = base_url + a_tags[1]['href'].strip()\n",
    "    stars_tag = article_tag.find('span', class_='Counter js-social-count')\n",
    "    star_count = parse_star_count(stars_tag.text.strip())\n",
    "    return {'repository_name': repo_name, 'owner_username': username, 'stars': star_count, 'repository_url': repo_url}\n",
    "\n",
    "def parse_star_count(stars_str):\n",
    "    \"\"\"Parse strings like 40.3k and get the no. of stars as a number\"\"\"\n",
    "    stars_str = stars_str.strip()\n",
    "    return int(float(stars_str[:-1]) * 1000) if stars_str[-1] == 'k' else int(stars_str)\n",
    "\n",
    "def write_csv(items, path):\n",
    "    \"\"\"Write a list of dictionaries to a CSV file\"\"\"\n",
    "    with open(path, 'w') as f:\n",
    "        if len(items) == 0:\n",
    "            return\n",
    "        headers = list(items[0].keys())\n",
    "        f.write(','.join(headers) + '\\n')\n",
    "        for item in items:\n",
    "            values = []\n",
    "            for header in headers:\n",
    "                values.append(str(item.get(header, \"\")))\n",
    "            f.write(','.join(values) + \"\\n\")"
   ]
  },
  {
   "cell_type": "code",
   "execution_count": 94,
   "id": "5ea15f7f",
   "metadata": {},
   "outputs": [
    {
     "name": "stdout",
     "output_type": "stream",
     "text": [
      "Top repositories for topic \"beautiful-soup\" written to file \"beautiful-soup.csv\"\n"
     ]
    },
    {
     "data": {
      "text/plain": [
       "'beautiful-soup.csv'"
      ]
     },
     "execution_count": 94,
     "metadata": {},
     "output_type": "execute_result"
    }
   ],
   "source": [
    "scrape_topic_repositories('beautiful-soup')"
   ]
  },
  {
   "cell_type": "code",
   "execution_count": 95,
   "id": "a919fdc5",
   "metadata": {},
   "outputs": [],
   "source": [
    "import pandas as pd"
   ]
  },
  {
   "cell_type": "code",
   "execution_count": 96,
   "id": "241c8411",
   "metadata": {},
   "outputs": [
    {
     "data": {
      "text/html": [
       "<div>\n",
       "<style scoped>\n",
       "    .dataframe tbody tr th:only-of-type {\n",
       "        vertical-align: middle;\n",
       "    }\n",
       "\n",
       "    .dataframe tbody tr th {\n",
       "        vertical-align: top;\n",
       "    }\n",
       "\n",
       "    .dataframe thead th {\n",
       "        text-align: right;\n",
       "    }\n",
       "</style>\n",
       "<table border=\"1\" class=\"dataframe\">\n",
       "  <thead>\n",
       "    <tr style=\"text-align: right;\">\n",
       "      <th></th>\n",
       "      <th>repository_name</th>\n",
       "      <th>owner_username</th>\n",
       "      <th>stars</th>\n",
       "      <th>repository_url</th>\n",
       "    </tr>\n",
       "  </thead>\n",
       "  <tbody>\n",
       "    <tr>\n",
       "      <th>0</th>\n",
       "      <td>short-jokes-dataset</td>\n",
       "      <td>amoudgl</td>\n",
       "      <td>230</td>\n",
       "      <td>https://gitub.com/amoudgl/short-jokes-dataset</td>\n",
       "    </tr>\n",
       "    <tr>\n",
       "      <th>1</th>\n",
       "      <td>trump-lies</td>\n",
       "      <td>justmarkham</td>\n",
       "      <td>222</td>\n",
       "      <td>https://gitub.com/justmarkham/trump-lies</td>\n",
       "    </tr>\n",
       "    <tr>\n",
       "      <th>2</th>\n",
       "      <td>Novel-crawler</td>\n",
       "      <td>ling7334</td>\n",
       "      <td>71</td>\n",
       "      <td>https://gitub.com/ling7334/Novel-crawler</td>\n",
       "    </tr>\n",
       "    <tr>\n",
       "      <th>3</th>\n",
       "      <td>RapLyrics-Scraper</td>\n",
       "      <td>fpaupier</td>\n",
       "      <td>39</td>\n",
       "      <td>https://gitub.com/fpaupier/RapLyrics-Scraper</td>\n",
       "    </tr>\n",
       "    <tr>\n",
       "      <th>4</th>\n",
       "      <td>ComicBookMaker</td>\n",
       "      <td>SylvainDe</td>\n",
       "      <td>31</td>\n",
       "      <td>https://gitub.com/SylvainDe/ComicBookMaker</td>\n",
       "    </tr>\n",
       "    <tr>\n",
       "      <th>5</th>\n",
       "      <td>webscraping</td>\n",
       "      <td>mahmudahsan</td>\n",
       "      <td>23</td>\n",
       "      <td>https://gitub.com/mahmudahsan/webscraping</td>\n",
       "    </tr>\n",
       "    <tr>\n",
       "      <th>6</th>\n",
       "      <td>kick-off-web-scraping-python-selenium-beautifu...</td>\n",
       "      <td>devrohaan</td>\n",
       "      <td>20</td>\n",
       "      <td>https://gitub.com/devrohaan/kick-off-web-scrap...</td>\n",
       "    </tr>\n",
       "    <tr>\n",
       "      <th>7</th>\n",
       "      <td>tagalog-dictionary-scraper</td>\n",
       "      <td>raymelon</td>\n",
       "      <td>14</td>\n",
       "      <td>https://gitub.com/raymelon/tagalog-dictionary-...</td>\n",
       "    </tr>\n",
       "    <tr>\n",
       "      <th>8</th>\n",
       "      <td>100-Days-of-Python</td>\n",
       "      <td>LearnEarn-Fun</td>\n",
       "      <td>9</td>\n",
       "      <td>https://gitub.com/LearnEarn-Fun/100-Days-of-Py...</td>\n",
       "    </tr>\n",
       "    <tr>\n",
       "      <th>9</th>\n",
       "      <td>Daily-Prayer-Time-API</td>\n",
       "      <td>abdulrcs</td>\n",
       "      <td>8</td>\n",
       "      <td>https://gitub.com/abdulrcs/Daily-Prayer-Time-API</td>\n",
       "    </tr>\n",
       "    <tr>\n",
       "      <th>10</th>\n",
       "      <td>Scraping-Dynamic-JavaScript-Ajax-Websites-With...</td>\n",
       "      <td>oxylabs</td>\n",
       "      <td>10</td>\n",
       "      <td>https://gitub.com/oxylabs/Scraping-Dynamic-Jav...</td>\n",
       "    </tr>\n",
       "    <tr>\n",
       "      <th>11</th>\n",
       "      <td>web-scraper</td>\n",
       "      <td>MLArtist</td>\n",
       "      <td>8</td>\n",
       "      <td>https://gitub.com/MLArtist/web-scraper</td>\n",
       "    </tr>\n",
       "    <tr>\n",
       "      <th>12</th>\n",
       "      <td>dataset-indian-companies</td>\n",
       "      <td>mratanusarkar</td>\n",
       "      <td>6</td>\n",
       "      <td>https://gitub.com/mratanusarkar/dataset-indian...</td>\n",
       "    </tr>\n",
       "    <tr>\n",
       "      <th>13</th>\n",
       "      <td>MoodleTracker</td>\n",
       "      <td>sahilbansal17</td>\n",
       "      <td>5</td>\n",
       "      <td>https://gitub.com/sahilbansal17/MoodleTracker</td>\n",
       "    </tr>\n",
       "    <tr>\n",
       "      <th>14</th>\n",
       "      <td>impress-writer</td>\n",
       "      <td>CSEC-NITH</td>\n",
       "      <td>4</td>\n",
       "      <td>https://gitub.com/CSEC-NITH/impress-writer</td>\n",
       "    </tr>\n",
       "    <tr>\n",
       "      <th>15</th>\n",
       "      <td>vlr.gg-scraper</td>\n",
       "      <td>aritropaul</td>\n",
       "      <td>6</td>\n",
       "      <td>https://gitub.com/aritropaul/vlr.gg-scraper</td>\n",
       "    </tr>\n",
       "    <tr>\n",
       "      <th>16</th>\n",
       "      <td>LinkCheck</td>\n",
       "      <td>aadibajpai</td>\n",
       "      <td>3</td>\n",
       "      <td>https://gitub.com/aadibajpai/LinkCheck</td>\n",
       "    </tr>\n",
       "    <tr>\n",
       "      <th>17</th>\n",
       "      <td>lyrics_classification</td>\n",
       "      <td>lenaromanenko</td>\n",
       "      <td>2</td>\n",
       "      <td>https://gitub.com/lenaromanenko/lyrics_classif...</td>\n",
       "    </tr>\n",
       "    <tr>\n",
       "      <th>18</th>\n",
       "      <td>Scrapping-drugs-dot-com</td>\n",
       "      <td>m0-k1</td>\n",
       "      <td>2</td>\n",
       "      <td>https://gitub.com/m0-k1/Scrapping-drugs-dot-com</td>\n",
       "    </tr>\n",
       "    <tr>\n",
       "      <th>19</th>\n",
       "      <td>GuitarTabs</td>\n",
       "      <td>SylvainDe</td>\n",
       "      <td>2</td>\n",
       "      <td>https://gitub.com/SylvainDe/GuitarTabs</td>\n",
       "    </tr>\n",
       "    <tr>\n",
       "      <th>20</th>\n",
       "      <td>WebScraperAllMusic</td>\n",
       "      <td>AntoData</td>\n",
       "      <td>2</td>\n",
       "      <td>https://gitub.com/AntoData/WebScraperAllMusic</td>\n",
       "    </tr>\n",
       "    <tr>\n",
       "      <th>21</th>\n",
       "      <td>python-scraping</td>\n",
       "      <td>zhubaiyuan</td>\n",
       "      <td>3</td>\n",
       "      <td>https://gitub.com/zhubaiyuan/python-scraping</td>\n",
       "    </tr>\n",
       "    <tr>\n",
       "      <th>22</th>\n",
       "      <td>Web-Scrapping-using-BeautifulSoup2</td>\n",
       "      <td>ankitnayan12</td>\n",
       "      <td>2</td>\n",
       "      <td>https://gitub.com/ankitnayan12/Web-Scrapping-u...</td>\n",
       "    </tr>\n",
       "    <tr>\n",
       "      <th>23</th>\n",
       "      <td>AnimalCrossing_PopularityData</td>\n",
       "      <td>ErikaJacobs</td>\n",
       "      <td>2</td>\n",
       "      <td>https://gitub.com/ErikaJacobs/AnimalCrossing_P...</td>\n",
       "    </tr>\n",
       "    <tr>\n",
       "      <th>24</th>\n",
       "      <td>Text-Processing-ETL-and-Machine-Learning-for-N...</td>\n",
       "      <td>it21208</td>\n",
       "      <td>3</td>\n",
       "      <td>https://gitub.com/it21208/Text-Processing-ETL-...</td>\n",
       "    </tr>\n",
       "    <tr>\n",
       "      <th>25</th>\n",
       "      <td>covid-19-command-line-utility</td>\n",
       "      <td>Swaraj-Deep</td>\n",
       "      <td>2</td>\n",
       "      <td>https://gitub.com/Swaraj-Deep/covid-19-command...</td>\n",
       "    </tr>\n",
       "    <tr>\n",
       "      <th>26</th>\n",
       "      <td>googledorker</td>\n",
       "      <td>ishan-saha</td>\n",
       "      <td>2</td>\n",
       "      <td>https://gitub.com/ishan-saha/googledorker</td>\n",
       "    </tr>\n",
       "    <tr>\n",
       "      <th>27</th>\n",
       "      <td>Flipkart_Review_Scrapper</td>\n",
       "      <td>devil-cyber</td>\n",
       "      <td>1</td>\n",
       "      <td>https://gitub.com/devil-cyber/Flipkart_Review_...</td>\n",
       "    </tr>\n",
       "    <tr>\n",
       "      <th>28</th>\n",
       "      <td>Web-Scrapers</td>\n",
       "      <td>sumanismcse</td>\n",
       "      <td>1</td>\n",
       "      <td>https://gitub.com/sumanismcse/Web-Scrapers</td>\n",
       "    </tr>\n",
       "    <tr>\n",
       "      <th>29</th>\n",
       "      <td>URL_Categorization</td>\n",
       "      <td>Deepshikha05</td>\n",
       "      <td>1</td>\n",
       "      <td>https://gitub.com/Deepshikha05/URL_Categorization</td>\n",
       "    </tr>\n",
       "  </tbody>\n",
       "</table>\n",
       "</div>"
      ],
      "text/plain": [
       "                                      repository_name owner_username  stars  \\\n",
       "0                                 short-jokes-dataset        amoudgl    230   \n",
       "1                                          trump-lies    justmarkham    222   \n",
       "2                                       Novel-crawler       ling7334     71   \n",
       "3                                   RapLyrics-Scraper       fpaupier     39   \n",
       "4                                      ComicBookMaker      SylvainDe     31   \n",
       "5                                         webscraping    mahmudahsan     23   \n",
       "6   kick-off-web-scraping-python-selenium-beautifu...      devrohaan     20   \n",
       "7                          tagalog-dictionary-scraper       raymelon     14   \n",
       "8                                  100-Days-of-Python  LearnEarn-Fun      9   \n",
       "9                               Daily-Prayer-Time-API       abdulrcs      8   \n",
       "10  Scraping-Dynamic-JavaScript-Ajax-Websites-With...        oxylabs     10   \n",
       "11                                        web-scraper       MLArtist      8   \n",
       "12                           dataset-indian-companies  mratanusarkar      6   \n",
       "13                                      MoodleTracker  sahilbansal17      5   \n",
       "14                                     impress-writer      CSEC-NITH      4   \n",
       "15                                     vlr.gg-scraper     aritropaul      6   \n",
       "16                                          LinkCheck     aadibajpai      3   \n",
       "17                              lyrics_classification  lenaromanenko      2   \n",
       "18                            Scrapping-drugs-dot-com          m0-k1      2   \n",
       "19                                         GuitarTabs      SylvainDe      2   \n",
       "20                                 WebScraperAllMusic       AntoData      2   \n",
       "21                                    python-scraping     zhubaiyuan      3   \n",
       "22                 Web-Scrapping-using-BeautifulSoup2   ankitnayan12      2   \n",
       "23                      AnimalCrossing_PopularityData    ErikaJacobs      2   \n",
       "24  Text-Processing-ETL-and-Machine-Learning-for-N...        it21208      3   \n",
       "25                      covid-19-command-line-utility    Swaraj-Deep      2   \n",
       "26                                       googledorker     ishan-saha      2   \n",
       "27                           Flipkart_Review_Scrapper    devil-cyber      1   \n",
       "28                                       Web-Scrapers    sumanismcse      1   \n",
       "29                                 URL_Categorization   Deepshikha05      1   \n",
       "\n",
       "                                       repository_url  \n",
       "0       https://gitub.com/amoudgl/short-jokes-dataset  \n",
       "1            https://gitub.com/justmarkham/trump-lies  \n",
       "2            https://gitub.com/ling7334/Novel-crawler  \n",
       "3        https://gitub.com/fpaupier/RapLyrics-Scraper  \n",
       "4          https://gitub.com/SylvainDe/ComicBookMaker  \n",
       "5           https://gitub.com/mahmudahsan/webscraping  \n",
       "6   https://gitub.com/devrohaan/kick-off-web-scrap...  \n",
       "7   https://gitub.com/raymelon/tagalog-dictionary-...  \n",
       "8   https://gitub.com/LearnEarn-Fun/100-Days-of-Py...  \n",
       "9    https://gitub.com/abdulrcs/Daily-Prayer-Time-API  \n",
       "10  https://gitub.com/oxylabs/Scraping-Dynamic-Jav...  \n",
       "11             https://gitub.com/MLArtist/web-scraper  \n",
       "12  https://gitub.com/mratanusarkar/dataset-indian...  \n",
       "13      https://gitub.com/sahilbansal17/MoodleTracker  \n",
       "14         https://gitub.com/CSEC-NITH/impress-writer  \n",
       "15        https://gitub.com/aritropaul/vlr.gg-scraper  \n",
       "16             https://gitub.com/aadibajpai/LinkCheck  \n",
       "17  https://gitub.com/lenaromanenko/lyrics_classif...  \n",
       "18    https://gitub.com/m0-k1/Scrapping-drugs-dot-com  \n",
       "19             https://gitub.com/SylvainDe/GuitarTabs  \n",
       "20      https://gitub.com/AntoData/WebScraperAllMusic  \n",
       "21       https://gitub.com/zhubaiyuan/python-scraping  \n",
       "22  https://gitub.com/ankitnayan12/Web-Scrapping-u...  \n",
       "23  https://gitub.com/ErikaJacobs/AnimalCrossing_P...  \n",
       "24  https://gitub.com/it21208/Text-Processing-ETL-...  \n",
       "25  https://gitub.com/Swaraj-Deep/covid-19-command...  \n",
       "26          https://gitub.com/ishan-saha/googledorker  \n",
       "27  https://gitub.com/devil-cyber/Flipkart_Review_...  \n",
       "28         https://gitub.com/sumanismcse/Web-Scrapers  \n",
       "29  https://gitub.com/Deepshikha05/URL_Categorization  "
      ]
     },
     "execution_count": 96,
     "metadata": {},
     "output_type": "execute_result"
    }
   ],
   "source": [
    "pd.read_csv('beautiful-soup.csv')"
   ]
  },
  {
   "cell_type": "code",
   "execution_count": 97,
   "id": "c3ccc08b",
   "metadata": {},
   "outputs": [
    {
     "name": "stdout",
     "output_type": "stream",
     "text": [
      "Top repositories for topic \"data-analysis\" written to file \"data-analysis.csv\"\n"
     ]
    },
    {
     "data": {
      "text/plain": [
       "'data-analysis.csv'"
      ]
     },
     "execution_count": 97,
     "metadata": {},
     "output_type": "execute_result"
    }
   ],
   "source": [
    "scrape_topic_repositories('data-analysis')"
   ]
  },
  {
   "cell_type": "code",
   "execution_count": 98,
   "id": "887dcd50",
   "metadata": {},
   "outputs": [
    {
     "data": {
      "text/html": [
       "<div>\n",
       "<style scoped>\n",
       "    .dataframe tbody tr th:only-of-type {\n",
       "        vertical-align: middle;\n",
       "    }\n",
       "\n",
       "    .dataframe tbody tr th {\n",
       "        vertical-align: top;\n",
       "    }\n",
       "\n",
       "    .dataframe thead th {\n",
       "        text-align: right;\n",
       "    }\n",
       "</style>\n",
       "<table border=\"1\" class=\"dataframe\">\n",
       "  <thead>\n",
       "    <tr style=\"text-align: right;\">\n",
       "      <th></th>\n",
       "      <th>repository_name</th>\n",
       "      <th>owner_username</th>\n",
       "      <th>stars</th>\n",
       "      <th>repository_url</th>\n",
       "    </tr>\n",
       "  </thead>\n",
       "  <tbody>\n",
       "    <tr>\n",
       "      <th>0</th>\n",
       "      <td>scikit-learn</td>\n",
       "      <td>scikit-learn</td>\n",
       "      <td>50900</td>\n",
       "      <td>https://gitub.com/scikit-learn/scikit-learn</td>\n",
       "    </tr>\n",
       "    <tr>\n",
       "      <th>1</th>\n",
       "      <td>superset</td>\n",
       "      <td>apache</td>\n",
       "      <td>47300</td>\n",
       "      <td>https://gitub.com/apache/superset</td>\n",
       "    </tr>\n",
       "    <tr>\n",
       "      <th>2</th>\n",
       "      <td>pandas</td>\n",
       "      <td>pandas-dev</td>\n",
       "      <td>34700</td>\n",
       "      <td>https://gitub.com/pandas-dev/pandas</td>\n",
       "    </tr>\n",
       "    <tr>\n",
       "      <th>3</th>\n",
       "      <td>metabase</td>\n",
       "      <td>metabase</td>\n",
       "      <td>29300</td>\n",
       "      <td>https://gitub.com/metabase/metabase</td>\n",
       "    </tr>\n",
       "    <tr>\n",
       "      <th>4</th>\n",
       "      <td>AI-Expert-Roadmap</td>\n",
       "      <td>AMAI-GmbH</td>\n",
       "      <td>21100</td>\n",
       "      <td>https://gitub.com/AMAI-GmbH/AI-Expert-Roadmap</td>\n",
       "    </tr>\n",
       "    <tr>\n",
       "      <th>5</th>\n",
       "      <td>streamlit</td>\n",
       "      <td>streamlit</td>\n",
       "      <td>20200</td>\n",
       "      <td>https://gitub.com/streamlit/streamlit</td>\n",
       "    </tr>\n",
       "    <tr>\n",
       "      <th>6</th>\n",
       "      <td>CyberChef</td>\n",
       "      <td>gchq</td>\n",
       "      <td>17100</td>\n",
       "      <td>https://gitub.com/gchq/CyberChef</td>\n",
       "    </tr>\n",
       "    <tr>\n",
       "      <th>7</th>\n",
       "      <td>Data-Science-For-Beginners</td>\n",
       "      <td>microsoft</td>\n",
       "      <td>15700</td>\n",
       "      <td>https://gitub.com/microsoft/Data-Science-For-B...</td>\n",
       "    </tr>\n",
       "    <tr>\n",
       "      <th>8</th>\n",
       "      <td>goaccess</td>\n",
       "      <td>allinurl</td>\n",
       "      <td>15000</td>\n",
       "      <td>https://gitub.com/allinurl/goaccess</td>\n",
       "    </tr>\n",
       "    <tr>\n",
       "      <th>9</th>\n",
       "      <td>best-of-ml-python</td>\n",
       "      <td>ml-tooling</td>\n",
       "      <td>11300</td>\n",
       "      <td>https://gitub.com/ml-tooling/best-of-ml-python</td>\n",
       "    </tr>\n",
       "    <tr>\n",
       "      <th>10</th>\n",
       "      <td>pandas-profiling</td>\n",
       "      <td>ydataai</td>\n",
       "      <td>9300</td>\n",
       "      <td>https://gitub.com/ydataai/pandas-profiling</td>\n",
       "    </tr>\n",
       "    <tr>\n",
       "      <th>11</th>\n",
       "      <td>OpenRefine</td>\n",
       "      <td>OpenRefine</td>\n",
       "      <td>8900</td>\n",
       "      <td>https://gitub.com/OpenRefine/OpenRefine</td>\n",
       "    </tr>\n",
       "    <tr>\n",
       "      <th>12</th>\n",
       "      <td>mlcourse.ai</td>\n",
       "      <td>Yorko</td>\n",
       "      <td>8300</td>\n",
       "      <td>https://gitub.com/Yorko/mlcourse.ai</td>\n",
       "    </tr>\n",
       "    <tr>\n",
       "      <th>13</th>\n",
       "      <td>gradio</td>\n",
       "      <td>gradio-app</td>\n",
       "      <td>8200</td>\n",
       "      <td>https://gitub.com/gradio-app/gradio</td>\n",
       "    </tr>\n",
       "    <tr>\n",
       "      <th>14</th>\n",
       "      <td>pandas_exercises</td>\n",
       "      <td>guipsamora</td>\n",
       "      <td>8000</td>\n",
       "      <td>https://gitub.com/guipsamora/pandas_exercises</td>\n",
       "    </tr>\n",
       "    <tr>\n",
       "      <th>15</th>\n",
       "      <td>statsmodels</td>\n",
       "      <td>statsmodels</td>\n",
       "      <td>7600</td>\n",
       "      <td>https://gitub.com/statsmodels/statsmodels</td>\n",
       "    </tr>\n",
       "    <tr>\n",
       "      <th>16</th>\n",
       "      <td>airbyte</td>\n",
       "      <td>airbytehq</td>\n",
       "      <td>7500</td>\n",
       "      <td>https://gitub.com/airbytehq/airbyte</td>\n",
       "    </tr>\n",
       "    <tr>\n",
       "      <th>17</th>\n",
       "      <td>dataease</td>\n",
       "      <td>dataease</td>\n",
       "      <td>6300</td>\n",
       "      <td>https://gitub.com/dataease/dataease</td>\n",
       "    </tr>\n",
       "    <tr>\n",
       "      <th>18</th>\n",
       "      <td>pyod</td>\n",
       "      <td>yzhao062</td>\n",
       "      <td>6000</td>\n",
       "      <td>https://gitub.com/yzhao062/pyod</td>\n",
       "    </tr>\n",
       "    <tr>\n",
       "      <th>19</th>\n",
       "      <td>imbalanced-learn</td>\n",
       "      <td>scikit-learn-contrib</td>\n",
       "      <td>6000</td>\n",
       "      <td>https://gitub.com/scikit-learn-contrib/imbalan...</td>\n",
       "    </tr>\n",
       "    <tr>\n",
       "      <th>20</th>\n",
       "      <td>gonum</td>\n",
       "      <td>gonum</td>\n",
       "      <td>6000</td>\n",
       "      <td>https://gitub.com/gonum/gonum</td>\n",
       "    </tr>\n",
       "    <tr>\n",
       "      <th>21</th>\n",
       "      <td>alluxio</td>\n",
       "      <td>Alluxio</td>\n",
       "      <td>5800</td>\n",
       "      <td>https://gitub.com/Alluxio/alluxio</td>\n",
       "    </tr>\n",
       "    <tr>\n",
       "      <th>22</th>\n",
       "      <td>pachyderm</td>\n",
       "      <td>pachyderm</td>\n",
       "      <td>5600</td>\n",
       "      <td>https://gitub.com/pachyderm/pachyderm</td>\n",
       "    </tr>\n",
       "    <tr>\n",
       "      <th>23</th>\n",
       "      <td>Data-Analysis-and-Machine-Learning-Projects</td>\n",
       "      <td>rhiever</td>\n",
       "      <td>5300</td>\n",
       "      <td>https://gitub.com/rhiever/Data-Analysis-and-Ma...</td>\n",
       "    </tr>\n",
       "    <tr>\n",
       "      <th>24</th>\n",
       "      <td>akshare</td>\n",
       "      <td>akfamily</td>\n",
       "      <td>5200</td>\n",
       "      <td>https://gitub.com/akfamily/akshare</td>\n",
       "    </tr>\n",
       "    <tr>\n",
       "      <th>25</th>\n",
       "      <td>Ai-Learn</td>\n",
       "      <td>tangyudi</td>\n",
       "      <td>5200</td>\n",
       "      <td>https://gitub.com/tangyudi/Ai-Learn</td>\n",
       "    </tr>\n",
       "    <tr>\n",
       "      <th>26</th>\n",
       "      <td>knowledge-repo</td>\n",
       "      <td>airbnb</td>\n",
       "      <td>5200</td>\n",
       "      <td>https://gitub.com/airbnb/knowledge-repo</td>\n",
       "    </tr>\n",
       "    <tr>\n",
       "      <th>27</th>\n",
       "      <td>awesome-R</td>\n",
       "      <td>qinwf</td>\n",
       "      <td>5100</td>\n",
       "      <td>https://gitub.com/qinwf/awesome-R</td>\n",
       "    </tr>\n",
       "    <tr>\n",
       "      <th>28</th>\n",
       "      <td>cudf</td>\n",
       "      <td>rapidsai</td>\n",
       "      <td>4900</td>\n",
       "      <td>https://gitub.com/rapidsai/cudf</td>\n",
       "    </tr>\n",
       "    <tr>\n",
       "      <th>29</th>\n",
       "      <td>weibospider</td>\n",
       "      <td>SpiderClub</td>\n",
       "      <td>4700</td>\n",
       "      <td>https://gitub.com/SpiderClub/weibospider</td>\n",
       "    </tr>\n",
       "  </tbody>\n",
       "</table>\n",
       "</div>"
      ],
      "text/plain": [
       "                                repository_name        owner_username  stars  \\\n",
       "0                                  scikit-learn          scikit-learn  50900   \n",
       "1                                      superset                apache  47300   \n",
       "2                                        pandas            pandas-dev  34700   \n",
       "3                                      metabase              metabase  29300   \n",
       "4                             AI-Expert-Roadmap             AMAI-GmbH  21100   \n",
       "5                                     streamlit             streamlit  20200   \n",
       "6                                     CyberChef                  gchq  17100   \n",
       "7                    Data-Science-For-Beginners             microsoft  15700   \n",
       "8                                      goaccess              allinurl  15000   \n",
       "9                             best-of-ml-python            ml-tooling  11300   \n",
       "10                             pandas-profiling               ydataai   9300   \n",
       "11                                   OpenRefine            OpenRefine   8900   \n",
       "12                                  mlcourse.ai                 Yorko   8300   \n",
       "13                                       gradio            gradio-app   8200   \n",
       "14                             pandas_exercises            guipsamora   8000   \n",
       "15                                  statsmodels           statsmodels   7600   \n",
       "16                                      airbyte             airbytehq   7500   \n",
       "17                                     dataease              dataease   6300   \n",
       "18                                         pyod              yzhao062   6000   \n",
       "19                             imbalanced-learn  scikit-learn-contrib   6000   \n",
       "20                                        gonum                 gonum   6000   \n",
       "21                                      alluxio               Alluxio   5800   \n",
       "22                                    pachyderm             pachyderm   5600   \n",
       "23  Data-Analysis-and-Machine-Learning-Projects               rhiever   5300   \n",
       "24                                      akshare              akfamily   5200   \n",
       "25                                     Ai-Learn              tangyudi   5200   \n",
       "26                               knowledge-repo                airbnb   5200   \n",
       "27                                    awesome-R                 qinwf   5100   \n",
       "28                                         cudf              rapidsai   4900   \n",
       "29                                  weibospider            SpiderClub   4700   \n",
       "\n",
       "                                       repository_url  \n",
       "0         https://gitub.com/scikit-learn/scikit-learn  \n",
       "1                   https://gitub.com/apache/superset  \n",
       "2                 https://gitub.com/pandas-dev/pandas  \n",
       "3                 https://gitub.com/metabase/metabase  \n",
       "4       https://gitub.com/AMAI-GmbH/AI-Expert-Roadmap  \n",
       "5               https://gitub.com/streamlit/streamlit  \n",
       "6                    https://gitub.com/gchq/CyberChef  \n",
       "7   https://gitub.com/microsoft/Data-Science-For-B...  \n",
       "8                 https://gitub.com/allinurl/goaccess  \n",
       "9      https://gitub.com/ml-tooling/best-of-ml-python  \n",
       "10         https://gitub.com/ydataai/pandas-profiling  \n",
       "11            https://gitub.com/OpenRefine/OpenRefine  \n",
       "12                https://gitub.com/Yorko/mlcourse.ai  \n",
       "13                https://gitub.com/gradio-app/gradio  \n",
       "14      https://gitub.com/guipsamora/pandas_exercises  \n",
       "15          https://gitub.com/statsmodels/statsmodels  \n",
       "16                https://gitub.com/airbytehq/airbyte  \n",
       "17                https://gitub.com/dataease/dataease  \n",
       "18                    https://gitub.com/yzhao062/pyod  \n",
       "19  https://gitub.com/scikit-learn-contrib/imbalan...  \n",
       "20                      https://gitub.com/gonum/gonum  \n",
       "21                  https://gitub.com/Alluxio/alluxio  \n",
       "22              https://gitub.com/pachyderm/pachyderm  \n",
       "23  https://gitub.com/rhiever/Data-Analysis-and-Ma...  \n",
       "24                 https://gitub.com/akfamily/akshare  \n",
       "25                https://gitub.com/tangyudi/Ai-Learn  \n",
       "26            https://gitub.com/airbnb/knowledge-repo  \n",
       "27                  https://gitub.com/qinwf/awesome-R  \n",
       "28                    https://gitub.com/rapidsai/cudf  \n",
       "29           https://gitub.com/SpiderClub/weibospider  "
      ]
     },
     "execution_count": 98,
     "metadata": {},
     "output_type": "execute_result"
    }
   ],
   "source": [
    "pd.read_csv('data-analysis.csv')"
   ]
  },
  {
   "cell_type": "code",
   "execution_count": 99,
   "id": "a3938a48",
   "metadata": {},
   "outputs": [
    {
     "name": "stdout",
     "output_type": "stream",
     "text": [
      "Top repositories for topic \"python\" written to file \"python.csv\"\n"
     ]
    },
    {
     "data": {
      "text/plain": [
       "'python.csv'"
      ]
     },
     "execution_count": 99,
     "metadata": {},
     "output_type": "execute_result"
    }
   ],
   "source": [
    "scrape_topic_repositories('python')"
   ]
  },
  {
   "cell_type": "code",
   "execution_count": 100,
   "id": "f68d4a92",
   "metadata": {},
   "outputs": [
    {
     "data": {
      "text/html": [
       "<div>\n",
       "<style scoped>\n",
       "    .dataframe tbody tr th:only-of-type {\n",
       "        vertical-align: middle;\n",
       "    }\n",
       "\n",
       "    .dataframe tbody tr th {\n",
       "        vertical-align: top;\n",
       "    }\n",
       "\n",
       "    .dataframe thead th {\n",
       "        text-align: right;\n",
       "    }\n",
       "</style>\n",
       "<table border=\"1\" class=\"dataframe\">\n",
       "  <thead>\n",
       "    <tr style=\"text-align: right;\">\n",
       "      <th></th>\n",
       "      <th>repository_name</th>\n",
       "      <th>owner_username</th>\n",
       "      <th>stars</th>\n",
       "      <th>repository_url</th>\n",
       "    </tr>\n",
       "  </thead>\n",
       "  <tbody>\n",
       "    <tr>\n",
       "      <th>0</th>\n",
       "      <td>system-design-primer</td>\n",
       "      <td>donnemartin</td>\n",
       "      <td>191000</td>\n",
       "      <td>https://gitub.com/donnemartin/system-design-pr...</td>\n",
       "    </tr>\n",
       "    <tr>\n",
       "      <th>1</th>\n",
       "      <td>tensorflow</td>\n",
       "      <td>tensorflow</td>\n",
       "      <td>167000</td>\n",
       "      <td>https://gitub.com/tensorflow/tensorflow</td>\n",
       "    </tr>\n",
       "    <tr>\n",
       "      <th>2</th>\n",
       "      <td>CS-Notes</td>\n",
       "      <td>CyC2018</td>\n",
       "      <td>155000</td>\n",
       "      <td>https://gitub.com/CyC2018/CS-Notes</td>\n",
       "    </tr>\n",
       "    <tr>\n",
       "      <th>3</th>\n",
       "      <td>Python</td>\n",
       "      <td>TheAlgorithms</td>\n",
       "      <td>141000</td>\n",
       "      <td>https://gitub.com/TheAlgorithms/Python</td>\n",
       "    </tr>\n",
       "    <tr>\n",
       "      <th>4</th>\n",
       "      <td>awesome-python</td>\n",
       "      <td>vinta</td>\n",
       "      <td>136000</td>\n",
       "      <td>https://gitub.com/vinta/awesome-python</td>\n",
       "    </tr>\n",
       "    <tr>\n",
       "      <th>5</th>\n",
       "      <td>free-programming-books-zh_CN</td>\n",
       "      <td>justjavac</td>\n",
       "      <td>94700</td>\n",
       "      <td>https://gitub.com/justjavac/free-programming-b...</td>\n",
       "    </tr>\n",
       "    <tr>\n",
       "      <th>6</th>\n",
       "      <td>project-based-learning</td>\n",
       "      <td>practical-tutorials</td>\n",
       "      <td>74300</td>\n",
       "      <td>https://gitub.com/practical-tutorials/project-...</td>\n",
       "    </tr>\n",
       "    <tr>\n",
       "      <th>7</th>\n",
       "      <td>thefuck</td>\n",
       "      <td>nvbn</td>\n",
       "      <td>72600</td>\n",
       "      <td>https://gitub.com/nvbn/thefuck</td>\n",
       "    </tr>\n",
       "    <tr>\n",
       "      <th>8</th>\n",
       "      <td>transformers</td>\n",
       "      <td>huggingface</td>\n",
       "      <td>67800</td>\n",
       "      <td>https://gitub.com/huggingface/transformers</td>\n",
       "    </tr>\n",
       "    <tr>\n",
       "      <th>9</th>\n",
       "      <td>django</td>\n",
       "      <td>django</td>\n",
       "      <td>65500</td>\n",
       "      <td>https://gitub.com/django/django</td>\n",
       "    </tr>\n",
       "    <tr>\n",
       "      <th>10</th>\n",
       "      <td>flask</td>\n",
       "      <td>pallets</td>\n",
       "      <td>60100</td>\n",
       "      <td>https://gitub.com/pallets/flask</td>\n",
       "    </tr>\n",
       "    <tr>\n",
       "      <th>11</th>\n",
       "      <td>HelloGitHub</td>\n",
       "      <td>521xueweihan</td>\n",
       "      <td>57900</td>\n",
       "      <td>https://gitub.com/521xueweihan/HelloGitHub</td>\n",
       "    </tr>\n",
       "    <tr>\n",
       "      <th>12</th>\n",
       "      <td>pytorch</td>\n",
       "      <td>pytorch</td>\n",
       "      <td>57700</td>\n",
       "      <td>https://gitub.com/pytorch/pytorch</td>\n",
       "    </tr>\n",
       "    <tr>\n",
       "      <th>13</th>\n",
       "      <td>keras</td>\n",
       "      <td>keras-team</td>\n",
       "      <td>55800</td>\n",
       "      <td>https://gitub.com/keras-team/keras</td>\n",
       "    </tr>\n",
       "    <tr>\n",
       "      <th>14</th>\n",
       "      <td>core</td>\n",
       "      <td>home-assistant</td>\n",
       "      <td>54300</td>\n",
       "      <td>https://gitub.com/home-assistant/core</td>\n",
       "    </tr>\n",
       "    <tr>\n",
       "      <th>15</th>\n",
       "      <td>ansible</td>\n",
       "      <td>ansible</td>\n",
       "      <td>54000</td>\n",
       "      <td>https://gitub.com/ansible/ansible</td>\n",
       "    </tr>\n",
       "    <tr>\n",
       "      <th>16</th>\n",
       "      <td>scikit-learn</td>\n",
       "      <td>scikit-learn</td>\n",
       "      <td>50900</td>\n",
       "      <td>https://gitub.com/scikit-learn/scikit-learn</td>\n",
       "    </tr>\n",
       "    <tr>\n",
       "      <th>17</th>\n",
       "      <td>leetcode</td>\n",
       "      <td>azl397985856</td>\n",
       "      <td>48900</td>\n",
       "      <td>https://gitub.com/azl397985856/leetcode</td>\n",
       "    </tr>\n",
       "    <tr>\n",
       "      <th>18</th>\n",
       "      <td>requests</td>\n",
       "      <td>psf</td>\n",
       "      <td>48000</td>\n",
       "      <td>https://gitub.com/psf/requests</td>\n",
       "    </tr>\n",
       "    <tr>\n",
       "      <th>19</th>\n",
       "      <td>fastapi</td>\n",
       "      <td>tiangolo</td>\n",
       "      <td>47900</td>\n",
       "      <td>https://gitub.com/tiangolo/fastapi</td>\n",
       "    </tr>\n",
       "    <tr>\n",
       "      <th>20</th>\n",
       "      <td>superset</td>\n",
       "      <td>apache</td>\n",
       "      <td>47300</td>\n",
       "      <td>https://gitub.com/apache/superset</td>\n",
       "    </tr>\n",
       "    <tr>\n",
       "      <th>21</th>\n",
       "      <td>manim</td>\n",
       "      <td>3b1b</td>\n",
       "      <td>46100</td>\n",
       "      <td>https://gitub.com/3b1b/manim</td>\n",
       "    </tr>\n",
       "    <tr>\n",
       "      <th>22</th>\n",
       "      <td>face_recognition</td>\n",
       "      <td>ageitgey</td>\n",
       "      <td>45400</td>\n",
       "      <td>https://gitub.com/ageitgey/face_recognition</td>\n",
       "    </tr>\n",
       "    <tr>\n",
       "      <th>23</th>\n",
       "      <td>scrapy</td>\n",
       "      <td>scrapy</td>\n",
       "      <td>44200</td>\n",
       "      <td>https://gitub.com/scrapy/scrapy</td>\n",
       "    </tr>\n",
       "    <tr>\n",
       "      <th>24</th>\n",
       "      <td>localstack</td>\n",
       "      <td>localstack</td>\n",
       "      <td>42500</td>\n",
       "      <td>https://gitub.com/localstack/localstack</td>\n",
       "    </tr>\n",
       "    <tr>\n",
       "      <th>25</th>\n",
       "      <td>TensorFlow-Examples</td>\n",
       "      <td>aymericdamien</td>\n",
       "      <td>42100</td>\n",
       "      <td>https://gitub.com/aymericdamien/TensorFlow-Exa...</td>\n",
       "    </tr>\n",
       "    <tr>\n",
       "      <th>26</th>\n",
       "      <td>ML-For-Beginners</td>\n",
       "      <td>microsoft</td>\n",
       "      <td>40000</td>\n",
       "      <td>https://gitub.com/microsoft/ML-For-Beginners</td>\n",
       "    </tr>\n",
       "    <tr>\n",
       "      <th>27</th>\n",
       "      <td>rich</td>\n",
       "      <td>Textualize</td>\n",
       "      <td>38900</td>\n",
       "      <td>https://gitub.com/Textualize/rich</td>\n",
       "    </tr>\n",
       "    <tr>\n",
       "      <th>28</th>\n",
       "      <td>100-Days-Of-ML-Code</td>\n",
       "      <td>Avik-Jain</td>\n",
       "      <td>38100</td>\n",
       "      <td>https://gitub.com/Avik-Jain/100-Days-Of-ML-Code</td>\n",
       "    </tr>\n",
       "    <tr>\n",
       "      <th>29</th>\n",
       "      <td>nerd-fonts</td>\n",
       "      <td>ryanoasis</td>\n",
       "      <td>37200</td>\n",
       "      <td>https://gitub.com/ryanoasis/nerd-fonts</td>\n",
       "    </tr>\n",
       "  </tbody>\n",
       "</table>\n",
       "</div>"
      ],
      "text/plain": [
       "                 repository_name       owner_username   stars  \\\n",
       "0           system-design-primer          donnemartin  191000   \n",
       "1                     tensorflow           tensorflow  167000   \n",
       "2                       CS-Notes              CyC2018  155000   \n",
       "3                         Python        TheAlgorithms  141000   \n",
       "4                 awesome-python                vinta  136000   \n",
       "5   free-programming-books-zh_CN            justjavac   94700   \n",
       "6         project-based-learning  practical-tutorials   74300   \n",
       "7                        thefuck                 nvbn   72600   \n",
       "8                   transformers          huggingface   67800   \n",
       "9                         django               django   65500   \n",
       "10                         flask              pallets   60100   \n",
       "11                   HelloGitHub         521xueweihan   57900   \n",
       "12                       pytorch              pytorch   57700   \n",
       "13                         keras           keras-team   55800   \n",
       "14                          core       home-assistant   54300   \n",
       "15                       ansible              ansible   54000   \n",
       "16                  scikit-learn         scikit-learn   50900   \n",
       "17                      leetcode         azl397985856   48900   \n",
       "18                      requests                  psf   48000   \n",
       "19                       fastapi             tiangolo   47900   \n",
       "20                      superset               apache   47300   \n",
       "21                         manim                 3b1b   46100   \n",
       "22              face_recognition             ageitgey   45400   \n",
       "23                        scrapy               scrapy   44200   \n",
       "24                    localstack           localstack   42500   \n",
       "25           TensorFlow-Examples        aymericdamien   42100   \n",
       "26              ML-For-Beginners            microsoft   40000   \n",
       "27                          rich           Textualize   38900   \n",
       "28           100-Days-Of-ML-Code            Avik-Jain   38100   \n",
       "29                    nerd-fonts            ryanoasis   37200   \n",
       "\n",
       "                                       repository_url  \n",
       "0   https://gitub.com/donnemartin/system-design-pr...  \n",
       "1             https://gitub.com/tensorflow/tensorflow  \n",
       "2                  https://gitub.com/CyC2018/CS-Notes  \n",
       "3              https://gitub.com/TheAlgorithms/Python  \n",
       "4              https://gitub.com/vinta/awesome-python  \n",
       "5   https://gitub.com/justjavac/free-programming-b...  \n",
       "6   https://gitub.com/practical-tutorials/project-...  \n",
       "7                      https://gitub.com/nvbn/thefuck  \n",
       "8          https://gitub.com/huggingface/transformers  \n",
       "9                     https://gitub.com/django/django  \n",
       "10                    https://gitub.com/pallets/flask  \n",
       "11         https://gitub.com/521xueweihan/HelloGitHub  \n",
       "12                  https://gitub.com/pytorch/pytorch  \n",
       "13                 https://gitub.com/keras-team/keras  \n",
       "14              https://gitub.com/home-assistant/core  \n",
       "15                  https://gitub.com/ansible/ansible  \n",
       "16        https://gitub.com/scikit-learn/scikit-learn  \n",
       "17            https://gitub.com/azl397985856/leetcode  \n",
       "18                     https://gitub.com/psf/requests  \n",
       "19                 https://gitub.com/tiangolo/fastapi  \n",
       "20                  https://gitub.com/apache/superset  \n",
       "21                       https://gitub.com/3b1b/manim  \n",
       "22        https://gitub.com/ageitgey/face_recognition  \n",
       "23                    https://gitub.com/scrapy/scrapy  \n",
       "24            https://gitub.com/localstack/localstack  \n",
       "25  https://gitub.com/aymericdamien/TensorFlow-Exa...  \n",
       "26       https://gitub.com/microsoft/ML-For-Beginners  \n",
       "27                  https://gitub.com/Textualize/rich  \n",
       "28    https://gitub.com/Avik-Jain/100-Days-Of-ML-Code  \n",
       "29             https://gitub.com/ryanoasis/nerd-fonts  "
      ]
     },
     "execution_count": 100,
     "metadata": {},
     "output_type": "execute_result"
    }
   ],
   "source": [
    "pd.read_csv('python.csv')"
   ]
  },
  {
   "cell_type": "code",
   "execution_count": 101,
   "id": "96714aba",
   "metadata": {},
   "outputs": [
    {
     "data": {
      "application/javascript": [
       "window.require && require([\"base/js/namespace\"],function(Jupyter){Jupyter.notebook.save_checkpoint()})"
      ],
      "text/plain": [
       "<IPython.core.display.Javascript object>"
      ]
     },
     "metadata": {},
     "output_type": "display_data"
    },
    {
     "name": "stdout",
     "output_type": "stream",
     "text": [
      "[jovian] Updating notebook \"karriyaswanthtejareddy/python-web-scraping-and-rest-api\" on https://jovian.ai/\u001b[0m\n",
      "[jovian] Uploading additional files...\u001b[0m\n",
      "[jovian] Committed successfully! https://jovian.ai/karriyaswanthtejareddy/python-web-scraping-and-rest-api\u001b[0m\n"
     ]
    },
    {
     "data": {
      "text/plain": [
       "'https://jovian.ai/karriyaswanthtejareddy/python-web-scraping-and-rest-api'"
      ]
     },
     "execution_count": 101,
     "metadata": {},
     "output_type": "execute_result"
    }
   ],
   "source": [
    "jovian.commit(files=['beautiful-soup.csv', 'python.csv', 'data-analysis.csv'])"
   ]
  },
  {
   "cell_type": "code",
   "execution_count": null,
   "id": "0200bd61",
   "metadata": {},
   "outputs": [],
   "source": []
  },
  {
   "cell_type": "code",
   "execution_count": 102,
   "id": "7434264e",
   "metadata": {},
   "outputs": [],
   "source": [
    "response = requests.get('https://api.github.com/repos/octocat/hello-world')"
   ]
  },
  {
   "cell_type": "code",
   "execution_count": 103,
   "id": "0677cfd0",
   "metadata": {},
   "outputs": [],
   "source": [
    "import json\n",
    "\n",
    "data_dict = json.loads(response.text)"
   ]
  },
  {
   "cell_type": "code",
   "execution_count": 104,
   "id": "0287f0e9",
   "metadata": {},
   "outputs": [
    {
     "data": {
      "text/plain": [
       "{'id': 1296269,\n",
       " 'node_id': 'MDEwOlJlcG9zaXRvcnkxMjk2MjY5',\n",
       " 'name': 'Hello-World',\n",
       " 'full_name': 'octocat/Hello-World',\n",
       " 'private': False,\n",
       " 'owner': {'login': 'octocat',\n",
       "  'id': 583231,\n",
       "  'node_id': 'MDQ6VXNlcjU4MzIzMQ==',\n",
       "  'avatar_url': 'https://avatars.githubusercontent.com/u/583231?v=4',\n",
       "  'gravatar_id': '',\n",
       "  'url': 'https://api.github.com/users/octocat',\n",
       "  'html_url': 'https://github.com/octocat',\n",
       "  'followers_url': 'https://api.github.com/users/octocat/followers',\n",
       "  'following_url': 'https://api.github.com/users/octocat/following{/other_user}',\n",
       "  'gists_url': 'https://api.github.com/users/octocat/gists{/gist_id}',\n",
       "  'starred_url': 'https://api.github.com/users/octocat/starred{/owner}{/repo}',\n",
       "  'subscriptions_url': 'https://api.github.com/users/octocat/subscriptions',\n",
       "  'organizations_url': 'https://api.github.com/users/octocat/orgs',\n",
       "  'repos_url': 'https://api.github.com/users/octocat/repos',\n",
       "  'events_url': 'https://api.github.com/users/octocat/events{/privacy}',\n",
       "  'received_events_url': 'https://api.github.com/users/octocat/received_events',\n",
       "  'type': 'User',\n",
       "  'site_admin': False},\n",
       " 'html_url': 'https://github.com/octocat/Hello-World',\n",
       " 'description': 'My first repository on GitHub!',\n",
       " 'fork': False,\n",
       " 'url': 'https://api.github.com/repos/octocat/Hello-World',\n",
       " 'forks_url': 'https://api.github.com/repos/octocat/Hello-World/forks',\n",
       " 'keys_url': 'https://api.github.com/repos/octocat/Hello-World/keys{/key_id}',\n",
       " 'collaborators_url': 'https://api.github.com/repos/octocat/Hello-World/collaborators{/collaborator}',\n",
       " 'teams_url': 'https://api.github.com/repos/octocat/Hello-World/teams',\n",
       " 'hooks_url': 'https://api.github.com/repos/octocat/Hello-World/hooks',\n",
       " 'issue_events_url': 'https://api.github.com/repos/octocat/Hello-World/issues/events{/number}',\n",
       " 'events_url': 'https://api.github.com/repos/octocat/Hello-World/events',\n",
       " 'assignees_url': 'https://api.github.com/repos/octocat/Hello-World/assignees{/user}',\n",
       " 'branches_url': 'https://api.github.com/repos/octocat/Hello-World/branches{/branch}',\n",
       " 'tags_url': 'https://api.github.com/repos/octocat/Hello-World/tags',\n",
       " 'blobs_url': 'https://api.github.com/repos/octocat/Hello-World/git/blobs{/sha}',\n",
       " 'git_tags_url': 'https://api.github.com/repos/octocat/Hello-World/git/tags{/sha}',\n",
       " 'git_refs_url': 'https://api.github.com/repos/octocat/Hello-World/git/refs{/sha}',\n",
       " 'trees_url': 'https://api.github.com/repos/octocat/Hello-World/git/trees{/sha}',\n",
       " 'statuses_url': 'https://api.github.com/repos/octocat/Hello-World/statuses/{sha}',\n",
       " 'languages_url': 'https://api.github.com/repos/octocat/Hello-World/languages',\n",
       " 'stargazers_url': 'https://api.github.com/repos/octocat/Hello-World/stargazers',\n",
       " 'contributors_url': 'https://api.github.com/repos/octocat/Hello-World/contributors',\n",
       " 'subscribers_url': 'https://api.github.com/repos/octocat/Hello-World/subscribers',\n",
       " 'subscription_url': 'https://api.github.com/repos/octocat/Hello-World/subscription',\n",
       " 'commits_url': 'https://api.github.com/repos/octocat/Hello-World/commits{/sha}',\n",
       " 'git_commits_url': 'https://api.github.com/repos/octocat/Hello-World/git/commits{/sha}',\n",
       " 'comments_url': 'https://api.github.com/repos/octocat/Hello-World/comments{/number}',\n",
       " 'issue_comment_url': 'https://api.github.com/repos/octocat/Hello-World/issues/comments{/number}',\n",
       " 'contents_url': 'https://api.github.com/repos/octocat/Hello-World/contents/{+path}',\n",
       " 'compare_url': 'https://api.github.com/repos/octocat/Hello-World/compare/{base}...{head}',\n",
       " 'merges_url': 'https://api.github.com/repos/octocat/Hello-World/merges',\n",
       " 'archive_url': 'https://api.github.com/repos/octocat/Hello-World/{archive_format}{/ref}',\n",
       " 'downloads_url': 'https://api.github.com/repos/octocat/Hello-World/downloads',\n",
       " 'issues_url': 'https://api.github.com/repos/octocat/Hello-World/issues{/number}',\n",
       " 'pulls_url': 'https://api.github.com/repos/octocat/Hello-World/pulls{/number}',\n",
       " 'milestones_url': 'https://api.github.com/repos/octocat/Hello-World/milestones{/number}',\n",
       " 'notifications_url': 'https://api.github.com/repos/octocat/Hello-World/notifications{?since,all,participating}',\n",
       " 'labels_url': 'https://api.github.com/repos/octocat/Hello-World/labels{/name}',\n",
       " 'releases_url': 'https://api.github.com/repos/octocat/Hello-World/releases{/id}',\n",
       " 'deployments_url': 'https://api.github.com/repos/octocat/Hello-World/deployments',\n",
       " 'created_at': '2011-01-26T19:01:12Z',\n",
       " 'updated_at': '2022-08-02T15:38:24Z',\n",
       " 'pushed_at': '2022-08-01T19:32:36Z',\n",
       " 'git_url': 'git://github.com/octocat/Hello-World.git',\n",
       " 'ssh_url': 'git@github.com:octocat/Hello-World.git',\n",
       " 'clone_url': 'https://github.com/octocat/Hello-World.git',\n",
       " 'svn_url': 'https://github.com/octocat/Hello-World',\n",
       " 'homepage': '',\n",
       " 'size': 1,\n",
       " 'stargazers_count': 1956,\n",
       " 'watchers_count': 1956,\n",
       " 'language': None,\n",
       " 'has_issues': True,\n",
       " 'has_projects': True,\n",
       " 'has_downloads': True,\n",
       " 'has_wiki': True,\n",
       " 'has_pages': False,\n",
       " 'forks_count': 1797,\n",
       " 'mirror_url': None,\n",
       " 'archived': False,\n",
       " 'disabled': False,\n",
       " 'open_issues_count': 908,\n",
       " 'license': None,\n",
       " 'allow_forking': True,\n",
       " 'is_template': False,\n",
       " 'web_commit_signoff_required': False,\n",
       " 'topics': [],\n",
       " 'visibility': 'public',\n",
       " 'forks': 1797,\n",
       " 'open_issues': 908,\n",
       " 'watchers': 1956,\n",
       " 'default_branch': 'master',\n",
       " 'temp_clone_token': None,\n",
       " 'network_count': 1797,\n",
       " 'subscribers_count': 1720}"
      ]
     },
     "execution_count": 104,
     "metadata": {},
     "output_type": "execute_result"
    }
   ],
   "source": [
    "data_dict"
   ]
  },
  {
   "cell_type": "code",
   "execution_count": 105,
   "id": "8e442fd8",
   "metadata": {},
   "outputs": [],
   "source": [
    "def get_repo_details(username, repo_name):\n",
    "    print('Fetching information for {}/{}'.format(username, repo_name))\n",
    "    repo_details_url = \"https://api.github.com/repos/\" + username + \"/\" + repo_name\n",
    "    response = requests.get(repo_details_url)\n",
    "    if not response.ok:\n",
    "        print(\"Failed to fetch!\")\n",
    "        return {}\n",
    "    repo_data = json.loads(response.text)\n",
    "    return {\n",
    "        'description': repo_data['description'],\n",
    "        'watchers': repo_data['watchers_count'],\n",
    "        'open_issues': repo_data['open_issues_count'],\n",
    "        'created_at': repo_data['created_at'],\n",
    "        'updated_at': repo_data['updated_at']\n",
    "    }"
   ]
  },
  {
   "cell_type": "code",
   "execution_count": 106,
   "id": "b47d4a1d",
   "metadata": {},
   "outputs": [
    {
     "name": "stdout",
     "output_type": "stream",
     "text": [
      "Fetching information for octocat/hello-world\n"
     ]
    },
    {
     "data": {
      "text/plain": [
       "{'description': 'My first repository on GitHub!',\n",
       " 'watchers': 1956,\n",
       " 'open_issues': 908,\n",
       " 'created_at': '2011-01-26T19:01:12Z',\n",
       " 'updated_at': '2022-08-02T15:38:24Z'}"
      ]
     },
     "execution_count": 106,
     "metadata": {},
     "output_type": "execute_result"
    }
   ],
   "source": [
    "get_repo_details('octocat', 'hello-world')"
   ]
  },
  {
   "cell_type": "code",
   "execution_count": 107,
   "id": "1cd587d4",
   "metadata": {},
   "outputs": [
    {
     "name": "stdout",
     "output_type": "stream",
     "text": [
      "Fetching information for tensorflow/tensorflow\n"
     ]
    },
    {
     "data": {
      "text/plain": [
       "{'description': 'An Open Source Machine Learning Framework for Everyone',\n",
       " 'watchers': 166836,\n",
       " 'open_issues': 2346,\n",
       " 'created_at': '2015-11-07T01:19:20Z',\n",
       " 'updated_at': '2022-08-03T17:48:53Z'}"
      ]
     },
     "execution_count": 107,
     "metadata": {},
     "output_type": "execute_result"
    }
   ],
   "source": [
    "get_repo_details('tensorflow', 'tensorflow')"
   ]
  },
  {
   "cell_type": "code",
   "execution_count": 108,
   "id": "31e1e618",
   "metadata": {},
   "outputs": [],
   "source": [
    "def add_repo_details(repos):\n",
    "    return [dict(**get_repo_details(repo['owner_username'], repo['repository_name']), **repo) for repo in repos]"
   ]
  },
  {
   "cell_type": "code",
   "execution_count": 109,
   "id": "aff38692",
   "metadata": {},
   "outputs": [
    {
     "name": "stdout",
     "output_type": "stream",
     "text": [
      "Fetching information for amoudgl/short-jokes-dataset\n",
      "Fetching information for justmarkham/trump-lies\n",
      "Fetching information for ling7334/Novel-crawler\n",
      "Fetching information for fpaupier/RapLyrics-Scraper\n",
      "Fetching information for SylvainDe/ComicBookMaker\n"
     ]
    },
    {
     "data": {
      "text/plain": [
       "[{'description': \"Python scripts for building 'Short Jokes' dataset, featured on Kaggle\",\n",
       "  'watchers': 230,\n",
       "  'open_issues': 5,\n",
       "  'created_at': '2017-02-06T21:41:33Z',\n",
       "  'updated_at': '2022-07-31T15:10:23Z',\n",
       "  'repository_name': 'short-jokes-dataset',\n",
       "  'owner_username': 'amoudgl',\n",
       "  'stars': 230,\n",
       "  'repository_url': 'https://github.com/amoudgl/short-jokes-dataset'},\n",
       " {'description': 'Tutorial: Web scraping in Python with Beautiful Soup',\n",
       "  'watchers': 222,\n",
       "  'open_issues': 0,\n",
       "  'created_at': '2017-07-27T19:22:13Z',\n",
       "  'updated_at': '2022-08-03T09:55:33Z',\n",
       "  'repository_name': 'trump-lies',\n",
       "  'owner_username': 'justmarkham',\n",
       "  'stars': 222,\n",
       "  'repository_url': 'https://github.com/justmarkham/trump-lies'},\n",
       " {'description': '这是一个用Python写的小说爬虫软件',\n",
       "  'watchers': 71,\n",
       "  'open_issues': 1,\n",
       "  'created_at': '2016-05-14T20:26:20Z',\n",
       "  'updated_at': '2022-06-06T01:27:46Z',\n",
       "  'repository_name': 'Novel-crawler',\n",
       "  'owner_username': 'ling7334',\n",
       "  'stars': 71,\n",
       "  'repository_url': 'https://github.com/ling7334/Novel-crawler'},\n",
       " {'description': 'Data sourcing and pre-processing for raplyrics.eu - A rap music lyrics generation project',\n",
       "  'watchers': 39,\n",
       "  'open_issues': 1,\n",
       "  'created_at': '2018-08-11T10:01:55Z',\n",
       "  'updated_at': '2022-07-27T15:07:49Z',\n",
       "  'repository_name': 'RapLyrics-Scraper',\n",
       "  'owner_username': 'fpaupier',\n",
       "  'stars': 39,\n",
       "  'repository_url': 'https://github.com/fpaupier/RapLyrics-Scraper'},\n",
       " {'description': 'Script to fetch webcomics and use them to create ebooks.',\n",
       "  'watchers': 31,\n",
       "  'open_issues': 8,\n",
       "  'created_at': '2014-08-02T11:02:47Z',\n",
       "  'updated_at': '2022-06-24T23:40:09Z',\n",
       "  'repository_name': 'ComicBookMaker',\n",
       "  'owner_username': 'SylvainDe',\n",
       "  'stars': 31,\n",
       "  'repository_url': 'https://github.com/SylvainDe/ComicBookMaker'}]"
      ]
     },
     "execution_count": 109,
     "metadata": {},
     "output_type": "execute_result"
    }
   ],
   "source": [
    "add_repo_details(top_repositories[:5])"
   ]
  },
  {
   "cell_type": "code",
   "execution_count": 110,
   "id": "bb9c1cbf",
   "metadata": {},
   "outputs": [
    {
     "name": "stdout",
     "output_type": "stream",
     "text": [
      "········\n"
     ]
    }
   ],
   "source": [
    "from getpass import getpass\n",
    "\n",
    "token = getpass()"
   ]
  },
  {
   "cell_type": "code",
   "execution_count": 111,
   "id": "a2ddbe80",
   "metadata": {},
   "outputs": [
    {
     "data": {
      "application/javascript": [
       "window.require && require([\"base/js/namespace\"],function(Jupyter){Jupyter.notebook.save_checkpoint()})"
      ],
      "text/plain": [
       "<IPython.core.display.Javascript object>"
      ]
     },
     "metadata": {},
     "output_type": "display_data"
    },
    {
     "name": "stdout",
     "output_type": "stream",
     "text": [
      "[jovian] Updating notebook \"karriyaswanthtejareddy/python-web-scraping-and-rest-api\" on https://jovian.ai/\u001b[0m\n",
      "[jovian] Committed successfully! https://jovian.ai/karriyaswanthtejareddy/python-web-scraping-and-rest-api\u001b[0m\n"
     ]
    },
    {
     "data": {
      "text/plain": [
       "'https://jovian.ai/karriyaswanthtejareddy/python-web-scraping-and-rest-api'"
      ]
     },
     "execution_count": 111,
     "metadata": {},
     "output_type": "execute_result"
    }
   ],
   "source": [
    "jovian.commit()"
   ]
  },
  {
   "cell_type": "code",
   "execution_count": 112,
   "id": "2e5a9ac5",
   "metadata": {},
   "outputs": [
    {
     "data": {
      "text/plain": [
       "<div class=\"position-relative js-header-wrapper\">\n",
       "<a class=\"px-2 py-4 color-bg-accent-emphasis color-fg-on-emphasis show-on-focus js-skip-to-content\" href=\"#start-of-content\">Skip to content</a>\n",
       "<span class=\"progress-pjax-loader js-pjax-loader-bar Progress position-fixed width-full\" data-view-component=\"true\">\n",
       "<span class=\"Progress-item progress-pjax-loader-bar left-0 top-0 color-bg-accent-emphasis\" data-view-component=\"true\" style=\"width: 0%;\"></span>\n",
       "</span>\n",
       "<script crossorigin=\"anonymous\" defer=\"defer\" integrity=\"sha512-XuPRbGVej1NDP7Zyq7fBPsxmaaAHjV+vW5vQwhRi+k0C0ADFEfw5IqgoS+Z/3XI3QXgacTAEdZZi7vjbKCR21w==\" src=\"https://github.githubassets.com/assets/vendors-node_modules_github_remote-form_dist_index_js-node_modules_delegated-events_dist_inde-94fd67-5ee3d16c655e.js\" type=\"application/javascript\"></script>\n",
       "<script crossorigin=\"anonymous\" defer=\"defer\" integrity=\"sha512-CejWN1w/QjbOG5EH1fhNyPkPpg4nInnprTALGEaox9Elu1bcW2zEoX+fELCZABRe4/cmv+6Tna/5OIpxsXd6+A==\" src=\"https://github.githubassets.com/assets/sessions-09e8d6375c3f.js\" type=\"application/javascript\"></script>\n",
       "<header class=\"Header-old header-logged-out js-details-container Details position-relative f4 py-2\" role=\"banner\">\n",
       "<div class=\"container-lg d-lg-flex flex-items-center p-responsive\">\n",
       "<div class=\"d-flex flex-justify-between flex-items-center\">\n",
       "<a aria-label=\"Homepage\" class=\"mr-4 color-fg-inherit\" data-ga-click=\"(Logged out) Header, go to homepage, icon:logo-wordmark\" href=\"https://github.com/\">\n",
       "<svg aria-hidden=\"true\" class=\"octicon octicon-mark-github\" data-view-component=\"true\" height=\"32\" version=\"1.1\" viewbox=\"0 0 16 16\" width=\"32\">\n",
       "<path d=\"M8 0C3.58 0 0 3.58 0 8c0 3.54 2.29 6.53 5.47 7.59.4.07.55-.17.55-.38 0-.19-.01-.82-.01-1.49-2.01.37-2.53-.49-2.69-.94-.09-.23-.48-.94-.82-1.13-.28-.15-.68-.52-.01-.53.63-.01 1.08.58 1.23.82.72 1.21 1.87.87 2.33.66.07-.52.28-.87.51-1.07-1.78-.2-3.64-.89-3.64-3.95 0-.87.31-1.59.82-2.15-.08-.2-.36-1.02.08-2.12 0 0 .67-.21 2.2.82.64-.18 1.32-.27 2-.27.68 0 1.36.09 2 .27 1.53-1.04 2.2-.82 2.2-.82.44 1.1.16 1.92.08 2.12.51.56.82 1.27.82 2.15 0 3.07-1.87 3.75-3.65 3.95.29.25.54.73.54 1.48 0 1.07-.01 1.93-.01 2.2 0 .21.15.46.55.38A8.013 8.013 0 0016 8c0-4.42-3.58-8-8-8z\" fill-rule=\"evenodd\"></path>\n",
       "</svg>\n",
       "</a>\n",
       "<div class=\"d-lg-none css-truncate css-truncate-target width-fit p-2\">\n",
       "</div>\n",
       "<div class=\"d-flex flex-items-center\">\n",
       "<a class=\"d-inline-block d-lg-none f5 no-underline border color-border-default rounded-2 px-2 py-1 mr-3 mr-sm-5 color-fg-inherit\" data-hydro-click='{\"event_type\":\"authentication.click\",\"payload\":{\"location_in_page\":\"site header\",\"repository_id\":null,\"auth_type\":\"SIGN_UP\",\"originating_url\":\"https://github.com/topics/beautiful-soup\",\"user_id\":null}}' data-hydro-click-hmac=\"21eb04f769060c5ccca2f811ca9f7b46c8fd88ffe043bf2bd47ba83e2c3f08f4\" href=\"/signup?ref_cta=Sign+up&amp;ref_loc=header+logged+out&amp;ref_page=%2Ftopics%2Fbeautiful-soup&amp;source=header\">\n",
       "              Sign up\n",
       "            </a>\n",
       "<button aria-expanded=\"false\" aria-label=\"Toggle navigation\" class=\"js-details-target btn-link d-lg-none mt-1 color-fg-inherit\" data-view-component=\"true\" type=\"button\"> <svg aria-hidden=\"true\" class=\"octicon octicon-three-bars\" data-view-component=\"true\" height=\"24\" version=\"1.1\" viewbox=\"0 0 16 16\" width=\"24\">\n",
       "<path d=\"M1 2.75A.75.75 0 011.75 2h12.5a.75.75 0 110 1.5H1.75A.75.75 0 011 2.75zm0 5A.75.75 0 011.75 7h12.5a.75.75 0 110 1.5H1.75A.75.75 0 011 7.75zM1.75 12a.75.75 0 100 1.5h12.5a.75.75 0 100-1.5H1.75z\" fill-rule=\"evenodd\"></path>\n",
       "</svg>\n",
       "</button> </div>\n",
       "</div>\n",
       "<div class=\"HeaderMenu HeaderMenu--logged-out position-fixed top-0 right-0 bottom-0 height-fit position-lg-relative d-lg-flex flex-justify-between flex-items-center flex-auto\">\n",
       "<div class=\"d-flex d-lg-none flex-justify-end border-bottom color-bg-subtle p-3\">\n",
       "<button aria-expanded=\"false\" aria-label=\"Toggle navigation\" class=\"js-details-target btn-link\" data-view-component=\"true\" type=\"button\"> <svg aria-hidden=\"true\" class=\"octicon octicon-x color-fg-muted\" data-view-component=\"true\" height=\"24\" version=\"1.1\" viewbox=\"0 0 24 24\" width=\"24\">\n",
       "<path d=\"M5.72 5.72a.75.75 0 011.06 0L12 10.94l5.22-5.22a.75.75 0 111.06 1.06L13.06 12l5.22 5.22a.75.75 0 11-1.06 1.06L12 13.06l-5.22 5.22a.75.75 0 01-1.06-1.06L10.94 12 5.72 6.78a.75.75 0 010-1.06z\" fill-rule=\"evenodd\"></path>\n",
       "</svg>\n",
       "</button> </div>\n",
       "<nav aria-label=\"Global\" class=\"mt-0 px-3 px-lg-0 mb-5 mb-lg-0\">\n",
       "<ul class=\"d-lg-flex list-style-none\">\n",
       "<li class=\"mr-0 mr-lg-3 position-relative flex-wrap flex-justify-between flex-items-center border-bottom border-lg-bottom-0 d-block d-lg-flex flex-lg-nowrap flex-lg-items-center\">\n",
       "<details class=\"HeaderMenu-details details-overlay details-reset width-full\">\n",
       "<summary class=\"HeaderMenu-summary HeaderMenu-link px-0 py-3 border-0 no-wrap d-block d-lg-inline-block\">\n",
       "        Product\n",
       "        <svg class=\"icon-chevon-down-mktg position-absolute position-lg-relative\" fill=\"none\" viewbox=\"0 0 14 8\" x=\"0\" xml:space=\"preserve\" y=\"0\"><path d=\"M1,1l6.2,6L13,1\"></path></svg>\n",
       "</summary>\n",
       "<div class=\"dropdown-menu flex-auto rounded px-0 mt-0 pb-4 p-lg-4 position-relative position-lg-absolute left-0 left-lg-n4\">\n",
       "<ul class=\"list-style-none f5 pb-1\">\n",
       "<li>\n",
       "<a class=\"lh-condensed-ultra d-block no-underline position-relative Link--primary text-bold py-2\" data-analytics-event='{\"category\":\"Header dropdown (logged out), Product\",\"action\":\"click to go to Features\",\"label\":\"ref_page:/topics/beautiful-soup;ref_cta:Features;\"}' href=\"/features\">\n",
       "      Features\n",
       "</a> </li>\n",
       "<li>\n",
       "<a class=\"lh-condensed-ultra d-block no-underline position-relative Link--secondary py-2\" data-analytics-event='{\"category\":\"Header dropdown (logged out), Product\",\"action\":\"click to go to Mobile\",\"label\":\"ref_page:/topics/beautiful-soup;ref_cta:Mobile;\"}' href=\"/mobile\">\n",
       "      Mobile\n",
       "</a> </li>\n",
       "<li>\n",
       "<a class=\"lh-condensed-ultra d-block no-underline position-relative Link--secondary py-2\" data-analytics-event='{\"category\":\"Header dropdown (logged out), Product\",\"action\":\"click to go to Actions\",\"label\":\"ref_page:/topics/beautiful-soup;ref_cta:Actions;\"}' href=\"/features/actions\">\n",
       "      Actions\n",
       "</a> </li>\n",
       "<li>\n",
       "<a class=\"lh-condensed-ultra d-block no-underline position-relative Link--secondary py-2\" data-analytics-event='{\"category\":\"Header dropdown (logged out), Product\",\"action\":\"click to go to Codespaces\",\"label\":\"ref_page:/topics/beautiful-soup;ref_cta:Codespaces;\"}' href=\"/features/codespaces\">\n",
       "      Codespaces\n",
       "</a> </li>\n",
       "<li>\n",
       "<a class=\"lh-condensed-ultra d-block no-underline position-relative Link--secondary py-2\" data-analytics-event='{\"category\":\"Header dropdown (logged out), Product\",\"action\":\"click to go to Copilot\",\"label\":\"ref_page:/topics/beautiful-soup;ref_cta:Copilot;\"}' href=\"/features/copilot\">\n",
       "      Copilot\n",
       "</a> </li>\n",
       "<li>\n",
       "<a class=\"lh-condensed-ultra d-block no-underline position-relative Link--secondary py-2\" data-analytics-event='{\"category\":\"Header dropdown (logged out), Product\",\"action\":\"click to go to Packages\",\"label\":\"ref_page:/topics/beautiful-soup;ref_cta:Packages;\"}' href=\"/features/packages\">\n",
       "      Packages\n",
       "</a> </li>\n",
       "<li>\n",
       "<a class=\"lh-condensed-ultra d-block no-underline position-relative Link--secondary py-2\" data-analytics-event='{\"category\":\"Header dropdown (logged out), Product\",\"action\":\"click to go to Security\",\"label\":\"ref_page:/topics/beautiful-soup;ref_cta:Security;\"}' href=\"/features/security\">\n",
       "      Security\n",
       "</a> </li>\n",
       "<li>\n",
       "<a class=\"lh-condensed-ultra d-block no-underline position-relative Link--secondary py-2\" data-analytics-event='{\"category\":\"Header dropdown (logged out), Product\",\"action\":\"click to go to Code review\",\"label\":\"ref_page:/topics/beautiful-soup;ref_cta:Code review;\"}' href=\"/features/code-review\">\n",
       "      Code review\n",
       "</a> </li>\n",
       "<li>\n",
       "<a class=\"lh-condensed-ultra d-block no-underline position-relative Link--secondary py-2\" data-analytics-event='{\"category\":\"Header dropdown (logged out), Product\",\"action\":\"click to go to Issues\",\"label\":\"ref_page:/topics/beautiful-soup;ref_cta:Issues;\"}' href=\"/features/issues\">\n",
       "      Issues\n",
       "</a> </li>\n",
       "<li>\n",
       "<a class=\"lh-condensed-ultra d-block no-underline position-relative Link--secondary py-2\" data-analytics-event='{\"category\":\"Header dropdown (logged out), Product\",\"action\":\"click to go to Discussions\",\"label\":\"ref_page:/topics/beautiful-soup;ref_cta:Discussions;\"}' href=\"/features/discussions\">\n",
       "      Discussions\n",
       "</a> </li>\n",
       "<li>\n",
       "<a class=\"lh-condensed-ultra d-block no-underline position-relative Link--secondary py-2\" data-analytics-event='{\"category\":\"Header dropdown (logged out), Product\",\"action\":\"click to go to Integrations\",\"label\":\"ref_page:/topics/beautiful-soup;ref_cta:Integrations;\"}' href=\"/features/integrations\">\n",
       "      Integrations\n",
       "</a> </li>\n",
       "<li>\n",
       "<a class=\"lh-condensed-ultra d-block no-underline position-relative Link--primary text-bold border-top pt-4 pb-2 mt-3\" data-analytics-event='{\"category\":\"Header dropdown (logged out), Product\",\"action\":\"click to go to GitHub Sponsors\",\"label\":\"ref_page:/topics/beautiful-soup;ref_cta:GitHub Sponsors;\"}' href=\"/sponsors\">\n",
       "      GitHub Sponsors\n",
       "</a> </li>\n",
       "<li>\n",
       "<a class=\"lh-condensed-ultra d-block no-underline position-relative Link--primary text-bold py-2\" data-analytics-event='{\"category\":\"Header dropdown (logged out), Product\",\"action\":\"click to go to Customer stories\",\"label\":\"ref_page:/topics/beautiful-soup;ref_cta:Customer stories;\"}' href=\"/customer-stories\">\n",
       "      Customer stories\n",
       "</a> </li>\n",
       "</ul>\n",
       "</div>\n",
       "</details>\n",
       "</li>\n",
       "<li class=\"mr-0 mr-lg-3 position-relative flex-wrap flex-justify-between flex-items-center border-bottom border-lg-bottom-0 d-block d-lg-flex flex-lg-nowrap flex-lg-items-center\">\n",
       "<a class=\"HeaderMenu-link no-underline py-3 d-block d-lg-inline-block\" data-analytics-event='{\"category\":\"Header menu top item (logged out)\",\"action\":\"click to go to Team\",\"label\":\"ref_page:/topics/beautiful-soup;ref_cta:Team;\"}' href=\"/team\">Team</a>\n",
       "</li>\n",
       "<li class=\"mr-0 mr-lg-3 position-relative flex-wrap flex-justify-between flex-items-center border-bottom border-lg-bottom-0 d-block d-lg-flex flex-lg-nowrap flex-lg-items-center\">\n",
       "<a class=\"HeaderMenu-link no-underline py-3 d-block d-lg-inline-block\" data-analytics-event='{\"category\":\"Header menu top item (logged out)\",\"action\":\"click to go to Enterprise\",\"label\":\"ref_page:/topics/beautiful-soup;ref_cta:Enterprise;\"}' href=\"/enterprise\">Enterprise</a>\n",
       "</li>\n",
       "<li class=\"mr-0 mr-lg-3 position-relative flex-wrap flex-justify-between flex-items-center border-bottom border-lg-bottom-0 d-block d-lg-flex flex-lg-nowrap flex-lg-items-center\">\n",
       "<details class=\"HeaderMenu-details details-overlay details-reset width-full\">\n",
       "<summary class=\"HeaderMenu-summary HeaderMenu-link px-0 py-3 border-0 no-wrap d-block d-lg-inline-block\">\n",
       "        Explore\n",
       "        <svg class=\"icon-chevon-down-mktg position-absolute position-lg-relative\" fill=\"none\" viewbox=\"0 0 14 8\" x=\"0\" xml:space=\"preserve\" y=\"0\"><path d=\"M1,1l6.2,6L13,1\"></path></svg>\n",
       "</summary>\n",
       "<div class=\"dropdown-menu flex-auto rounded px-0 mt-0 pb-4 p-lg-4 position-relative position-lg-absolute left-0 left-lg-n4\">\n",
       "<ul class=\"list-style-none f5 pb-1\">\n",
       "<li>\n",
       "<a class=\"lh-condensed-ultra d-block no-underline position-relative Link--primary text-bold py-2\" data-analytics-event='{\"category\":\"Header dropdown (logged out), Explore\",\"action\":\"click to go to Explore GitHub\",\"label\":\"ref_page:/topics/beautiful-soup;ref_cta:Explore GitHub;\"}' href=\"/explore\">\n",
       "      Explore GitHub\n",
       "</a> </li>\n",
       "<li class=\"color-fg-muted text-normal f6 text-mono mb-1 border-top pt-3 mt-3 mb-1\">Learn and contribute</li>\n",
       "<li>\n",
       "<a class=\"lh-condensed-ultra d-block no-underline position-relative Link--secondary py-2\" data-analytics-event='{\"category\":\"Header dropdown (logged out), Explore\",\"action\":\"click to go to Topics\",\"label\":\"ref_page:/topics/beautiful-soup;ref_cta:Topics;\"}' href=\"/topics\">\n",
       "      Topics\n",
       "</a> </li>\n",
       "<li>\n",
       "<a class=\"lh-condensed-ultra d-block no-underline position-relative Link--secondary py-2\" data-analytics-event='{\"category\":\"Header dropdown (logged out), Explore\",\"action\":\"click to go to Collections\",\"label\":\"ref_page:/topics/beautiful-soup;ref_cta:Collections;\"}' href=\"/collections\">\n",
       "      Collections\n",
       "</a> </li>\n",
       "<li>\n",
       "<a class=\"lh-condensed-ultra d-block no-underline position-relative Link--secondary py-2\" data-analytics-event='{\"category\":\"Header dropdown (logged out), Explore\",\"action\":\"click to go to Trending\",\"label\":\"ref_page:/topics/beautiful-soup;ref_cta:Trending;\"}' href=\"/trending\">\n",
       "      Trending\n",
       "</a> </li>\n",
       "<li>\n",
       "<a class=\"lh-condensed-ultra d-block no-underline position-relative Link--secondary py-2\" data-analytics-event='{\"category\":\"Header dropdown (logged out), Explore\",\"action\":\"click to go to Skills\",\"label\":\"ref_page:/topics/beautiful-soup;ref_cta:Skills;\"}' href=\"https://skills.github.com/\">\n",
       "      Skills\n",
       "</a> </li>\n",
       "<li>\n",
       "<a class=\"lh-condensed-ultra d-block no-underline position-relative Link--secondary py-2\" data-analytics-event='{\"category\":\"Header dropdown (logged out), Explore\",\"action\":\"click to go to GitHub Sponsors\",\"label\":\"ref_page:/topics/beautiful-soup;ref_cta:GitHub Sponsors;\"}' href=\"/sponsors/explore\">\n",
       "      GitHub Sponsors\n",
       "</a> </li>\n",
       "<li>\n",
       "<a class=\"lh-condensed-ultra d-block no-underline position-relative Link--secondary py-2\" data-analytics-event='{\"category\":\"Header dropdown (logged out), Explore\",\"action\":\"click to go to Open source guides\",\"label\":\"ref_page:/topics/beautiful-soup;ref_cta:Open source guides;\"}' href=\"https://opensource.guide\">\n",
       "      Open source guides\n",
       "</a> </li>\n",
       "<li class=\"color-fg-muted text-normal f6 text-mono mb-1 border-top pt-3 mt-3 mb-1\">Connect with others</li>\n",
       "<li>\n",
       "<a class=\"lh-condensed-ultra d-block no-underline position-relative Link--secondary py-2\" data-analytics-event='{\"category\":\"Header dropdown (logged out), Explore\",\"action\":\"click to go to The ReadME Project\",\"label\":\"ref_page:/topics/beautiful-soup;ref_cta:The ReadME Project;\"}' href=\"/readme\">\n",
       "      The ReadME Project\n",
       "</a> </li>\n",
       "<li>\n",
       "<a class=\"lh-condensed-ultra d-block no-underline position-relative Link--secondary py-2\" data-analytics-event='{\"category\":\"Header dropdown (logged out), Explore\",\"action\":\"click to go to Events\",\"label\":\"ref_page:/topics/beautiful-soup;ref_cta:Events;\"}' href=\"/events\">\n",
       "      Events\n",
       "</a> </li>\n",
       "<li>\n",
       "<a class=\"lh-condensed-ultra d-block no-underline position-relative Link--secondary py-2\" data-analytics-event='{\"category\":\"Header dropdown (logged out), Explore\",\"action\":\"click to go to Community forum\",\"label\":\"ref_page:/topics/beautiful-soup;ref_cta:Community forum;\"}' href=\"https://github.community\">\n",
       "      Community forum\n",
       "</a> </li>\n",
       "<li>\n",
       "<a class=\"lh-condensed-ultra d-block no-underline position-relative Link--secondary py-2\" data-analytics-event='{\"category\":\"Header dropdown (logged out), Explore\",\"action\":\"click to go to GitHub Education\",\"label\":\"ref_page:/topics/beautiful-soup;ref_cta:GitHub Education;\"}' href=\"https://education.github.com\">\n",
       "      GitHub Education\n",
       "</a> </li>\n",
       "<li>\n",
       "<a class=\"lh-condensed-ultra d-block no-underline position-relative Link--secondary py-2\" data-analytics-event='{\"category\":\"Header dropdown (logged out), Explore\",\"action\":\"click to go to GitHub Stars program\",\"label\":\"ref_page:/topics/beautiful-soup;ref_cta:GitHub Stars program;\"}' href=\"https://stars.github.com\">\n",
       "      GitHub Stars program\n",
       "</a> </li>\n",
       "</ul>\n",
       "</div>\n",
       "</details>\n",
       "</li>\n",
       "<li class=\"mr-0 mr-lg-3 position-relative flex-wrap flex-justify-between flex-items-center border-bottom border-lg-bottom-0 d-block d-lg-flex flex-lg-nowrap flex-lg-items-center\">\n",
       "<a class=\"HeaderMenu-link no-underline py-3 d-block d-lg-inline-block\" data-analytics-event='{\"category\":\"Header menu top item (logged out)\",\"action\":\"click to go to Marketplace\",\"label\":\"ref_page:/topics/beautiful-soup;ref_cta:Marketplace;\"}' href=\"/marketplace\">Marketplace</a>\n",
       "</li>\n",
       "<li class=\"mr-0 mr-lg-3 position-relative flex-wrap flex-justify-between flex-items-center border-bottom border-lg-bottom-0 d-block d-lg-flex flex-lg-nowrap flex-lg-items-center\">\n",
       "<details class=\"HeaderMenu-details details-overlay details-reset width-full\">\n",
       "<summary class=\"HeaderMenu-summary HeaderMenu-link px-0 py-3 border-0 no-wrap d-block d-lg-inline-block\">\n",
       "        Pricing\n",
       "        <svg class=\"icon-chevon-down-mktg position-absolute position-lg-relative\" fill=\"none\" viewbox=\"0 0 14 8\" x=\"0\" xml:space=\"preserve\" y=\"0\"><path d=\"M1,1l6.2,6L13,1\"></path></svg>\n",
       "</summary>\n",
       "<div class=\"dropdown-menu flex-auto rounded px-0 mt-0 pb-4 p-lg-4 position-relative position-lg-absolute left-0 left-lg-n4\">\n",
       "<ul class=\"list-style-none f5 pb-1\">\n",
       "<li>\n",
       "<a class=\"lh-condensed-ultra d-block no-underline position-relative Link--primary text-bold py-2\" data-analytics-event='{\"category\":\"Header dropdown (logged out), Pricing\",\"action\":\"click to go to Plans\",\"label\":\"ref_page:/topics/beautiful-soup;ref_cta:Plans;\"}' href=\"/pricing\">\n",
       "      Plans\n",
       "</a> </li>\n",
       "<li>\n",
       "<a class=\"lh-condensed-ultra d-block no-underline position-relative Link--secondary py-2\" data-analytics-event='{\"category\":\"Header dropdown (logged out), Pricing\",\"action\":\"click to go to Compare plans\",\"label\":\"ref_page:/topics/beautiful-soup;ref_cta:Compare plans;\"}' href=\"/pricing#compare-features\">\n",
       "      Compare plans\n",
       "</a> </li>\n",
       "<li>\n",
       "<a class=\"lh-condensed-ultra d-block no-underline position-relative Link--secondary py-2\" data-analytics-event='{\"category\":\"Header dropdown (logged out), Pricing\",\"action\":\"click to go to Contact Sales\",\"label\":\"ref_page:/topics/beautiful-soup;ref_cta:Contact Sales;\"}' href=\"https://github.com/enterprise/contact\">\n",
       "      Contact Sales\n",
       "</a> </li>\n",
       "<li>\n",
       "<a class=\"lh-condensed-ultra d-block no-underline position-relative Link--primary text-bold border-top pt-4 pb-2 mt-3\" data-analytics-event='{\"category\":\"Header dropdown (logged out), Pricing\",\"action\":\"click to go to Education\",\"label\":\"ref_page:/topics/beautiful-soup;ref_cta:Education;\"}' href=\"https://education.github.com\">\n",
       "      Education\n",
       "</a> </li>\n",
       "</ul>\n",
       "</div>\n",
       "</details>\n",
       "</li>\n",
       "</ul>\n",
       "</nav>\n",
       "<div class=\"d-lg-flex flex-items-center px-3 px-lg-0 text-center text-lg-left\">\n",
       "<div class=\"d-lg-flex min-width-0 mb-3 mb-lg-0\">\n",
       "<div class=\"header-search flex-auto js-site-search position-relative flex-self-stretch flex-md-self-auto mb-3 mb-md-0 mr-0 mr-md-3 scoped-search site-scoped-search js-jump-to\">\n",
       "<div class=\"position-relative\">\n",
       "<!-- '\"` --><!-- </textarea></xmp> --><form accept-charset=\"UTF-8\" action=\"/topics/beautiful-soup\" aria-label=\"Site\" class=\"js-site-search-form\" data-scope-id=\"22377\" data-scope-type=\"Topic\" data-scoped-search-url=\"/topics/beautiful-soup\" data-turbo=\"false\" data-unscoped-search-url=\"/search\" method=\"get\" role=\"search\">\n",
       "<label class=\"form-control input-sm header-search-wrapper p-0 js-chromeless-input-container header-search-wrapper-jump-to position-relative d-flex flex-justify-between flex-items-center\">\n",
       "<input aria-autocomplete=\"list\" aria-controls=\"jump-to-results\" aria-expanded=\"false\" aria-haspopup=\"listbox\" aria-label=\"Search\" autocapitalize=\"off\" autocomplete=\"off\" class=\"form-control input-sm header-search-input jump-to-field js-jump-to-field js-site-search-focus js-site-search-field is-clearable\" data-hotkey=\"s,/\" data-jump-to-suggestions-path=\"/_graphql/GetSuggestedNavigationDestinations\" data-scoped-placeholder=\"Search\" data-test-selector=\"nav-search-input\" data-unscoped-placeholder=\"Search GitHub\" name=\"q\" placeholder=\"Search\" role=\"combobox\" spellcheck=\"false\" type=\"text\" value=\"\"/>\n",
       "<input class=\"js-data-jump-to-suggestions-path-csrf\" data-csrf=\"true\" type=\"hidden\" value=\"AGIF+wDjNNI5Jzhz+F7WIKy79CzNu/WU6ITHMBIpJxF2HzRfNX5nSqLcOIdNlsB66O3jnP0SICHHJzKkNfnjlw==\">\n",
       "<input class=\"js-site-search-type-field\" name=\"type\" type=\"hidden\"/>\n",
       "<svg aria-hidden=\"true\" class=\"mr-1 header-search-key-slash\" height=\"20\" width=\"22\" xmlns=\"http://www.w3.org/2000/svg\"><path d=\"M3.5.5h12c1.7 0 3 1.3 3 3v13c0 1.7-1.3 3-3 3h-12c-1.7 0-3-1.3-3-3v-13c0-1.7 1.3-3 3-3z\" fill=\"none\" opacity=\".4\" stroke=\"#979A9C\"></path><path d=\"M11.8 6L8 15.1h-.9L10.8 6h1z\" fill=\"#979A9C\"></path></svg>\n",
       "<div class=\"Box position-absolute overflow-hidden d-none jump-to-suggestions js-jump-to-suggestions-container\">\n",
       "<ul class=\"d-none js-jump-to-suggestions-template-container\">\n",
       "<li class=\"d-flex flex-justify-start flex-items-center p-0 f5 navigation-item js-navigation-item js-jump-to-suggestion\" role=\"option\">\n",
       "<a class=\"no-underline d-flex flex-auto flex-items-center jump-to-suggestions-path js-jump-to-suggestion-path js-navigation-open p-2\" data-item-type=\"suggestion\" href=\"\" tabindex=\"-1\">\n",
       "<div class=\"jump-to-octicon js-jump-to-octicon flex-shrink-0 mr-2 text-center d-none\">\n",
       "<svg aria-label=\"Repository\" class=\"octicon octicon-repo js-jump-to-octicon-repo d-none flex-shrink-0\" data-view-component=\"true\" height=\"16\" role=\"img\" title=\"Repository\" version=\"1.1\" viewbox=\"0 0 16 16\" width=\"16\">\n",
       "<path d=\"M2 2.5A2.5 2.5 0 014.5 0h8.75a.75.75 0 01.75.75v12.5a.75.75 0 01-.75.75h-2.5a.75.75 0 110-1.5h1.75v-2h-8a1 1 0 00-.714 1.7.75.75 0 01-1.072 1.05A2.495 2.495 0 012 11.5v-9zm10.5-1V9h-8c-.356 0-.694.074-1 .208V2.5a1 1 0 011-1h8zM5 12.25v3.25a.25.25 0 00.4.2l1.45-1.087a.25.25 0 01.3 0L8.6 15.7a.25.25 0 00.4-.2v-3.25a.25.25 0 00-.25-.25h-3.5a.25.25 0 00-.25.25z\" fill-rule=\"evenodd\"></path>\n",
       "</svg>\n",
       "<svg aria-label=\"Project\" class=\"octicon octicon-project js-jump-to-octicon-project d-none flex-shrink-0\" data-view-component=\"true\" height=\"16\" role=\"img\" title=\"Project\" version=\"1.1\" viewbox=\"0 0 16 16\" width=\"16\">\n",
       "<path d=\"M1.75 0A1.75 1.75 0 000 1.75v12.5C0 15.216.784 16 1.75 16h12.5A1.75 1.75 0 0016 14.25V1.75A1.75 1.75 0 0014.25 0H1.75zM1.5 1.75a.25.25 0 01.25-.25h12.5a.25.25 0 01.25.25v12.5a.25.25 0 01-.25.25H1.75a.25.25 0 01-.25-.25V1.75zM11.75 3a.75.75 0 00-.75.75v7.5a.75.75 0 001.5 0v-7.5a.75.75 0 00-.75-.75zm-8.25.75a.75.75 0 011.5 0v5.5a.75.75 0 01-1.5 0v-5.5zM8 3a.75.75 0 00-.75.75v3.5a.75.75 0 001.5 0v-3.5A.75.75 0 008 3z\" fill-rule=\"evenodd\"></path>\n",
       "</svg>\n",
       "<svg aria-label=\"Search\" class=\"octicon octicon-search js-jump-to-octicon-search d-none flex-shrink-0\" data-view-component=\"true\" height=\"16\" role=\"img\" title=\"Search\" version=\"1.1\" viewbox=\"0 0 16 16\" width=\"16\">\n",
       "<path d=\"M11.5 7a4.499 4.499 0 11-8.998 0A4.499 4.499 0 0111.5 7zm-.82 4.74a6 6 0 111.06-1.06l3.04 3.04a.75.75 0 11-1.06 1.06l-3.04-3.04z\" fill-rule=\"evenodd\"></path>\n",
       "</svg>\n",
       "</div>\n",
       "<img alt=\"\" aria-label=\"Team\" class=\"avatar mr-2 flex-shrink-0 js-jump-to-suggestion-avatar d-none\" height=\"28\" src=\"\" width=\"28\"/>\n",
       "<div class=\"jump-to-suggestion-name js-jump-to-suggestion-name flex-auto overflow-hidden text-left no-wrap css-truncate css-truncate-target\">\n",
       "</div>\n",
       "<div class=\"border rounded-2 flex-shrink-0 color-bg-subtle px-1 color-fg-muted ml-1 f6 d-none js-jump-to-badge-search\">\n",
       "<span aria-label=\"in this topic\" class=\"js-jump-to-badge-search-text-default d-none\">\n",
       "        In this topic\n",
       "      </span>\n",
       "<span aria-label=\"in all of GitHub\" class=\"js-jump-to-badge-search-text-global d-none\">\n",
       "        All GitHub\n",
       "      </span>\n",
       "<span aria-hidden=\"true\" class=\"d-inline-block ml-1 v-align-middle\">↵</span>\n",
       "</div>\n",
       "<div aria-hidden=\"true\" class=\"border rounded-2 flex-shrink-0 color-bg-subtle px-1 color-fg-muted ml-1 f6 d-none d-on-nav-focus js-jump-to-badge-jump\">\n",
       "      Jump to\n",
       "      <span class=\"d-inline-block ml-1 v-align-middle\">↵</span>\n",
       "</div>\n",
       "</a>\n",
       "</li>\n",
       "</ul>\n",
       "<ul class=\"d-none js-jump-to-no-results-template-container\">\n",
       "<li class=\"d-flex flex-justify-center flex-items-center f5 d-none js-jump-to-suggestion p-2\">\n",
       "<span class=\"color-fg-muted\">No suggested jump to results</span>\n",
       "</li>\n",
       "</ul>\n",
       "<ul class=\"p-0 m-0 js-navigation-container jump-to-suggestions-results-container js-jump-to-suggestions-results-container\" id=\"jump-to-results\" role=\"listbox\">\n",
       "<li class=\"d-flex flex-justify-start flex-items-center p-0 f5 navigation-item js-navigation-item js-jump-to-scoped-search d-none\" role=\"option\">\n",
       "<a class=\"no-underline d-flex flex-auto flex-items-center jump-to-suggestions-path js-jump-to-suggestion-path js-navigation-open p-2\" data-item-type=\"scoped_search\" href=\"\" tabindex=\"-1\">\n",
       "<div class=\"jump-to-octicon js-jump-to-octicon flex-shrink-0 mr-2 text-center d-none\">\n",
       "<svg aria-label=\"Repository\" class=\"octicon octicon-repo js-jump-to-octicon-repo d-none flex-shrink-0\" data-view-component=\"true\" height=\"16\" role=\"img\" title=\"Repository\" version=\"1.1\" viewbox=\"0 0 16 16\" width=\"16\">\n",
       "<path d=\"M2 2.5A2.5 2.5 0 014.5 0h8.75a.75.75 0 01.75.75v12.5a.75.75 0 01-.75.75h-2.5a.75.75 0 110-1.5h1.75v-2h-8a1 1 0 00-.714 1.7.75.75 0 01-1.072 1.05A2.495 2.495 0 012 11.5v-9zm10.5-1V9h-8c-.356 0-.694.074-1 .208V2.5a1 1 0 011-1h8zM5 12.25v3.25a.25.25 0 00.4.2l1.45-1.087a.25.25 0 01.3 0L8.6 15.7a.25.25 0 00.4-.2v-3.25a.25.25 0 00-.25-.25h-3.5a.25.25 0 00-.25.25z\" fill-rule=\"evenodd\"></path>\n",
       "</svg>\n",
       "<svg aria-label=\"Project\" class=\"octicon octicon-project js-jump-to-octicon-project d-none flex-shrink-0\" data-view-component=\"true\" height=\"16\" role=\"img\" title=\"Project\" version=\"1.1\" viewbox=\"0 0 16 16\" width=\"16\">\n",
       "<path d=\"M1.75 0A1.75 1.75 0 000 1.75v12.5C0 15.216.784 16 1.75 16h12.5A1.75 1.75 0 0016 14.25V1.75A1.75 1.75 0 0014.25 0H1.75zM1.5 1.75a.25.25 0 01.25-.25h12.5a.25.25 0 01.25.25v12.5a.25.25 0 01-.25.25H1.75a.25.25 0 01-.25-.25V1.75zM11.75 3a.75.75 0 00-.75.75v7.5a.75.75 0 001.5 0v-7.5a.75.75 0 00-.75-.75zm-8.25.75a.75.75 0 011.5 0v5.5a.75.75 0 01-1.5 0v-5.5zM8 3a.75.75 0 00-.75.75v3.5a.75.75 0 001.5 0v-3.5A.75.75 0 008 3z\" fill-rule=\"evenodd\"></path>\n",
       "</svg>\n",
       "<svg aria-label=\"Search\" class=\"octicon octicon-search js-jump-to-octicon-search d-none flex-shrink-0\" data-view-component=\"true\" height=\"16\" role=\"img\" title=\"Search\" version=\"1.1\" viewbox=\"0 0 16 16\" width=\"16\">\n",
       "<path d=\"M11.5 7a4.499 4.499 0 11-8.998 0A4.499 4.499 0 0111.5 7zm-.82 4.74a6 6 0 111.06-1.06l3.04 3.04a.75.75 0 11-1.06 1.06l-3.04-3.04z\" fill-rule=\"evenodd\"></path>\n",
       "</svg>\n",
       "</div>\n",
       "<img alt=\"\" aria-label=\"Team\" class=\"avatar mr-2 flex-shrink-0 js-jump-to-suggestion-avatar d-none\" height=\"28\" src=\"\" width=\"28\"/>\n",
       "<div class=\"jump-to-suggestion-name js-jump-to-suggestion-name flex-auto overflow-hidden text-left no-wrap css-truncate css-truncate-target\">\n",
       "</div>\n",
       "<div class=\"border rounded-2 flex-shrink-0 color-bg-subtle px-1 color-fg-muted ml-1 f6 d-none js-jump-to-badge-search\">\n",
       "<span aria-label=\"in this topic\" class=\"js-jump-to-badge-search-text-default d-none\">\n",
       "        In this topic\n",
       "      </span>\n",
       "<span aria-label=\"in all of GitHub\" class=\"js-jump-to-badge-search-text-global d-none\">\n",
       "        All GitHub\n",
       "      </span>\n",
       "<span aria-hidden=\"true\" class=\"d-inline-block ml-1 v-align-middle\">↵</span>\n",
       "</div>\n",
       "<div aria-hidden=\"true\" class=\"border rounded-2 flex-shrink-0 color-bg-subtle px-1 color-fg-muted ml-1 f6 d-none d-on-nav-focus js-jump-to-badge-jump\">\n",
       "      Jump to\n",
       "      <span class=\"d-inline-block ml-1 v-align-middle\">↵</span>\n",
       "</div>\n",
       "</a>\n",
       "</li>\n",
       "<li class=\"d-flex flex-justify-start flex-items-center p-0 f5 navigation-item js-navigation-item js-jump-to-owner-scoped-search d-none\" role=\"option\">\n",
       "<a class=\"no-underline d-flex flex-auto flex-items-center jump-to-suggestions-path js-jump-to-suggestion-path js-navigation-open p-2\" data-item-type=\"owner_scoped_search\" href=\"\" tabindex=\"-1\">\n",
       "<div class=\"jump-to-octicon js-jump-to-octicon flex-shrink-0 mr-2 text-center d-none\">\n",
       "<svg aria-label=\"Repository\" class=\"octicon octicon-repo js-jump-to-octicon-repo d-none flex-shrink-0\" data-view-component=\"true\" height=\"16\" role=\"img\" title=\"Repository\" version=\"1.1\" viewbox=\"0 0 16 16\" width=\"16\">\n",
       "<path d=\"M2 2.5A2.5 2.5 0 014.5 0h8.75a.75.75 0 01.75.75v12.5a.75.75 0 01-.75.75h-2.5a.75.75 0 110-1.5h1.75v-2h-8a1 1 0 00-.714 1.7.75.75 0 01-1.072 1.05A2.495 2.495 0 012 11.5v-9zm10.5-1V9h-8c-.356 0-.694.074-1 .208V2.5a1 1 0 011-1h8zM5 12.25v3.25a.25.25 0 00.4.2l1.45-1.087a.25.25 0 01.3 0L8.6 15.7a.25.25 0 00.4-.2v-3.25a.25.25 0 00-.25-.25h-3.5a.25.25 0 00-.25.25z\" fill-rule=\"evenodd\"></path>\n",
       "</svg>\n",
       "<svg aria-label=\"Project\" class=\"octicon octicon-project js-jump-to-octicon-project d-none flex-shrink-0\" data-view-component=\"true\" height=\"16\" role=\"img\" title=\"Project\" version=\"1.1\" viewbox=\"0 0 16 16\" width=\"16\">\n",
       "<path d=\"M1.75 0A1.75 1.75 0 000 1.75v12.5C0 15.216.784 16 1.75 16h12.5A1.75 1.75 0 0016 14.25V1.75A1.75 1.75 0 0014.25 0H1.75zM1.5 1.75a.25.25 0 01.25-.25h12.5a.25.25 0 01.25.25v12.5a.25.25 0 01-.25.25H1.75a.25.25 0 01-.25-.25V1.75zM11.75 3a.75.75 0 00-.75.75v7.5a.75.75 0 001.5 0v-7.5a.75.75 0 00-.75-.75zm-8.25.75a.75.75 0 011.5 0v5.5a.75.75 0 01-1.5 0v-5.5zM8 3a.75.75 0 00-.75.75v3.5a.75.75 0 001.5 0v-3.5A.75.75 0 008 3z\" fill-rule=\"evenodd\"></path>\n",
       "</svg>\n",
       "<svg aria-label=\"Search\" class=\"octicon octicon-search js-jump-to-octicon-search d-none flex-shrink-0\" data-view-component=\"true\" height=\"16\" role=\"img\" title=\"Search\" version=\"1.1\" viewbox=\"0 0 16 16\" width=\"16\">\n",
       "<path d=\"M11.5 7a4.499 4.499 0 11-8.998 0A4.499 4.499 0 0111.5 7zm-.82 4.74a6 6 0 111.06-1.06l3.04 3.04a.75.75 0 11-1.06 1.06l-3.04-3.04z\" fill-rule=\"evenodd\"></path>\n",
       "</svg>\n",
       "</div>\n",
       "<img alt=\"\" aria-label=\"Team\" class=\"avatar mr-2 flex-shrink-0 js-jump-to-suggestion-avatar d-none\" height=\"28\" src=\"\" width=\"28\"/>\n",
       "<div class=\"jump-to-suggestion-name js-jump-to-suggestion-name flex-auto overflow-hidden text-left no-wrap css-truncate css-truncate-target\">\n",
       "</div>\n",
       "<div class=\"border rounded-2 flex-shrink-0 color-bg-subtle px-1 color-fg-muted ml-1 f6 d-none js-jump-to-badge-search\">\n",
       "<span aria-label=\"in all of GitHub\" class=\"js-jump-to-badge-search-text-default d-none\">\n",
       "        Search\n",
       "      </span>\n",
       "<span aria-label=\"in all of GitHub\" class=\"js-jump-to-badge-search-text-global d-none\">\n",
       "        All GitHub\n",
       "      </span>\n",
       "<span aria-hidden=\"true\" class=\"d-inline-block ml-1 v-align-middle\">↵</span>\n",
       "</div>\n",
       "<div aria-hidden=\"true\" class=\"border rounded-2 flex-shrink-0 color-bg-subtle px-1 color-fg-muted ml-1 f6 d-none d-on-nav-focus js-jump-to-badge-jump\">\n",
       "      Jump to\n",
       "      <span class=\"d-inline-block ml-1 v-align-middle\">↵</span>\n",
       "</div>\n",
       "</a>\n",
       "</li>\n",
       "<li class=\"d-flex flex-justify-start flex-items-center p-0 f5 navigation-item js-navigation-item js-jump-to-global-search d-none\" role=\"option\">\n",
       "<a class=\"no-underline d-flex flex-auto flex-items-center jump-to-suggestions-path js-jump-to-suggestion-path js-navigation-open p-2\" data-item-type=\"global_search\" href=\"\" tabindex=\"-1\">\n",
       "<div class=\"jump-to-octicon js-jump-to-octicon flex-shrink-0 mr-2 text-center d-none\">\n",
       "<svg aria-label=\"Repository\" class=\"octicon octicon-repo js-jump-to-octicon-repo d-none flex-shrink-0\" data-view-component=\"true\" height=\"16\" role=\"img\" title=\"Repository\" version=\"1.1\" viewbox=\"0 0 16 16\" width=\"16\">\n",
       "<path d=\"M2 2.5A2.5 2.5 0 014.5 0h8.75a.75.75 0 01.75.75v12.5a.75.75 0 01-.75.75h-2.5a.75.75 0 110-1.5h1.75v-2h-8a1 1 0 00-.714 1.7.75.75 0 01-1.072 1.05A2.495 2.495 0 012 11.5v-9zm10.5-1V9h-8c-.356 0-.694.074-1 .208V2.5a1 1 0 011-1h8zM5 12.25v3.25a.25.25 0 00.4.2l1.45-1.087a.25.25 0 01.3 0L8.6 15.7a.25.25 0 00.4-.2v-3.25a.25.25 0 00-.25-.25h-3.5a.25.25 0 00-.25.25z\" fill-rule=\"evenodd\"></path>\n",
       "</svg>\n",
       "<svg aria-label=\"Project\" class=\"octicon octicon-project js-jump-to-octicon-project d-none flex-shrink-0\" data-view-component=\"true\" height=\"16\" role=\"img\" title=\"Project\" version=\"1.1\" viewbox=\"0 0 16 16\" width=\"16\">\n",
       "<path d=\"M1.75 0A1.75 1.75 0 000 1.75v12.5C0 15.216.784 16 1.75 16h12.5A1.75 1.75 0 0016 14.25V1.75A1.75 1.75 0 0014.25 0H1.75zM1.5 1.75a.25.25 0 01.25-.25h12.5a.25.25 0 01.25.25v12.5a.25.25 0 01-.25.25H1.75a.25.25 0 01-.25-.25V1.75zM11.75 3a.75.75 0 00-.75.75v7.5a.75.75 0 001.5 0v-7.5a.75.75 0 00-.75-.75zm-8.25.75a.75.75 0 011.5 0v5.5a.75.75 0 01-1.5 0v-5.5zM8 3a.75.75 0 00-.75.75v3.5a.75.75 0 001.5 0v-3.5A.75.75 0 008 3z\" fill-rule=\"evenodd\"></path>\n",
       "</svg>\n",
       "<svg aria-label=\"Search\" class=\"octicon octicon-search js-jump-to-octicon-search d-none flex-shrink-0\" data-view-component=\"true\" height=\"16\" role=\"img\" title=\"Search\" version=\"1.1\" viewbox=\"0 0 16 16\" width=\"16\">\n",
       "<path d=\"M11.5 7a4.499 4.499 0 11-8.998 0A4.499 4.499 0 0111.5 7zm-.82 4.74a6 6 0 111.06-1.06l3.04 3.04a.75.75 0 11-1.06 1.06l-3.04-3.04z\" fill-rule=\"evenodd\"></path>\n",
       "</svg>\n",
       "</div>\n",
       "<img alt=\"\" aria-label=\"Team\" class=\"avatar mr-2 flex-shrink-0 js-jump-to-suggestion-avatar d-none\" height=\"28\" src=\"\" width=\"28\"/>\n",
       "<div class=\"jump-to-suggestion-name js-jump-to-suggestion-name flex-auto overflow-hidden text-left no-wrap css-truncate css-truncate-target\">\n",
       "</div>\n",
       "<div class=\"border rounded-2 flex-shrink-0 color-bg-subtle px-1 color-fg-muted ml-1 f6 d-none js-jump-to-badge-search\">\n",
       "<span aria-label=\"in this topic\" class=\"js-jump-to-badge-search-text-default d-none\">\n",
       "        In this topic\n",
       "      </span>\n",
       "<span aria-label=\"in all of GitHub\" class=\"js-jump-to-badge-search-text-global d-none\">\n",
       "        All GitHub\n",
       "      </span>\n",
       "<span aria-hidden=\"true\" class=\"d-inline-block ml-1 v-align-middle\">↵</span>\n",
       "</div>\n",
       "<div aria-hidden=\"true\" class=\"border rounded-2 flex-shrink-0 color-bg-subtle px-1 color-fg-muted ml-1 f6 d-none d-on-nav-focus js-jump-to-badge-jump\">\n",
       "      Jump to\n",
       "      <span class=\"d-inline-block ml-1 v-align-middle\">↵</span>\n",
       "</div>\n",
       "</a>\n",
       "</li>\n",
       "</ul>\n",
       "</div>\n",
       "</input></label>\n",
       "</form> </div>\n",
       "</div>\n",
       "</div>\n",
       "<div class=\"position-relative mr-3 mb-4 mb-lg-0 d-inline-block\">\n",
       "<a class=\"HeaderMenu-link flex-shrink-0 no-underline\" data-ga-click=\"(Logged out) Header, clicked Sign in, text:sign-in\" data-hydro-click='{\"event_type\":\"authentication.click\",\"payload\":{\"location_in_page\":\"site header menu\",\"repository_id\":null,\"auth_type\":\"SIGN_UP\",\"originating_url\":\"https://github.com/topics/beautiful-soup\",\"user_id\":null}}' data-hydro-click-hmac=\"2eb5d749c862af7a19cc856539801f8fb34346d234e96c0e911e0e45920ac106\" href=\"/login?return_to=https%3A%2F%2Fgithub.com%2Ftopics%2Fbeautiful-soup\">\n",
       "            Sign in\n",
       "          </a>\n",
       "</div>\n",
       "<a class=\"HeaderMenu-link flex-shrink-0 d-inline-block no-underline border color-border-default rounded px-2 py-1\" data-analytics-event='{\"category\":\"Sign up\",\"action\":\"click to sign up for account\",\"label\":\"ref_page:/topics/beautiful-soup;ref_cta:Sign up;ref_loc:header logged out\"}' data-hydro-click='{\"event_type\":\"authentication.click\",\"payload\":{\"location_in_page\":\"site header menu\",\"repository_id\":null,\"auth_type\":\"SIGN_UP\",\"originating_url\":\"https://github.com/topics/beautiful-soup\",\"user_id\":null}}' data-hydro-click-hmac=\"2eb5d749c862af7a19cc856539801f8fb34346d234e96c0e911e0e45920ac106\" href=\"/signup?ref_cta=Sign+up&amp;ref_loc=header+logged+out&amp;ref_page=%2Ftopics%2Fbeautiful-soup&amp;source=header\">\n",
       "            Sign up\n",
       "          </a>\n",
       "</div>\n",
       "</div>\n",
       "</div>\n",
       "</header>\n",
       "</div>"
      ]
     },
     "execution_count": 112,
     "metadata": {},
     "output_type": "execute_result"
    }
   ],
   "source": [
    "first_div=doc.find_all('div')\n",
    "\n",
    "first_div[0]"
   ]
  },
  {
   "cell_type": "code",
   "execution_count": 113,
   "id": "a123ce6e",
   "metadata": {},
   "outputs": [
    {
     "data": {
      "text/plain": [
       "<img alt=\"\" aria-label=\"Team\" class=\"avatar mr-2 flex-shrink-0 js-jump-to-suggestion-avatar d-none\" height=\"28\" src=\"\" width=\"28\"/>"
      ]
     },
     "execution_count": 113,
     "metadata": {},
     "output_type": "execute_result"
    }
   ],
   "source": [
    "first_img=doc.find('img')\n",
    "\n",
    "first_img"
   ]
  },
  {
   "cell_type": "code",
   "execution_count": 114,
   "id": "27165ccd",
   "metadata": {},
   "outputs": [
    {
     "data": {
      "text/plain": [
       "<span class=\"progress-pjax-loader js-pjax-loader-bar Progress position-fixed width-full\" data-view-component=\"true\">\n",
       "<span class=\"Progress-item progress-pjax-loader-bar left-0 top-0 color-bg-accent-emphasis\" data-view-component=\"true\" style=\"width: 0%;\"></span>\n",
       "</span>"
      ]
     },
     "execution_count": 114,
     "metadata": {},
     "output_type": "execute_result"
    }
   ],
   "source": [
    "first_span=doc.span\n",
    "\n",
    "first_span"
   ]
  },
  {
   "cell_type": "code",
   "execution_count": 115,
   "id": "95413187",
   "metadata": {},
   "outputs": [
    {
     "data": {
      "text/plain": [
       "<p class=\"color-fg-muted mb-0\"><div>Python scripts for building 'Short Jokes' dataset, featured on Kaggle</div></p>"
      ]
     },
     "execution_count": 115,
     "metadata": {},
     "output_type": "execute_result"
    }
   ],
   "source": [
    "first_p=doc.find_all('p')\n",
    "first_p[0]"
   ]
  },
  {
   "cell_type": "code",
   "execution_count": 116,
   "id": "706bc356",
   "metadata": {},
   "outputs": [
    {
     "data": {
      "text/plain": [
       "6"
      ]
     },
     "execution_count": 116,
     "metadata": {},
     "output_type": "execute_result"
    }
   ],
   "source": [
    "all_images=doc.find_all('img')\n",
    "len(all_images)"
   ]
  },
  {
   "cell_type": "code",
   "execution_count": 117,
   "id": "4781475b",
   "metadata": {},
   "outputs": [
    {
     "data": {
      "text/plain": [
       "<img alt=\"lyrics_classification\" class=\"d-block width-full\" loading=\"lazy\" src=\"https://repository-images.githubusercontent.com/348480634/de5d5100-addc-11eb-8ef0-208d54c90af7\"/>"
      ]
     },
     "execution_count": 117,
     "metadata": {},
     "output_type": "execute_result"
    }
   ],
   "source": [
    "fifth_image=all_images[5]\n",
    "fifth_image\n"
   ]
  },
  {
   "cell_type": "code",
   "execution_count": 118,
   "id": "d399786e",
   "metadata": {},
   "outputs": [
    {
     "data": {
      "text/plain": [
       "'https://repository-images.githubusercontent.com/348480634/de5d5100-addc-11eb-8ef0-208d54c90af7'"
      ]
     },
     "execution_count": 118,
     "metadata": {},
     "output_type": "execute_result"
    }
   ],
   "source": [
    "fifth_image['src']"
   ]
  },
  {
   "cell_type": "code",
   "execution_count": 119,
   "id": "dfd689bc",
   "metadata": {},
   "outputs": [
    {
     "data": {
      "text/plain": [
       "'lyrics_classification'"
      ]
     },
     "execution_count": 119,
     "metadata": {},
     "output_type": "execute_result"
    }
   ],
   "source": [
    "fifth_image['alt']"
   ]
  },
  {
   "cell_type": "code",
   "execution_count": 120,
   "id": "de09b3cb",
   "metadata": {},
   "outputs": [],
   "source": [
    "topics=['data-analysis','python','deep-learning']"
   ]
  },
  {
   "cell_type": "code",
   "execution_count": 121,
   "id": "f5a25e32",
   "metadata": {},
   "outputs": [],
   "source": [
    "def scrape_topics(topics):\n",
    "    for topic in topics:\n",
    "        scrape_topic_repositories(topic)"
   ]
  },
  {
   "cell_type": "code",
   "execution_count": 122,
   "id": "9cf9925a",
   "metadata": {},
   "outputs": [
    {
     "name": "stdout",
     "output_type": "stream",
     "text": [
      "Top repositories for topic \"data-analysis\" written to file \"data-analysis.csv\"\n",
      "Top repositories for topic \"python\" written to file \"python.csv\"\n",
      "Top repositories for topic \"deep-learning\" written to file \"deep-learning.csv\"\n"
     ]
    }
   ],
   "source": [
    "scrape_topics(topics)"
   ]
  },
  {
   "cell_type": "code",
   "execution_count": 123,
   "id": "91d96d7d",
   "metadata": {},
   "outputs": [
    {
     "data": {
      "text/html": [
       "<div>\n",
       "<style scoped>\n",
       "    .dataframe tbody tr th:only-of-type {\n",
       "        vertical-align: middle;\n",
       "    }\n",
       "\n",
       "    .dataframe tbody tr th {\n",
       "        vertical-align: top;\n",
       "    }\n",
       "\n",
       "    .dataframe thead th {\n",
       "        text-align: right;\n",
       "    }\n",
       "</style>\n",
       "<table border=\"1\" class=\"dataframe\">\n",
       "  <thead>\n",
       "    <tr style=\"text-align: right;\">\n",
       "      <th></th>\n",
       "      <th>repository_name</th>\n",
       "      <th>owner_username</th>\n",
       "      <th>stars</th>\n",
       "      <th>repository_url</th>\n",
       "    </tr>\n",
       "  </thead>\n",
       "  <tbody>\n",
       "    <tr>\n",
       "      <th>0</th>\n",
       "      <td>scikit-learn</td>\n",
       "      <td>scikit-learn</td>\n",
       "      <td>50900</td>\n",
       "      <td>https://gitub.com/scikit-learn/scikit-learn</td>\n",
       "    </tr>\n",
       "    <tr>\n",
       "      <th>1</th>\n",
       "      <td>superset</td>\n",
       "      <td>apache</td>\n",
       "      <td>47300</td>\n",
       "      <td>https://gitub.com/apache/superset</td>\n",
       "    </tr>\n",
       "    <tr>\n",
       "      <th>2</th>\n",
       "      <td>pandas</td>\n",
       "      <td>pandas-dev</td>\n",
       "      <td>34700</td>\n",
       "      <td>https://gitub.com/pandas-dev/pandas</td>\n",
       "    </tr>\n",
       "    <tr>\n",
       "      <th>3</th>\n",
       "      <td>metabase</td>\n",
       "      <td>metabase</td>\n",
       "      <td>29300</td>\n",
       "      <td>https://gitub.com/metabase/metabase</td>\n",
       "    </tr>\n",
       "    <tr>\n",
       "      <th>4</th>\n",
       "      <td>AI-Expert-Roadmap</td>\n",
       "      <td>AMAI-GmbH</td>\n",
       "      <td>21100</td>\n",
       "      <td>https://gitub.com/AMAI-GmbH/AI-Expert-Roadmap</td>\n",
       "    </tr>\n",
       "    <tr>\n",
       "      <th>5</th>\n",
       "      <td>streamlit</td>\n",
       "      <td>streamlit</td>\n",
       "      <td>20200</td>\n",
       "      <td>https://gitub.com/streamlit/streamlit</td>\n",
       "    </tr>\n",
       "    <tr>\n",
       "      <th>6</th>\n",
       "      <td>CyberChef</td>\n",
       "      <td>gchq</td>\n",
       "      <td>17100</td>\n",
       "      <td>https://gitub.com/gchq/CyberChef</td>\n",
       "    </tr>\n",
       "    <tr>\n",
       "      <th>7</th>\n",
       "      <td>Data-Science-For-Beginners</td>\n",
       "      <td>microsoft</td>\n",
       "      <td>15700</td>\n",
       "      <td>https://gitub.com/microsoft/Data-Science-For-B...</td>\n",
       "    </tr>\n",
       "    <tr>\n",
       "      <th>8</th>\n",
       "      <td>goaccess</td>\n",
       "      <td>allinurl</td>\n",
       "      <td>15000</td>\n",
       "      <td>https://gitub.com/allinurl/goaccess</td>\n",
       "    </tr>\n",
       "    <tr>\n",
       "      <th>9</th>\n",
       "      <td>best-of-ml-python</td>\n",
       "      <td>ml-tooling</td>\n",
       "      <td>11300</td>\n",
       "      <td>https://gitub.com/ml-tooling/best-of-ml-python</td>\n",
       "    </tr>\n",
       "    <tr>\n",
       "      <th>10</th>\n",
       "      <td>pandas-profiling</td>\n",
       "      <td>ydataai</td>\n",
       "      <td>9300</td>\n",
       "      <td>https://gitub.com/ydataai/pandas-profiling</td>\n",
       "    </tr>\n",
       "    <tr>\n",
       "      <th>11</th>\n",
       "      <td>OpenRefine</td>\n",
       "      <td>OpenRefine</td>\n",
       "      <td>8900</td>\n",
       "      <td>https://gitub.com/OpenRefine/OpenRefine</td>\n",
       "    </tr>\n",
       "    <tr>\n",
       "      <th>12</th>\n",
       "      <td>mlcourse.ai</td>\n",
       "      <td>Yorko</td>\n",
       "      <td>8300</td>\n",
       "      <td>https://gitub.com/Yorko/mlcourse.ai</td>\n",
       "    </tr>\n",
       "    <tr>\n",
       "      <th>13</th>\n",
       "      <td>gradio</td>\n",
       "      <td>gradio-app</td>\n",
       "      <td>8200</td>\n",
       "      <td>https://gitub.com/gradio-app/gradio</td>\n",
       "    </tr>\n",
       "    <tr>\n",
       "      <th>14</th>\n",
       "      <td>pandas_exercises</td>\n",
       "      <td>guipsamora</td>\n",
       "      <td>8000</td>\n",
       "      <td>https://gitub.com/guipsamora/pandas_exercises</td>\n",
       "    </tr>\n",
       "    <tr>\n",
       "      <th>15</th>\n",
       "      <td>statsmodels</td>\n",
       "      <td>statsmodels</td>\n",
       "      <td>7600</td>\n",
       "      <td>https://gitub.com/statsmodels/statsmodels</td>\n",
       "    </tr>\n",
       "    <tr>\n",
       "      <th>16</th>\n",
       "      <td>airbyte</td>\n",
       "      <td>airbytehq</td>\n",
       "      <td>7500</td>\n",
       "      <td>https://gitub.com/airbytehq/airbyte</td>\n",
       "    </tr>\n",
       "    <tr>\n",
       "      <th>17</th>\n",
       "      <td>dataease</td>\n",
       "      <td>dataease</td>\n",
       "      <td>6300</td>\n",
       "      <td>https://gitub.com/dataease/dataease</td>\n",
       "    </tr>\n",
       "    <tr>\n",
       "      <th>18</th>\n",
       "      <td>pyod</td>\n",
       "      <td>yzhao062</td>\n",
       "      <td>6000</td>\n",
       "      <td>https://gitub.com/yzhao062/pyod</td>\n",
       "    </tr>\n",
       "    <tr>\n",
       "      <th>19</th>\n",
       "      <td>imbalanced-learn</td>\n",
       "      <td>scikit-learn-contrib</td>\n",
       "      <td>6000</td>\n",
       "      <td>https://gitub.com/scikit-learn-contrib/imbalan...</td>\n",
       "    </tr>\n",
       "    <tr>\n",
       "      <th>20</th>\n",
       "      <td>gonum</td>\n",
       "      <td>gonum</td>\n",
       "      <td>6000</td>\n",
       "      <td>https://gitub.com/gonum/gonum</td>\n",
       "    </tr>\n",
       "    <tr>\n",
       "      <th>21</th>\n",
       "      <td>alluxio</td>\n",
       "      <td>Alluxio</td>\n",
       "      <td>5800</td>\n",
       "      <td>https://gitub.com/Alluxio/alluxio</td>\n",
       "    </tr>\n",
       "    <tr>\n",
       "      <th>22</th>\n",
       "      <td>pachyderm</td>\n",
       "      <td>pachyderm</td>\n",
       "      <td>5600</td>\n",
       "      <td>https://gitub.com/pachyderm/pachyderm</td>\n",
       "    </tr>\n",
       "    <tr>\n",
       "      <th>23</th>\n",
       "      <td>Data-Analysis-and-Machine-Learning-Projects</td>\n",
       "      <td>rhiever</td>\n",
       "      <td>5300</td>\n",
       "      <td>https://gitub.com/rhiever/Data-Analysis-and-Ma...</td>\n",
       "    </tr>\n",
       "    <tr>\n",
       "      <th>24</th>\n",
       "      <td>akshare</td>\n",
       "      <td>akfamily</td>\n",
       "      <td>5200</td>\n",
       "      <td>https://gitub.com/akfamily/akshare</td>\n",
       "    </tr>\n",
       "    <tr>\n",
       "      <th>25</th>\n",
       "      <td>Ai-Learn</td>\n",
       "      <td>tangyudi</td>\n",
       "      <td>5200</td>\n",
       "      <td>https://gitub.com/tangyudi/Ai-Learn</td>\n",
       "    </tr>\n",
       "    <tr>\n",
       "      <th>26</th>\n",
       "      <td>knowledge-repo</td>\n",
       "      <td>airbnb</td>\n",
       "      <td>5200</td>\n",
       "      <td>https://gitub.com/airbnb/knowledge-repo</td>\n",
       "    </tr>\n",
       "    <tr>\n",
       "      <th>27</th>\n",
       "      <td>awesome-R</td>\n",
       "      <td>qinwf</td>\n",
       "      <td>5100</td>\n",
       "      <td>https://gitub.com/qinwf/awesome-R</td>\n",
       "    </tr>\n",
       "    <tr>\n",
       "      <th>28</th>\n",
       "      <td>cudf</td>\n",
       "      <td>rapidsai</td>\n",
       "      <td>4900</td>\n",
       "      <td>https://gitub.com/rapidsai/cudf</td>\n",
       "    </tr>\n",
       "    <tr>\n",
       "      <th>29</th>\n",
       "      <td>weibospider</td>\n",
       "      <td>SpiderClub</td>\n",
       "      <td>4700</td>\n",
       "      <td>https://gitub.com/SpiderClub/weibospider</td>\n",
       "    </tr>\n",
       "  </tbody>\n",
       "</table>\n",
       "</div>"
      ],
      "text/plain": [
       "                                repository_name        owner_username  stars  \\\n",
       "0                                  scikit-learn          scikit-learn  50900   \n",
       "1                                      superset                apache  47300   \n",
       "2                                        pandas            pandas-dev  34700   \n",
       "3                                      metabase              metabase  29300   \n",
       "4                             AI-Expert-Roadmap             AMAI-GmbH  21100   \n",
       "5                                     streamlit             streamlit  20200   \n",
       "6                                     CyberChef                  gchq  17100   \n",
       "7                    Data-Science-For-Beginners             microsoft  15700   \n",
       "8                                      goaccess              allinurl  15000   \n",
       "9                             best-of-ml-python            ml-tooling  11300   \n",
       "10                             pandas-profiling               ydataai   9300   \n",
       "11                                   OpenRefine            OpenRefine   8900   \n",
       "12                                  mlcourse.ai                 Yorko   8300   \n",
       "13                                       gradio            gradio-app   8200   \n",
       "14                             pandas_exercises            guipsamora   8000   \n",
       "15                                  statsmodels           statsmodels   7600   \n",
       "16                                      airbyte             airbytehq   7500   \n",
       "17                                     dataease              dataease   6300   \n",
       "18                                         pyod              yzhao062   6000   \n",
       "19                             imbalanced-learn  scikit-learn-contrib   6000   \n",
       "20                                        gonum                 gonum   6000   \n",
       "21                                      alluxio               Alluxio   5800   \n",
       "22                                    pachyderm             pachyderm   5600   \n",
       "23  Data-Analysis-and-Machine-Learning-Projects               rhiever   5300   \n",
       "24                                      akshare              akfamily   5200   \n",
       "25                                     Ai-Learn              tangyudi   5200   \n",
       "26                               knowledge-repo                airbnb   5200   \n",
       "27                                    awesome-R                 qinwf   5100   \n",
       "28                                         cudf              rapidsai   4900   \n",
       "29                                  weibospider            SpiderClub   4700   \n",
       "\n",
       "                                       repository_url  \n",
       "0         https://gitub.com/scikit-learn/scikit-learn  \n",
       "1                   https://gitub.com/apache/superset  \n",
       "2                 https://gitub.com/pandas-dev/pandas  \n",
       "3                 https://gitub.com/metabase/metabase  \n",
       "4       https://gitub.com/AMAI-GmbH/AI-Expert-Roadmap  \n",
       "5               https://gitub.com/streamlit/streamlit  \n",
       "6                    https://gitub.com/gchq/CyberChef  \n",
       "7   https://gitub.com/microsoft/Data-Science-For-B...  \n",
       "8                 https://gitub.com/allinurl/goaccess  \n",
       "9      https://gitub.com/ml-tooling/best-of-ml-python  \n",
       "10         https://gitub.com/ydataai/pandas-profiling  \n",
       "11            https://gitub.com/OpenRefine/OpenRefine  \n",
       "12                https://gitub.com/Yorko/mlcourse.ai  \n",
       "13                https://gitub.com/gradio-app/gradio  \n",
       "14      https://gitub.com/guipsamora/pandas_exercises  \n",
       "15          https://gitub.com/statsmodels/statsmodels  \n",
       "16                https://gitub.com/airbytehq/airbyte  \n",
       "17                https://gitub.com/dataease/dataease  \n",
       "18                    https://gitub.com/yzhao062/pyod  \n",
       "19  https://gitub.com/scikit-learn-contrib/imbalan...  \n",
       "20                      https://gitub.com/gonum/gonum  \n",
       "21                  https://gitub.com/Alluxio/alluxio  \n",
       "22              https://gitub.com/pachyderm/pachyderm  \n",
       "23  https://gitub.com/rhiever/Data-Analysis-and-Ma...  \n",
       "24                 https://gitub.com/akfamily/akshare  \n",
       "25                https://gitub.com/tangyudi/Ai-Learn  \n",
       "26            https://gitub.com/airbnb/knowledge-repo  \n",
       "27                  https://gitub.com/qinwf/awesome-R  \n",
       "28                    https://gitub.com/rapidsai/cudf  \n",
       "29           https://gitub.com/SpiderClub/weibospider  "
      ]
     },
     "execution_count": 123,
     "metadata": {},
     "output_type": "execute_result"
    }
   ],
   "source": [
    "pd.read_csv('data-analysis.csv')"
   ]
  },
  {
   "cell_type": "code",
   "execution_count": 124,
   "id": "d6a14779",
   "metadata": {},
   "outputs": [
    {
     "data": {
      "text/html": [
       "<div>\n",
       "<style scoped>\n",
       "    .dataframe tbody tr th:only-of-type {\n",
       "        vertical-align: middle;\n",
       "    }\n",
       "\n",
       "    .dataframe tbody tr th {\n",
       "        vertical-align: top;\n",
       "    }\n",
       "\n",
       "    .dataframe thead th {\n",
       "        text-align: right;\n",
       "    }\n",
       "</style>\n",
       "<table border=\"1\" class=\"dataframe\">\n",
       "  <thead>\n",
       "    <tr style=\"text-align: right;\">\n",
       "      <th></th>\n",
       "      <th>repository_name</th>\n",
       "      <th>owner_username</th>\n",
       "      <th>stars</th>\n",
       "      <th>repository_url</th>\n",
       "    </tr>\n",
       "  </thead>\n",
       "  <tbody>\n",
       "    <tr>\n",
       "      <th>0</th>\n",
       "      <td>system-design-primer</td>\n",
       "      <td>donnemartin</td>\n",
       "      <td>191000</td>\n",
       "      <td>https://gitub.com/donnemartin/system-design-pr...</td>\n",
       "    </tr>\n",
       "    <tr>\n",
       "      <th>1</th>\n",
       "      <td>tensorflow</td>\n",
       "      <td>tensorflow</td>\n",
       "      <td>167000</td>\n",
       "      <td>https://gitub.com/tensorflow/tensorflow</td>\n",
       "    </tr>\n",
       "    <tr>\n",
       "      <th>2</th>\n",
       "      <td>CS-Notes</td>\n",
       "      <td>CyC2018</td>\n",
       "      <td>155000</td>\n",
       "      <td>https://gitub.com/CyC2018/CS-Notes</td>\n",
       "    </tr>\n",
       "    <tr>\n",
       "      <th>3</th>\n",
       "      <td>Python</td>\n",
       "      <td>TheAlgorithms</td>\n",
       "      <td>141000</td>\n",
       "      <td>https://gitub.com/TheAlgorithms/Python</td>\n",
       "    </tr>\n",
       "    <tr>\n",
       "      <th>4</th>\n",
       "      <td>awesome-python</td>\n",
       "      <td>vinta</td>\n",
       "      <td>136000</td>\n",
       "      <td>https://gitub.com/vinta/awesome-python</td>\n",
       "    </tr>\n",
       "    <tr>\n",
       "      <th>5</th>\n",
       "      <td>free-programming-books-zh_CN</td>\n",
       "      <td>justjavac</td>\n",
       "      <td>94700</td>\n",
       "      <td>https://gitub.com/justjavac/free-programming-b...</td>\n",
       "    </tr>\n",
       "    <tr>\n",
       "      <th>6</th>\n",
       "      <td>project-based-learning</td>\n",
       "      <td>practical-tutorials</td>\n",
       "      <td>74300</td>\n",
       "      <td>https://gitub.com/practical-tutorials/project-...</td>\n",
       "    </tr>\n",
       "    <tr>\n",
       "      <th>7</th>\n",
       "      <td>thefuck</td>\n",
       "      <td>nvbn</td>\n",
       "      <td>72600</td>\n",
       "      <td>https://gitub.com/nvbn/thefuck</td>\n",
       "    </tr>\n",
       "    <tr>\n",
       "      <th>8</th>\n",
       "      <td>transformers</td>\n",
       "      <td>huggingface</td>\n",
       "      <td>67800</td>\n",
       "      <td>https://gitub.com/huggingface/transformers</td>\n",
       "    </tr>\n",
       "    <tr>\n",
       "      <th>9</th>\n",
       "      <td>django</td>\n",
       "      <td>django</td>\n",
       "      <td>65500</td>\n",
       "      <td>https://gitub.com/django/django</td>\n",
       "    </tr>\n",
       "    <tr>\n",
       "      <th>10</th>\n",
       "      <td>flask</td>\n",
       "      <td>pallets</td>\n",
       "      <td>60100</td>\n",
       "      <td>https://gitub.com/pallets/flask</td>\n",
       "    </tr>\n",
       "    <tr>\n",
       "      <th>11</th>\n",
       "      <td>HelloGitHub</td>\n",
       "      <td>521xueweihan</td>\n",
       "      <td>57900</td>\n",
       "      <td>https://gitub.com/521xueweihan/HelloGitHub</td>\n",
       "    </tr>\n",
       "    <tr>\n",
       "      <th>12</th>\n",
       "      <td>pytorch</td>\n",
       "      <td>pytorch</td>\n",
       "      <td>57700</td>\n",
       "      <td>https://gitub.com/pytorch/pytorch</td>\n",
       "    </tr>\n",
       "    <tr>\n",
       "      <th>13</th>\n",
       "      <td>keras</td>\n",
       "      <td>keras-team</td>\n",
       "      <td>55800</td>\n",
       "      <td>https://gitub.com/keras-team/keras</td>\n",
       "    </tr>\n",
       "    <tr>\n",
       "      <th>14</th>\n",
       "      <td>core</td>\n",
       "      <td>home-assistant</td>\n",
       "      <td>54300</td>\n",
       "      <td>https://gitub.com/home-assistant/core</td>\n",
       "    </tr>\n",
       "    <tr>\n",
       "      <th>15</th>\n",
       "      <td>ansible</td>\n",
       "      <td>ansible</td>\n",
       "      <td>54000</td>\n",
       "      <td>https://gitub.com/ansible/ansible</td>\n",
       "    </tr>\n",
       "    <tr>\n",
       "      <th>16</th>\n",
       "      <td>scikit-learn</td>\n",
       "      <td>scikit-learn</td>\n",
       "      <td>50900</td>\n",
       "      <td>https://gitub.com/scikit-learn/scikit-learn</td>\n",
       "    </tr>\n",
       "    <tr>\n",
       "      <th>17</th>\n",
       "      <td>leetcode</td>\n",
       "      <td>azl397985856</td>\n",
       "      <td>48900</td>\n",
       "      <td>https://gitub.com/azl397985856/leetcode</td>\n",
       "    </tr>\n",
       "    <tr>\n",
       "      <th>18</th>\n",
       "      <td>requests</td>\n",
       "      <td>psf</td>\n",
       "      <td>48000</td>\n",
       "      <td>https://gitub.com/psf/requests</td>\n",
       "    </tr>\n",
       "    <tr>\n",
       "      <th>19</th>\n",
       "      <td>fastapi</td>\n",
       "      <td>tiangolo</td>\n",
       "      <td>47900</td>\n",
       "      <td>https://gitub.com/tiangolo/fastapi</td>\n",
       "    </tr>\n",
       "    <tr>\n",
       "      <th>20</th>\n",
       "      <td>superset</td>\n",
       "      <td>apache</td>\n",
       "      <td>47300</td>\n",
       "      <td>https://gitub.com/apache/superset</td>\n",
       "    </tr>\n",
       "    <tr>\n",
       "      <th>21</th>\n",
       "      <td>manim</td>\n",
       "      <td>3b1b</td>\n",
       "      <td>46100</td>\n",
       "      <td>https://gitub.com/3b1b/manim</td>\n",
       "    </tr>\n",
       "    <tr>\n",
       "      <th>22</th>\n",
       "      <td>face_recognition</td>\n",
       "      <td>ageitgey</td>\n",
       "      <td>45400</td>\n",
       "      <td>https://gitub.com/ageitgey/face_recognition</td>\n",
       "    </tr>\n",
       "    <tr>\n",
       "      <th>23</th>\n",
       "      <td>scrapy</td>\n",
       "      <td>scrapy</td>\n",
       "      <td>44200</td>\n",
       "      <td>https://gitub.com/scrapy/scrapy</td>\n",
       "    </tr>\n",
       "    <tr>\n",
       "      <th>24</th>\n",
       "      <td>localstack</td>\n",
       "      <td>localstack</td>\n",
       "      <td>42500</td>\n",
       "      <td>https://gitub.com/localstack/localstack</td>\n",
       "    </tr>\n",
       "    <tr>\n",
       "      <th>25</th>\n",
       "      <td>TensorFlow-Examples</td>\n",
       "      <td>aymericdamien</td>\n",
       "      <td>42100</td>\n",
       "      <td>https://gitub.com/aymericdamien/TensorFlow-Exa...</td>\n",
       "    </tr>\n",
       "    <tr>\n",
       "      <th>26</th>\n",
       "      <td>ML-For-Beginners</td>\n",
       "      <td>microsoft</td>\n",
       "      <td>40000</td>\n",
       "      <td>https://gitub.com/microsoft/ML-For-Beginners</td>\n",
       "    </tr>\n",
       "    <tr>\n",
       "      <th>27</th>\n",
       "      <td>rich</td>\n",
       "      <td>Textualize</td>\n",
       "      <td>38900</td>\n",
       "      <td>https://gitub.com/Textualize/rich</td>\n",
       "    </tr>\n",
       "    <tr>\n",
       "      <th>28</th>\n",
       "      <td>100-Days-Of-ML-Code</td>\n",
       "      <td>Avik-Jain</td>\n",
       "      <td>38100</td>\n",
       "      <td>https://gitub.com/Avik-Jain/100-Days-Of-ML-Code</td>\n",
       "    </tr>\n",
       "    <tr>\n",
       "      <th>29</th>\n",
       "      <td>nerd-fonts</td>\n",
       "      <td>ryanoasis</td>\n",
       "      <td>37200</td>\n",
       "      <td>https://gitub.com/ryanoasis/nerd-fonts</td>\n",
       "    </tr>\n",
       "  </tbody>\n",
       "</table>\n",
       "</div>"
      ],
      "text/plain": [
       "                 repository_name       owner_username   stars  \\\n",
       "0           system-design-primer          donnemartin  191000   \n",
       "1                     tensorflow           tensorflow  167000   \n",
       "2                       CS-Notes              CyC2018  155000   \n",
       "3                         Python        TheAlgorithms  141000   \n",
       "4                 awesome-python                vinta  136000   \n",
       "5   free-programming-books-zh_CN            justjavac   94700   \n",
       "6         project-based-learning  practical-tutorials   74300   \n",
       "7                        thefuck                 nvbn   72600   \n",
       "8                   transformers          huggingface   67800   \n",
       "9                         django               django   65500   \n",
       "10                         flask              pallets   60100   \n",
       "11                   HelloGitHub         521xueweihan   57900   \n",
       "12                       pytorch              pytorch   57700   \n",
       "13                         keras           keras-team   55800   \n",
       "14                          core       home-assistant   54300   \n",
       "15                       ansible              ansible   54000   \n",
       "16                  scikit-learn         scikit-learn   50900   \n",
       "17                      leetcode         azl397985856   48900   \n",
       "18                      requests                  psf   48000   \n",
       "19                       fastapi             tiangolo   47900   \n",
       "20                      superset               apache   47300   \n",
       "21                         manim                 3b1b   46100   \n",
       "22              face_recognition             ageitgey   45400   \n",
       "23                        scrapy               scrapy   44200   \n",
       "24                    localstack           localstack   42500   \n",
       "25           TensorFlow-Examples        aymericdamien   42100   \n",
       "26              ML-For-Beginners            microsoft   40000   \n",
       "27                          rich           Textualize   38900   \n",
       "28           100-Days-Of-ML-Code            Avik-Jain   38100   \n",
       "29                    nerd-fonts            ryanoasis   37200   \n",
       "\n",
       "                                       repository_url  \n",
       "0   https://gitub.com/donnemartin/system-design-pr...  \n",
       "1             https://gitub.com/tensorflow/tensorflow  \n",
       "2                  https://gitub.com/CyC2018/CS-Notes  \n",
       "3              https://gitub.com/TheAlgorithms/Python  \n",
       "4              https://gitub.com/vinta/awesome-python  \n",
       "5   https://gitub.com/justjavac/free-programming-b...  \n",
       "6   https://gitub.com/practical-tutorials/project-...  \n",
       "7                      https://gitub.com/nvbn/thefuck  \n",
       "8          https://gitub.com/huggingface/transformers  \n",
       "9                     https://gitub.com/django/django  \n",
       "10                    https://gitub.com/pallets/flask  \n",
       "11         https://gitub.com/521xueweihan/HelloGitHub  \n",
       "12                  https://gitub.com/pytorch/pytorch  \n",
       "13                 https://gitub.com/keras-team/keras  \n",
       "14              https://gitub.com/home-assistant/core  \n",
       "15                  https://gitub.com/ansible/ansible  \n",
       "16        https://gitub.com/scikit-learn/scikit-learn  \n",
       "17            https://gitub.com/azl397985856/leetcode  \n",
       "18                     https://gitub.com/psf/requests  \n",
       "19                 https://gitub.com/tiangolo/fastapi  \n",
       "20                  https://gitub.com/apache/superset  \n",
       "21                       https://gitub.com/3b1b/manim  \n",
       "22        https://gitub.com/ageitgey/face_recognition  \n",
       "23                    https://gitub.com/scrapy/scrapy  \n",
       "24            https://gitub.com/localstack/localstack  \n",
       "25  https://gitub.com/aymericdamien/TensorFlow-Exa...  \n",
       "26       https://gitub.com/microsoft/ML-For-Beginners  \n",
       "27                  https://gitub.com/Textualize/rich  \n",
       "28    https://gitub.com/Avik-Jain/100-Days-Of-ML-Code  \n",
       "29             https://gitub.com/ryanoasis/nerd-fonts  "
      ]
     },
     "execution_count": 124,
     "metadata": {},
     "output_type": "execute_result"
    }
   ],
   "source": [
    "pd.read_csv('python.csv')"
   ]
  },
  {
   "cell_type": "code",
   "execution_count": 125,
   "id": "ea2c14fa",
   "metadata": {},
   "outputs": [
    {
     "data": {
      "text/html": [
       "<div>\n",
       "<style scoped>\n",
       "    .dataframe tbody tr th:only-of-type {\n",
       "        vertical-align: middle;\n",
       "    }\n",
       "\n",
       "    .dataframe tbody tr th {\n",
       "        vertical-align: top;\n",
       "    }\n",
       "\n",
       "    .dataframe thead th {\n",
       "        text-align: right;\n",
       "    }\n",
       "</style>\n",
       "<table border=\"1\" class=\"dataframe\">\n",
       "  <thead>\n",
       "    <tr style=\"text-align: right;\">\n",
       "      <th></th>\n",
       "      <th>repository_name</th>\n",
       "      <th>owner_username</th>\n",
       "      <th>stars</th>\n",
       "      <th>repository_url</th>\n",
       "    </tr>\n",
       "  </thead>\n",
       "  <tbody>\n",
       "    <tr>\n",
       "      <th>0</th>\n",
       "      <td>tensorflow</td>\n",
       "      <td>tensorflow</td>\n",
       "      <td>167000</td>\n",
       "      <td>https://gitub.com/tensorflow/tensorflow</td>\n",
       "    </tr>\n",
       "    <tr>\n",
       "      <th>1</th>\n",
       "      <td>transformers</td>\n",
       "      <td>huggingface</td>\n",
       "      <td>67800</td>\n",
       "      <td>https://gitub.com/huggingface/transformers</td>\n",
       "    </tr>\n",
       "    <tr>\n",
       "      <th>2</th>\n",
       "      <td>opencv</td>\n",
       "      <td>opencv</td>\n",
       "      <td>63000</td>\n",
       "      <td>https://gitub.com/opencv/opencv</td>\n",
       "    </tr>\n",
       "    <tr>\n",
       "      <th>3</th>\n",
       "      <td>pytorch</td>\n",
       "      <td>pytorch</td>\n",
       "      <td>57700</td>\n",
       "      <td>https://gitub.com/pytorch/pytorch</td>\n",
       "    </tr>\n",
       "    <tr>\n",
       "      <th>4</th>\n",
       "      <td>keras</td>\n",
       "      <td>keras-team</td>\n",
       "      <td>55800</td>\n",
       "      <td>https://gitub.com/keras-team/keras</td>\n",
       "    </tr>\n",
       "    <tr>\n",
       "      <th>5</th>\n",
       "      <td>TensorFlow-Examples</td>\n",
       "      <td>aymericdamien</td>\n",
       "      <td>42100</td>\n",
       "      <td>https://gitub.com/aymericdamien/TensorFlow-Exa...</td>\n",
       "    </tr>\n",
       "    <tr>\n",
       "      <th>6</th>\n",
       "      <td>faceswap</td>\n",
       "      <td>deepfakes</td>\n",
       "      <td>41900</td>\n",
       "      <td>https://gitub.com/deepfakes/faceswap</td>\n",
       "    </tr>\n",
       "    <tr>\n",
       "      <th>7</th>\n",
       "      <td>100-Days-Of-ML-Code</td>\n",
       "      <td>Avik-Jain</td>\n",
       "      <td>38100</td>\n",
       "      <td>https://gitub.com/Avik-Jain/100-Days-Of-ML-Code</td>\n",
       "    </tr>\n",
       "    <tr>\n",
       "      <th>8</th>\n",
       "      <td>Real-Time-Voice-Cloning</td>\n",
       "      <td>CorentinJ</td>\n",
       "      <td>35900</td>\n",
       "      <td>https://gitub.com/CorentinJ/Real-Time-Voice-Cl...</td>\n",
       "    </tr>\n",
       "    <tr>\n",
       "      <th>9</th>\n",
       "      <td>DeepFaceLab</td>\n",
       "      <td>iperov</td>\n",
       "      <td>34100</td>\n",
       "      <td>https://gitub.com/iperov/DeepFaceLab</td>\n",
       "    </tr>\n",
       "    <tr>\n",
       "      <th>10</th>\n",
       "      <td>d2l-zh</td>\n",
       "      <td>d2l-ai</td>\n",
       "      <td>34100</td>\n",
       "      <td>https://gitub.com/d2l-ai/d2l-zh</td>\n",
       "    </tr>\n",
       "    <tr>\n",
       "      <th>11</th>\n",
       "      <td>Deep-Learning-Papers-Reading-Roadmap</td>\n",
       "      <td>floodsung</td>\n",
       "      <td>32900</td>\n",
       "      <td>https://gitub.com/floodsung/Deep-Learning-Pape...</td>\n",
       "    </tr>\n",
       "    <tr>\n",
       "      <th>12</th>\n",
       "      <td>caffe</td>\n",
       "      <td>BVLC</td>\n",
       "      <td>32800</td>\n",
       "      <td>https://gitub.com/BVLC/caffe</td>\n",
       "    </tr>\n",
       "    <tr>\n",
       "      <th>13</th>\n",
       "      <td>Made-With-ML</td>\n",
       "      <td>GokuMohandas</td>\n",
       "      <td>30500</td>\n",
       "      <td>https://gitub.com/GokuMohandas/Made-With-ML</td>\n",
       "    </tr>\n",
       "    <tr>\n",
       "      <th>14</th>\n",
       "      <td>yolov5</td>\n",
       "      <td>ultralytics</td>\n",
       "      <td>29500</td>\n",
       "      <td>https://gitub.com/ultralytics/yolov5</td>\n",
       "    </tr>\n",
       "    <tr>\n",
       "      <th>15</th>\n",
       "      <td>tesseract.js</td>\n",
       "      <td>naptha</td>\n",
       "      <td>27300</td>\n",
       "      <td>https://gitub.com/naptha/tesseract.js</td>\n",
       "    </tr>\n",
       "    <tr>\n",
       "      <th>16</th>\n",
       "      <td>machine-learning-for-software-engineers</td>\n",
       "      <td>ZuzooVn</td>\n",
       "      <td>26000</td>\n",
       "      <td>https://gitub.com/ZuzooVn/machine-learning-for...</td>\n",
       "    </tr>\n",
       "    <tr>\n",
       "      <th>17</th>\n",
       "      <td>handson-ml</td>\n",
       "      <td>ageron</td>\n",
       "      <td>24600</td>\n",
       "      <td>https://gitub.com/ageron/handson-ml</td>\n",
       "    </tr>\n",
       "    <tr>\n",
       "      <th>18</th>\n",
       "      <td>openpose</td>\n",
       "      <td>CMU-Perceptual-Computing-Lab</td>\n",
       "      <td>24600</td>\n",
       "      <td>https://gitub.com/CMU-Perceptual-Computing-Lab...</td>\n",
       "    </tr>\n",
       "    <tr>\n",
       "      <th>19</th>\n",
       "      <td>pytorch-tutorial</td>\n",
       "      <td>yunjey</td>\n",
       "      <td>24400</td>\n",
       "      <td>https://gitub.com/yunjey/pytorch-tutorial</td>\n",
       "    </tr>\n",
       "    <tr>\n",
       "      <th>20</th>\n",
       "      <td>spaCy</td>\n",
       "      <td>explosion</td>\n",
       "      <td>23900</td>\n",
       "      <td>https://gitub.com/explosion/spaCy</td>\n",
       "    </tr>\n",
       "    <tr>\n",
       "      <th>21</th>\n",
       "      <td>awesome-deep-learning-papers</td>\n",
       "      <td>terryum</td>\n",
       "      <td>23900</td>\n",
       "      <td>https://gitub.com/terryum/awesome-deep-learnin...</td>\n",
       "    </tr>\n",
       "    <tr>\n",
       "      <th>22</th>\n",
       "      <td>MockingBird</td>\n",
       "      <td>babysor</td>\n",
       "      <td>23500</td>\n",
       "      <td>https://gitub.com/babysor/MockingBird</td>\n",
       "    </tr>\n",
       "    <tr>\n",
       "      <th>23</th>\n",
       "      <td>data-science-ipython-notebooks</td>\n",
       "      <td>donnemartin</td>\n",
       "      <td>23400</td>\n",
       "      <td>https://gitub.com/donnemartin/data-science-ipy...</td>\n",
       "    </tr>\n",
       "    <tr>\n",
       "      <th>24</th>\n",
       "      <td>fastai</td>\n",
       "      <td>fastai</td>\n",
       "      <td>22600</td>\n",
       "      <td>https://gitub.com/fastai/fastai</td>\n",
       "    </tr>\n",
       "    <tr>\n",
       "      <th>25</th>\n",
       "      <td>ray</td>\n",
       "      <td>ray-project</td>\n",
       "      <td>21400</td>\n",
       "      <td>https://gitub.com/ray-project/ray</td>\n",
       "    </tr>\n",
       "    <tr>\n",
       "      <th>26</th>\n",
       "      <td>ML-From-Scratch</td>\n",
       "      <td>eriklindernoren</td>\n",
       "      <td>21300</td>\n",
       "      <td>https://gitub.com/eriklindernoren/ML-From-Scratch</td>\n",
       "    </tr>\n",
       "    <tr>\n",
       "      <th>27</th>\n",
       "      <td>AI-Expert-Roadmap</td>\n",
       "      <td>AMAI-GmbH</td>\n",
       "      <td>21100</td>\n",
       "      <td>https://gitub.com/AMAI-GmbH/AI-Expert-Roadmap</td>\n",
       "    </tr>\n",
       "    <tr>\n",
       "      <th>28</th>\n",
       "      <td>GFPGAN</td>\n",
       "      <td>TencentARC</td>\n",
       "      <td>20600</td>\n",
       "      <td>https://gitub.com/TencentARC/GFPGAN</td>\n",
       "    </tr>\n",
       "    <tr>\n",
       "      <th>29</th>\n",
       "      <td>applied-ml</td>\n",
       "      <td>eugeneyan</td>\n",
       "      <td>20400</td>\n",
       "      <td>https://gitub.com/eugeneyan/applied-ml</td>\n",
       "    </tr>\n",
       "  </tbody>\n",
       "</table>\n",
       "</div>"
      ],
      "text/plain": [
       "                            repository_name                owner_username  \\\n",
       "0                                tensorflow                    tensorflow   \n",
       "1                              transformers                   huggingface   \n",
       "2                                    opencv                        opencv   \n",
       "3                                   pytorch                       pytorch   \n",
       "4                                     keras                    keras-team   \n",
       "5                       TensorFlow-Examples                 aymericdamien   \n",
       "6                                  faceswap                     deepfakes   \n",
       "7                       100-Days-Of-ML-Code                     Avik-Jain   \n",
       "8                   Real-Time-Voice-Cloning                     CorentinJ   \n",
       "9                               DeepFaceLab                        iperov   \n",
       "10                                   d2l-zh                        d2l-ai   \n",
       "11     Deep-Learning-Papers-Reading-Roadmap                     floodsung   \n",
       "12                                    caffe                          BVLC   \n",
       "13                             Made-With-ML                  GokuMohandas   \n",
       "14                                   yolov5                   ultralytics   \n",
       "15                             tesseract.js                        naptha   \n",
       "16  machine-learning-for-software-engineers                       ZuzooVn   \n",
       "17                               handson-ml                        ageron   \n",
       "18                                 openpose  CMU-Perceptual-Computing-Lab   \n",
       "19                         pytorch-tutorial                        yunjey   \n",
       "20                                    spaCy                     explosion   \n",
       "21             awesome-deep-learning-papers                       terryum   \n",
       "22                              MockingBird                       babysor   \n",
       "23           data-science-ipython-notebooks                   donnemartin   \n",
       "24                                   fastai                        fastai   \n",
       "25                                      ray                   ray-project   \n",
       "26                          ML-From-Scratch               eriklindernoren   \n",
       "27                        AI-Expert-Roadmap                     AMAI-GmbH   \n",
       "28                                   GFPGAN                    TencentARC   \n",
       "29                               applied-ml                     eugeneyan   \n",
       "\n",
       "     stars                                     repository_url  \n",
       "0   167000            https://gitub.com/tensorflow/tensorflow  \n",
       "1    67800         https://gitub.com/huggingface/transformers  \n",
       "2    63000                    https://gitub.com/opencv/opencv  \n",
       "3    57700                  https://gitub.com/pytorch/pytorch  \n",
       "4    55800                 https://gitub.com/keras-team/keras  \n",
       "5    42100  https://gitub.com/aymericdamien/TensorFlow-Exa...  \n",
       "6    41900               https://gitub.com/deepfakes/faceswap  \n",
       "7    38100    https://gitub.com/Avik-Jain/100-Days-Of-ML-Code  \n",
       "8    35900  https://gitub.com/CorentinJ/Real-Time-Voice-Cl...  \n",
       "9    34100               https://gitub.com/iperov/DeepFaceLab  \n",
       "10   34100                    https://gitub.com/d2l-ai/d2l-zh  \n",
       "11   32900  https://gitub.com/floodsung/Deep-Learning-Pape...  \n",
       "12   32800                       https://gitub.com/BVLC/caffe  \n",
       "13   30500        https://gitub.com/GokuMohandas/Made-With-ML  \n",
       "14   29500               https://gitub.com/ultralytics/yolov5  \n",
       "15   27300              https://gitub.com/naptha/tesseract.js  \n",
       "16   26000  https://gitub.com/ZuzooVn/machine-learning-for...  \n",
       "17   24600                https://gitub.com/ageron/handson-ml  \n",
       "18   24600  https://gitub.com/CMU-Perceptual-Computing-Lab...  \n",
       "19   24400          https://gitub.com/yunjey/pytorch-tutorial  \n",
       "20   23900                  https://gitub.com/explosion/spaCy  \n",
       "21   23900  https://gitub.com/terryum/awesome-deep-learnin...  \n",
       "22   23500              https://gitub.com/babysor/MockingBird  \n",
       "23   23400  https://gitub.com/donnemartin/data-science-ipy...  \n",
       "24   22600                    https://gitub.com/fastai/fastai  \n",
       "25   21400                  https://gitub.com/ray-project/ray  \n",
       "26   21300  https://gitub.com/eriklindernoren/ML-From-Scratch  \n",
       "27   21100      https://gitub.com/AMAI-GmbH/AI-Expert-Roadmap  \n",
       "28   20600                https://gitub.com/TencentARC/GFPGAN  \n",
       "29   20400             https://gitub.com/eugeneyan/applied-ml  "
      ]
     },
     "execution_count": 125,
     "metadata": {},
     "output_type": "execute_result"
    }
   ],
   "source": [
    "pd.read_csv('deep-learning.csv')"
   ]
  },
  {
   "cell_type": "code",
   "execution_count": null,
   "id": "a871b5dd",
   "metadata": {},
   "outputs": [],
   "source": []
  },
  {
   "cell_type": "code",
   "execution_count": null,
   "id": "c7344fee",
   "metadata": {},
   "outputs": [],
   "source": []
  },
  {
   "cell_type": "code",
   "execution_count": null,
   "id": "ce651d00",
   "metadata": {},
   "outputs": [],
   "source": []
  }
 ],
 "metadata": {
  "kernelspec": {
   "display_name": "Python 3 (ipykernel)",
   "language": "python",
   "name": "python3"
  },
  "language_info": {
   "codemirror_mode": {
    "name": "ipython",
    "version": 3
   },
   "file_extension": ".py",
   "mimetype": "text/x-python",
   "name": "python",
   "nbconvert_exporter": "python",
   "pygments_lexer": "ipython3",
   "version": "3.10.6"
  }
 },
 "nbformat": 4,
 "nbformat_minor": 5
}
